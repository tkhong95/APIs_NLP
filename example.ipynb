{
 "cells": [
  {
   "cell_type": "markdown",
   "id": "60684d56-7fbf-4d65-af80-c62597523188",
   "metadata": {
    "tags": []
   },
   "source": [
    "# PRAW\n",
    "---"
   ]
  },
  {
   "cell_type": "code",
   "execution_count": 1,
   "id": "a12bdca7-7417-415c-be11-102d81edcd7e",
   "metadata": {
    "tags": []
   },
   "outputs": [],
   "source": [
    "import praw"
   ]
  },
  {
   "cell_type": "code",
   "execution_count": 2,
   "id": "4bff9d43-98cc-4335-ab62-b4babe80bea1",
   "metadata": {
    "tags": []
   },
   "outputs": [],
   "source": [
    "reddit = praw.Reddit()"
   ]
  },
  {
   "cell_type": "code",
   "execution_count": 3,
   "id": "ad725969-2fad-469f-b591-ec51bff194d5",
   "metadata": {
    "tags": []
   },
   "outputs": [],
   "source": [
    "def get_reddit_post(posts):\n",
    "\n",
    "    posts_list = []\n",
    "\n",
    "    for post in posts: \n",
    "        if not post.over_18:\n",
    "            post.comments.replace_more(limit=0) #skip over additional links\n",
    "            highest_ups = -1\n",
    "            for comment in post.comments:\n",
    "                if comment.ups > highest_ups:\n",
    "                    best_comment = comment.body\n",
    "                    highest_ups = comment.ups\n",
    "\n",
    "            posts_list.append(\n",
    "                {'title':post.title,\n",
    "                'selftext': post.selftext,\n",
    "                'subreddit': post.subreddit,\n",
    "                'comments': post.comments,\n",
    "                'created_utc': post.created_utc,\n",
    "                'top_comment': best_comment, \n",
    "                'comment_upvotes': highest_ups}\n",
    "            )\n",
    "    return posts_list"
   ]
  },
  {
   "cell_type": "code",
   "execution_count": 4,
   "id": "4f310e1e-4d5d-4832-b94d-03a8ecf1e83f",
   "metadata": {
    "tags": []
   },
   "outputs": [],
   "source": [
    "my_subreddit = \"NoStupidQuestions\""
   ]
  },
  {
   "cell_type": "code",
   "execution_count": 5,
   "id": "fa3ce1e4-0774-4b91-a6c2-8d5f72bb021c",
   "metadata": {
    "tags": []
   },
   "outputs": [],
   "source": [
    "#posts_1 = reddit.subreddit(my_subreddit).hot(limit=500) \n",
    "#posts_list_1 = get_reddit_post(posts_1)"
   ]
  },
  {
   "cell_type": "code",
   "execution_count": 9,
   "id": "6dbc80ea-64b8-4b97-873f-360d84c3666d",
   "metadata": {
    "tags": []
   },
   "outputs": [
    {
     "data": {
      "text/plain": [
       "{'title': 'Why do I get more attention when I am wearing a ring?',\n",
       " 'selftext': \"Ok, so here's the info about the question above.\\n\\n27 yr old guy.\\nWhen I go to a bar, or any place that has alot of people, I don't get hit on or receive any attention. \\nThis week I have received  inheritance from my  maternal grandfather, (only grandkid on my mom side.) I have received his wedding ring. So I started to wear it or around my neck on a necklace to remember him by.\\nYesterday I wore it on my hand, and went to a bar, and started to notice that alot of women were coming to me and talk.\\nWhy is this happening?\\n\\n\\nEdit: thank you for the comments and insights about this situation,  moving forward I should not wear my grandpa's ring, so I wouldn't receive any known and unknown attention,  I don't want to be in a somewhat awkward situation with anyone else.\",\n",
       " 'subreddit': Subreddit(display_name='NoStupidQuestions'),\n",
       " 'comments': <praw.models.comment_forest.CommentForest at 0x11162e650>,\n",
       " 'created_utc': 1694801616.0,\n",
       " 'top_comment': 'Are they actively flirting with you or just talking? It could be that they just feel more comfortable talking to you knowing you’re not there to hook up (cause they think you’re married)',\n",
       " 'comment_upvotes': 3413}"
      ]
     },
     "execution_count": 9,
     "metadata": {},
     "output_type": "execute_result"
    }
   ],
   "source": [
    "#posts_list_1[1]"
   ]
  },
  {
   "cell_type": "code",
   "execution_count": 10,
   "id": "0329dbb3-8ade-43b4-b2d1-a5b8772a04ec",
   "metadata": {
    "tags": []
   },
   "outputs": [],
   "source": [
    "#posts_2 = reddit.subreddit(my_subreddit).new(limit=500)\n",
    "#posts_list_2 = get_reddit_post(posts_2)"
   ]
  },
  {
   "cell_type": "code",
   "execution_count": 11,
   "id": "cb65970a-d612-42c1-a9cf-7b7807e36e29",
   "metadata": {},
   "outputs": [],
   "source": [
    "posts_3 = reddit.subreddit(my_subreddit).top(limit=1000)\n",
    "posts_list_3 = get_reddit_post(posts_3)"
   ]
  },
  {
   "cell_type": "code",
   "execution_count": 12,
   "id": "c436f130-9095-46a5-8a89-2c872af03408",
   "metadata": {
    "tags": []
   },
   "outputs": [
    {
     "data": {
      "text/plain": [
       "{'title': 'Why is it \"price gouging\" when people resell sanitizer for an extra 10% but perfectly fine for pharmaceutical companies to mark life saving medicine 1000%?',\n",
       " 'selftext': '',\n",
       " 'subreddit': Subreddit(display_name='NoStupidQuestions'),\n",
       " 'comments': <praw.models.comment_forest.CommentForest at 0x127ac0090>,\n",
       " 'created_utc': 1584629469.0,\n",
       " 'top_comment': 'Price gouging doesn\\'t mean \"charging an unfair price.\" It specifically means charging unreasonably high prices on necessities *during a time of emergency* (or other relevant temporary period) when compared when non-emergency prices.\\n\\nPharmaceutical companies are engaging in shitty practices by artificially inflating the cost of life-saving medicine, but that\\'s *always* the price they charge, so it\\'s not price gouging.\\n\\nIt\\'s *shitty*, but it\\'s not price gouging.',\n",
       " 'comment_upvotes': 12385}"
      ]
     },
     "execution_count": 12,
     "metadata": {},
     "output_type": "execute_result"
    }
   ],
   "source": [
    "#posts_list_3[1]"
   ]
  },
  {
   "cell_type": "code",
   "execution_count": 16,
   "id": "8da0f0b5-c331-4106-bd97-970f36735534",
   "metadata": {
    "tags": []
   },
   "outputs": [],
   "source": [
    "#posts_list_1and3 = posts_list_1+posts_list_3"
   ]
  },
  {
   "cell_type": "code",
   "execution_count": 21,
   "id": "254c379c-3ac8-4672-8297-897709ececcf",
   "metadata": {
    "tags": []
   },
   "outputs": [
    {
     "data": {
      "text/plain": [
       "{'title': 'Is it rude to spend 3+ hours studying in a restaurant/café?',\n",
       " 'selftext': \"I'm split about this. I usually go to this restaurant (nothing fancy, basically a diner) to do school work when I know I will fall asleep if I stay home.\\n\\n\\nThe place is huge, I always take up a table for two in a corner out of the way, I order dinner with no drink and just chill there with my textbooks. Two of the waiters are lovely and always greet me warmly, so I make sure to tip well. But there is a waitress that is very frosty and always approaches asking if I will order anything else, so I always wonder if I'm overstaying. \\n\\n\\nNote, the place is huge and it's never even near crowded or at full capacity when I'm there.\\n\\n\\nEDIT: real quick, not from the US. There aren't many places without servers, Starbucks is one of the few ones and a coffee is more expensive than a full meal. And their coffee tastes like sugary dirt. \\n\\nI know libraries exist, they close by 5pm, I go to the diner after that. Also, I would get sooo mugged if I studied at the park.\\n\\nI think I'll ask the staff directly next time and go from there just in case.\",\n",
       " 'subreddit': Subreddit(display_name='NoStupidQuestions'),\n",
       " 'comments': <praw.models.comment_forest.CommentForest at 0x111695d90>,\n",
       " 'created_utc': 1694827055.0,\n",
       " 'top_comment': \"If it isn't busy and you make a purchase, you're fine.\",\n",
       " 'comment_upvotes': 543}"
      ]
     },
     "execution_count": 21,
     "metadata": {},
     "output_type": "execute_result"
    }
   ],
   "source": [
    "#posts_list_1and3[2]"
   ]
  },
  {
   "cell_type": "code",
   "execution_count": 22,
   "id": "1eba1670-b64e-4f54-be73-f280d6a899a3",
   "metadata": {
    "tags": []
   },
   "outputs": [
    {
     "data": {
      "text/plain": [
       "945"
      ]
     },
     "execution_count": 22,
     "metadata": {},
     "output_type": "execute_result"
    }
   ],
   "source": [
    "#len(posts_list_1and3)"
   ]
  },
  {
   "cell_type": "code",
   "execution_count": 26,
   "id": "faf85ed6-f818-4e81-8d4f-a2bbde52ac4d",
   "metadata": {
    "tags": []
   },
   "outputs": [
    {
     "data": {
      "text/plain": [
       "{'title': \"Why don't drug cartels sell insulin and other medical drugs in the USA?\",\n",
       " 'selftext': \"In Mexico insulin is dirt cheap compared to the USA, and the same is true for pretty much any medical drug\\n\\nWhy don't drug cartels sell those drugs like they sell illegal drugs?. People would absolutely buy them\\n\\nThey could even make those drugs themselves, they have the means\",\n",
       " 'subreddit': Subreddit(display_name='NoStupidQuestions'),\n",
       " 'comments': <praw.models.comment_forest.CommentForest at 0x2a8f41350>,\n",
       " 'created_utc': 1641942795.0,\n",
       " 'top_comment': 'Insulin is temperature sensitive and has a limited shelf life. This makes importation/transportation difficult.',\n",
       " 'comment_upvotes': 11218}"
      ]
     },
     "execution_count": 26,
     "metadata": {},
     "output_type": "execute_result"
    }
   ],
   "source": [
    "#posts_list_1and3[944]"
   ]
  },
  {
   "cell_type": "code",
   "execution_count": 4,
   "id": "f91b502d-eb63-4db9-8e33-84b2579de6ec",
   "metadata": {},
   "outputs": [],
   "source": [
    "my_subreddit_2 = \"Questions\""
   ]
  },
  {
   "cell_type": "code",
   "execution_count": 28,
   "id": "0af27dce-fde5-4de3-a3bd-80769288f1a6",
   "metadata": {
    "tags": []
   },
   "outputs": [],
   "source": [
    "#posts_4 = reddit.subreddit(my_subreddit_2).hot(limit=500) \n",
    "#posts_list_4 = get_reddit_post(posts_4)"
   ]
  },
  {
   "cell_type": "code",
   "execution_count": 30,
   "id": "60528656-3285-43d4-9dda-39cd8cad8ed1",
   "metadata": {},
   "outputs": [],
   "source": [
    "#posts_5 = reddit.subreddit(my_subreddit_2).new(limit=400)\n",
    "#posts_list_5 = get_reddit_post(posts_5)"
   ]
  },
  {
   "cell_type": "code",
   "execution_count": 5,
   "id": "8b2def96-0fb3-468e-a568-f89cfb7f5fcd",
   "metadata": {},
   "outputs": [],
   "source": [
    "posts_6 = reddit.subreddit(my_subreddit_2).top(limit=1000) \n",
    "posts_list_6 = get_reddit_post(posts_6)"
   ]
  },
  {
   "cell_type": "code",
   "execution_count": 6,
   "id": "de62ecc1-fbf0-46b8-98f0-56c245854e33",
   "metadata": {
    "tags": []
   },
   "outputs": [
    {
     "data": {
      "text/plain": [
       "884"
      ]
     },
     "execution_count": 6,
     "metadata": {},
     "output_type": "execute_result"
    }
   ],
   "source": [
    "len(posts_list_6)"
   ]
  },
  {
   "cell_type": "code",
   "execution_count": 32,
   "id": "b9bb1ef7-f109-400a-905f-56655d89c625",
   "metadata": {
    "tags": []
   },
   "outputs": [
    {
     "data": {
      "text/plain": [
       "1299"
      ]
     },
     "execution_count": 32,
     "metadata": {},
     "output_type": "execute_result"
    }
   ],
   "source": [
    "#posts_list_4and5and6 = posts_list_4+posts_list_5+posts_list_6\n",
    "#len(posts_list_4and5and6)"
   ]
  },
  {
   "cell_type": "code",
   "execution_count": 33,
   "id": "62775855-86ca-492a-9aac-f4c886276bba",
   "metadata": {},
   "outputs": [],
   "source": [
    "my_subreddit_3 = \"Askreddit\""
   ]
  },
  {
   "cell_type": "code",
   "execution_count": 34,
   "id": "3e7a2075-9eb6-4352-9db4-7c6fc91b908b",
   "metadata": {},
   "outputs": [],
   "source": [
    "#posts_7 = reddit.subreddit(my_subreddit_3).hot(limit=500) \n",
    "#posts_list_7 = get_reddit_post(posts_7)"
   ]
  },
  {
   "cell_type": "code",
   "execution_count": 36,
   "id": "a35b9e7a-c4b8-428e-91d4-8a36233c2c76",
   "metadata": {},
   "outputs": [],
   "source": [
    "#posts_8 = reddit.subreddit(my_subreddit_3).new(limit=500) \n",
    "#posts_list_8 = get_reddit_post(posts_8)"
   ]
  },
  {
   "cell_type": "code",
   "execution_count": 37,
   "id": "30e362c6-d244-4123-9331-e23592e1aa8b",
   "metadata": {},
   "outputs": [],
   "source": [
    "posts_9 = reddit.subreddit(my_subreddit_3).top(limit=1000) \n",
    "posts_list_9 = get_reddit_post(posts_9)"
   ]
  },
  {
   "cell_type": "code",
   "execution_count": 40,
   "id": "ce92794e-5be7-4681-99c2-95b0d2560202",
   "metadata": {
    "tags": []
   },
   "outputs": [
    {
     "data": {
      "text/plain": [
       "1012"
      ]
     },
     "execution_count": 40,
     "metadata": {},
     "output_type": "execute_result"
    }
   ],
   "source": [
    "#posts_list_7and9 = posts_list_7 + posts_list_9\n",
    "#len(posts_list_7and9)"
   ]
  },
  {
   "cell_type": "code",
   "execution_count": 41,
   "id": "9d394c2a-4ba4-4da4-a3e7-85edb5bf368d",
   "metadata": {},
   "outputs": [],
   "source": [
    "my_subreddit_4 = \"MorbidQuestions\""
   ]
  },
  {
   "cell_type": "code",
   "execution_count": 43,
   "id": "d437ec6c-72f1-4a9e-8dd9-0fc3d822f204",
   "metadata": {},
   "outputs": [],
   "source": [
    "posts_10 = reddit.subreddit(my_subreddit_4).top(limit=1000) \n",
    "posts_list_10 = get_reddit_post(posts_10)"
   ]
  },
  {
   "cell_type": "code",
   "execution_count": 45,
   "id": "8ce7249e-1d28-461f-8b8f-6570a2798b6c",
   "metadata": {},
   "outputs": [],
   "source": [
    "#posts_11 = reddit.subreddit(my_subreddit_4).new(limit=400) \n",
    "#posts_list_11 = get_reddit_post(posts_11)"
   ]
  },
  {
   "cell_type": "code",
   "execution_count": 53,
   "id": "2ff7bed6-63df-42e0-b3c5-bab6ba323913",
   "metadata": {
    "tags": []
   },
   "outputs": [],
   "source": [
    "#posts_14 = reddit.subreddit(my_subreddit_4).hot(limit=400) \n",
    "#posts_list_14 = get_reddit_post(posts_14)"
   ]
  },
  {
   "cell_type": "code",
   "execution_count": 48,
   "id": "85f5918d-076c-49ce-9d62-dbbf86390bb3",
   "metadata": {
    "tags": []
   },
   "outputs": [
    {
     "data": {
      "text/plain": [
       "1393"
      ]
     },
     "execution_count": 48,
     "metadata": {},
     "output_type": "execute_result"
    }
   ],
   "source": [
    "#posts_list_10and11and14 = posts_list_10 + posts_list_11 + posts_list_14\n",
    "#len(posts_list_10and11and14)"
   ]
  },
  {
   "cell_type": "code",
   "execution_count": 49,
   "id": "a15d882a-bd39-479a-8ed2-0e63e129c491",
   "metadata": {
    "tags": []
   },
   "outputs": [],
   "source": [
    "my_subreddit_5 = \"TooAfraidToAsk\""
   ]
  },
  {
   "cell_type": "code",
   "execution_count": 50,
   "id": "39e13efe-0da7-4c31-aad9-f782d171d1ba",
   "metadata": {
    "tags": []
   },
   "outputs": [],
   "source": [
    "#posts_12 = reddit.subreddit(my_subreddit_5).hot(limit=500) \n",
    "#posts_list_12 = get_reddit_post(posts_12)"
   ]
  },
  {
   "cell_type": "code",
   "execution_count": 51,
   "id": "3239f53e-2a0d-4988-a9fa-92c12731cd5a",
   "metadata": {},
   "outputs": [],
   "source": [
    "posts_13 = reddit.subreddit(my_subreddit_5).top(limit=1000) \n",
    "posts_list_13 = get_reddit_post(posts_13)"
   ]
  },
  {
   "cell_type": "code",
   "execution_count": 52,
   "id": "19cb27ba-1531-4808-a50c-b97600e43423",
   "metadata": {
    "tags": []
   },
   "outputs": [
    {
     "data": {
      "text/plain": [
       "1176"
      ]
     },
     "execution_count": 52,
     "metadata": {},
     "output_type": "execute_result"
    }
   ],
   "source": [
    "#posts_list_12and13 = posts_list_12 + posts_list_13\n",
    "#len(posts_list_12and13)"
   ]
  },
  {
   "cell_type": "code",
   "execution_count": 158,
   "id": "b1a1415b-6271-4804-bf15-062f1f503588",
   "metadata": {
    "tags": []
   },
   "outputs": [],
   "source": [
    "#full_subreddit = posts_list_3 + posts_list_4 + posts_list_5 + posts_list_6 + posts_list_7 + posts_list_9 + posts_list_10 + posts_list_11 + posts_list_12 + posts_list_13 + posts_list_14"
   ]
  },
  {
   "cell_type": "code",
   "execution_count": 164,
   "id": "b63cd82c-a38b-4433-8a3d-4c966eed20b4",
   "metadata": {
    "tags": []
   },
   "outputs": [],
   "source": [
    "#posts_list_3 = pd.DataFrame(posts_list_3)"
   ]
  },
  {
   "cell_type": "code",
   "execution_count": 159,
   "id": "dd989c21-11b2-4ac0-b1d9-16d435d94751",
   "metadata": {
    "tags": []
   },
   "outputs": [],
   "source": [
    "#full_subreddit = pd.DataFrame(full_subreddit)"
   ]
  },
  {
   "cell_type": "code",
   "execution_count": 160,
   "id": "27c23e3d-1b5e-4f82-9d6b-d0579ca47f28",
   "metadata": {
    "tags": []
   },
   "outputs": [],
   "source": [
    "#full_subreddit.to_csv('full_subreddit.csv')"
   ]
  },
  {
   "cell_type": "code",
   "execution_count": 18,
   "id": "c393a4ed-fc0a-4c99-b0d1-86b0d5651507",
   "metadata": {},
   "outputs": [],
   "source": [
    "#my_subreddit_6 = \"TrueAskReddit\""
   ]
  },
  {
   "cell_type": "code",
   "execution_count": null,
   "id": "b8aa22d0-cf1f-403e-a2c3-52b40922033e",
   "metadata": {},
   "outputs": [],
   "source": [
    "#posts_14 = reddit.subreddit(my_subreddit_6).new(limit=400) \n",
    "#posts_list_14 = get_reddit_post(posts_14)"
   ]
  },
  {
   "cell_type": "code",
   "execution_count": 19,
   "id": "5e1da211-719e-45e5-ac14-8b657b03a95f",
   "metadata": {},
   "outputs": [],
   "source": [
    "#posts_15 = reddit.subreddit(my_subreddit_6).top(limit=10) \n",
    "#posts_list_15 = get_reddit_post(posts_15)"
   ]
  },
  {
   "cell_type": "markdown",
   "id": "66d2e3b5-ad83-466c-9e9c-3fa214d8d352",
   "metadata": {},
   "source": [
    "# OPENAI\n",
    "---"
   ]
  },
  {
   "cell_type": "code",
   "execution_count": 7,
   "id": "240e9075-0b9e-4b2f-a408-64c8b55f4716",
   "metadata": {},
   "outputs": [],
   "source": [
    "import os\n",
    "import openai "
   ]
  },
  {
   "cell_type": "code",
   "execution_count": 8,
   "id": "70b78061-ee3c-4b2b-8086-7c9ed509cfea",
   "metadata": {
    "tags": []
   },
   "outputs": [],
   "source": [
    "openai.api_key = os.environ.get('OPENAI_API_KEY')"
   ]
  },
  {
   "cell_type": "code",
   "execution_count": 9,
   "id": "fb374a37-7e9c-4fe5-8759-afb05b3dec0b",
   "metadata": {
    "tags": []
   },
   "outputs": [],
   "source": [
    "def ai_response(prompts):\n",
    "    response_group = []\n",
    "    dv_response = openai.Completion.create(\n",
    "    model=\"text-davinci-003\",\n",
    "    prompt=prompts,\n",
    "    temperature=0.6,\n",
    "    max_tokens = 500)\n",
    "    for res in dv_response['choices']:\n",
    "        response_group.append(res['text'].strip())\n",
    "    return response_group"
   ]
  },
  {
   "cell_type": "code",
   "execution_count": 10,
   "id": "d1b15329-c5cf-49ee-91f6-729708216414",
   "metadata": {
    "tags": []
   },
   "outputs": [],
   "source": [
    "def add_together(posts_list,response_group):\n",
    "    data_group = []\n",
    "    for i, j in zip(posts_list,response_group):\n",
    "        data = {\n",
    "            'question':i['title'],\n",
    "            'human_answer':i['top_comment'],\n",
    "            'ai_answer':j\n",
    "        }\n",
    "        data_group.append(data)\n",
    "    return data_group"
   ]
  },
  {
   "cell_type": "code",
   "execution_count": 11,
   "id": "9c825a73-ddfb-48f8-a434-6f368491dfce",
   "metadata": {
    "tags": []
   },
   "outputs": [],
   "source": [
    "import pandas as pd"
   ]
  },
  {
   "cell_type": "code",
   "execution_count": 6,
   "id": "eec708b0-e927-4b1d-b856-d5c9d9ed33c3",
   "metadata": {
    "tags": []
   },
   "outputs": [],
   "source": [
    "#fs = pd.read_csv('full_subreddit.csv')"
   ]
  },
  {
   "cell_type": "code",
   "execution_count": 12,
   "id": "1c6228d4-55aa-458f-b5e8-3837339580ec",
   "metadata": {
    "tags": []
   },
   "outputs": [],
   "source": [
    "full_subreddit = posts_list_6"
   ]
  },
  {
   "cell_type": "code",
   "execution_count": 14,
   "id": "09844ffa-510d-4129-9b45-1f6396ef40a0",
   "metadata": {
    "tags": []
   },
   "outputs": [],
   "source": [
    "full_subreddit_0to19  = full_subreddit[0:20]\n",
    "ai_prompts_0to19 = [a['title'] for a in full_subreddit_0to19]\n",
    "response_group_0to19 = ai_response(ai_prompts_0to19)\n",
    "data_group_0to19 = pd.DataFrame(add_together(full_subreddit_0to19,response_group_0to19))"
   ]
  },
  {
   "cell_type": "code",
   "execution_count": 15,
   "id": "84274af6-2007-432a-8401-e2f0fa1d3218",
   "metadata": {
    "tags": []
   },
   "outputs": [],
   "source": [
    "full_subreddit_20to39  = full_subreddit[20:40]\n",
    "ai_prompts_20to39 = [a['title'] for a in full_subreddit_20to39]\n",
    "response_group_20to39 = ai_response(ai_prompts_20to39)\n",
    "data_group_20to39 = pd.DataFrame(add_together(full_subreddit_20to39,response_group_20to39))"
   ]
  },
  {
   "cell_type": "code",
   "execution_count": 16,
   "id": "7fcf5952-592f-4efb-864e-175f24a4e1ae",
   "metadata": {},
   "outputs": [],
   "source": [
    "full_subreddit_40to59  = full_subreddit[40:60]\n",
    "ai_prompts_40to59 = [a['title'] for a in full_subreddit_40to59]\n",
    "response_group_40to59 = ai_response(ai_prompts_40to59)\n",
    "data_group_40to59 = pd.DataFrame(add_together(full_subreddit_40to59,response_group_40to59))"
   ]
  },
  {
   "cell_type": "code",
   "execution_count": 19,
   "id": "f2614e0d-2e24-43b0-b563-56915d905240",
   "metadata": {
    "tags": []
   },
   "outputs": [],
   "source": [
    "full_subreddit_60to79  = full_subreddit[60:80]\n",
    "ai_prompts_60to79 = [a['title'] for a in full_subreddit_60to79]\n",
    "response_group_60to79 = ai_response(ai_prompts_60to79)\n",
    "data_group_60to79 = pd.DataFrame(add_together(full_subreddit_60to79,response_group_60to79))"
   ]
  },
  {
   "cell_type": "code",
   "execution_count": 20,
   "id": "57a6354c-5202-4110-b872-f983897a4edb",
   "metadata": {
    "tags": []
   },
   "outputs": [],
   "source": [
    "full_subreddit_80to99  = full_subreddit[80:100]\n",
    "ai_prompts_80to99 = [a['title'] for a in full_subreddit_80to99]\n",
    "response_group_80to99 = ai_response(ai_prompts_80to99)\n",
    "data_group_80to99 = pd.DataFrame(add_together(full_subreddit_80to99,response_group_80to99))"
   ]
  },
  {
   "cell_type": "code",
   "execution_count": 21,
   "id": "1c621ab1-f012-42b5-9a07-72dd30bd9ace",
   "metadata": {},
   "outputs": [],
   "source": [
    "full_subreddit_100to119  = full_subreddit[100:120]\n",
    "ai_prompts_100to119 = [a['title'] for a in full_subreddit_100to119]\n",
    "response_group_100to119 = ai_response(ai_prompts_100to119)\n",
    "data_group_100to119 = pd.DataFrame(add_together(full_subreddit_100to119,response_group_100to119))"
   ]
  },
  {
   "cell_type": "code",
   "execution_count": 22,
   "id": "0711331a-faf8-427f-85fb-308abcefd2b9",
   "metadata": {},
   "outputs": [],
   "source": [
    "full_subreddit_120to139  = full_subreddit[120:140]\n",
    "ai_prompts_120to139 = [a['title'] for a in full_subreddit_120to139]\n",
    "response_group_120to139 = ai_response(ai_prompts_120to139)\n",
    "data_group_120to139 = pd.DataFrame(add_together(full_subreddit_120to139,response_group_120to139))"
   ]
  },
  {
   "cell_type": "code",
   "execution_count": 23,
   "id": "0d7e06e8-6b7a-4c5d-8cbd-4228700c6dfb",
   "metadata": {},
   "outputs": [],
   "source": [
    "full_subreddit_140to159  = full_subreddit[140:160]\n",
    "ai_prompts_140to159 = [a['title'] for a in full_subreddit_140to159]\n",
    "response_group_140to159 = ai_response(ai_prompts_140to159)\n",
    "data_group_140to159 = pd.DataFrame(add_together(full_subreddit_140to159,response_group_140to159))"
   ]
  },
  {
   "cell_type": "code",
   "execution_count": 24,
   "id": "b2428c73-d65e-445e-806e-2a44716f8b9c",
   "metadata": {},
   "outputs": [],
   "source": [
    "full_subreddit_160to179  = full_subreddit[160:180]\n",
    "ai_prompts_160to179 = [a['title'] for a in full_subreddit_160to179]\n",
    "response_group_160to179 = ai_response(ai_prompts_160to179)\n",
    "data_group_160to179 = pd.DataFrame(add_together(full_subreddit_160to179,response_group_160to179))"
   ]
  },
  {
   "cell_type": "code",
   "execution_count": 25,
   "id": "e987068a-155d-4d28-9f1a-e0217cd9e45b",
   "metadata": {},
   "outputs": [],
   "source": [
    "full_subreddit_180to199  = full_subreddit[180:200]\n",
    "ai_prompts_180to199 = [a['title'] for a in full_subreddit_180to199]\n",
    "response_group_180to199 = ai_response(ai_prompts_180to199)\n",
    "data_group_180to199 = pd.DataFrame(add_together(full_subreddit_180to199,response_group_180to199))"
   ]
  },
  {
   "cell_type": "code",
   "execution_count": 134,
   "id": "dc96e901-fe67-4ca2-bf7f-fa1129191783",
   "metadata": {
    "tags": []
   },
   "outputs": [],
   "source": [
    "#data_group_0to199 = pd.concat([data_group_0to19, data_group_20to39, data_group_40to59,data_group_60to79, data_group_80to99, data_group_100to119, data_group_120to139, data_group_140to159, data_group_160to179,data_group_180to199], ignore_index=True, sort=False)"
   ]
  },
  {
   "cell_type": "code",
   "execution_count": 136,
   "id": "d3523dfd-fa8b-47c1-9f8b-9753d3bc5a99",
   "metadata": {
    "tags": []
   },
   "outputs": [],
   "source": [
    "#data_group_0to199.to_csv('data_group_0to199.csv')"
   ]
  },
  {
   "cell_type": "code",
   "execution_count": 26,
   "id": "4a335f17-8bf0-4e4e-8b8b-52931f4b48f2",
   "metadata": {
    "tags": []
   },
   "outputs": [],
   "source": [
    "full_subreddit_200to219  = full_subreddit[200:220]\n",
    "ai_prompts_200to219 = [a['title'] for a in full_subreddit_200to219]\n",
    "response_group_200to219 = ai_response(ai_prompts_200to219)\n",
    "data_group_200to219 = pd.DataFrame(add_together(full_subreddit_200to219,response_group_200to219))"
   ]
  },
  {
   "cell_type": "code",
   "execution_count": 27,
   "id": "a4df98c1-5e5c-404c-a028-b947200f7c2c",
   "metadata": {},
   "outputs": [],
   "source": [
    "full_subreddit_220to239  = full_subreddit[220:240]\n",
    "ai_prompts_220to239 = [a['title'] for a in full_subreddit_220to239]\n",
    "response_group_220to239 = ai_response(ai_prompts_220to239)\n",
    "data_group_220to239 = pd.DataFrame(add_together(full_subreddit_220to239,response_group_220to239))"
   ]
  },
  {
   "cell_type": "code",
   "execution_count": 28,
   "id": "61e63663-304c-4c03-a504-45d9188b8702",
   "metadata": {},
   "outputs": [],
   "source": [
    "full_subreddit_240to259  = full_subreddit[240:260]\n",
    "ai_prompts_240to259 = [a['title'] for a in full_subreddit_240to259]\n",
    "response_group_240to259 = ai_response(ai_prompts_240to259)\n",
    "data_group_240to259 = pd.DataFrame(add_together(full_subreddit_240to259,response_group_240to259))"
   ]
  },
  {
   "cell_type": "code",
   "execution_count": 29,
   "id": "87eb0902-9b3e-484c-b572-dbf7f85ef09a",
   "metadata": {},
   "outputs": [],
   "source": [
    "full_subreddit_260to279  = full_subreddit[260:280]\n",
    "ai_prompts_260to279 = [a['title'] for a in full_subreddit_260to279]\n",
    "response_group_260to279 = ai_response(ai_prompts_260to279)\n",
    "data_group_260to279 = pd.DataFrame(add_together(full_subreddit_260to279,response_group_260to279))"
   ]
  },
  {
   "cell_type": "code",
   "execution_count": 30,
   "id": "12cdbc43-09b7-4ff6-8efd-720473bd72fc",
   "metadata": {},
   "outputs": [],
   "source": [
    "full_subreddit_280to299  = full_subreddit[280:300]\n",
    "ai_prompts_280to299 = [a['title'] for a in full_subreddit_280to299]\n",
    "response_group_280to299 = ai_response(ai_prompts_280to299)\n",
    "data_group_280to299 = pd.DataFrame(add_together(full_subreddit_280to299,response_group_280to299))"
   ]
  },
  {
   "cell_type": "code",
   "execution_count": 31,
   "id": "3a86b32e-dff8-4611-a6a8-b10022bc37cf",
   "metadata": {},
   "outputs": [],
   "source": [
    "full_subreddit_300to319  = full_subreddit[300:320]\n",
    "ai_prompts_300to319 = [a['title'] for a in full_subreddit_300to319]\n",
    "response_group_300to319 = ai_response(ai_prompts_300to319)\n",
    "data_group_300to319 = pd.DataFrame(add_together(full_subreddit_300to319,response_group_300to319))"
   ]
  },
  {
   "cell_type": "code",
   "execution_count": 32,
   "id": "47f6a31a-390c-437b-a96e-545d3b692579",
   "metadata": {
    "tags": []
   },
   "outputs": [],
   "source": [
    "full_subreddit_320to339  = full_subreddit[320:340]\n",
    "ai_prompts_320to339 = [a['title'] for a in full_subreddit_320to339]\n",
    "response_group_320to339 = ai_response(ai_prompts_320to339)\n",
    "data_group_320to339 = pd.DataFrame(add_together(full_subreddit_320to339,response_group_320to339))"
   ]
  },
  {
   "cell_type": "code",
   "execution_count": 33,
   "id": "18c25f1f-8480-43a0-a083-10905bfeee02",
   "metadata": {
    "tags": []
   },
   "outputs": [],
   "source": [
    "full_subreddit_340to359  = full_subreddit[340:360]\n",
    "ai_prompts_340to359 = [a['title'] for a in full_subreddit_340to359]\n",
    "response_group_340to359 = ai_response(ai_prompts_340to359)\n",
    "data_group_340to359 = pd.DataFrame(add_together(full_subreddit_340to359,response_group_340to359))"
   ]
  },
  {
   "cell_type": "code",
   "execution_count": 34,
   "id": "c7bf8bf6-f531-42c3-9c33-5fe7d801e69e",
   "metadata": {
    "tags": []
   },
   "outputs": [],
   "source": [
    "full_subreddit_360to379  = full_subreddit[360:380]\n",
    "ai_prompts_360to379 = [a['title'] for a in full_subreddit_360to379]\n",
    "response_group_360to379 = ai_response(ai_prompts_360to379)\n",
    "data_group_360to379 = pd.DataFrame(add_together(full_subreddit_360to379,response_group_360to379))"
   ]
  },
  {
   "cell_type": "code",
   "execution_count": 35,
   "id": "01b71a00-aaa9-4d88-9594-f03e6ca2be8a",
   "metadata": {
    "tags": []
   },
   "outputs": [],
   "source": [
    "full_subreddit_380to399  = full_subreddit[380:400]\n",
    "ai_prompts_380to399 = [a['title'] for a in full_subreddit_380to399]\n",
    "response_group_380to399 = ai_response(ai_prompts_380to399)\n",
    "data_group_380to399 = pd.DataFrame(add_together(full_subreddit_380to399,response_group_380to399))"
   ]
  },
  {
   "cell_type": "code",
   "execution_count": 147,
   "id": "e672ea22-0773-469e-892e-7ce5f1bb40fe",
   "metadata": {
    "tags": []
   },
   "outputs": [],
   "source": [
    "#data_group_200to399 = pd.concat([data_group_200to219, data_group_220to239, data_group_240to259, data_group_260to279, data_group_280to299, data_group_300to319,data_group_320to339, data_group_340to359, data_group_360to379, data_group_380to399], ignore_index=True, sort = False)"
   ]
  },
  {
   "cell_type": "code",
   "execution_count": 148,
   "id": "9fec683f-45c7-4781-9c9e-3d0790f55905",
   "metadata": {
    "tags": []
   },
   "outputs": [],
   "source": [
    "#data_group_200to399.to_csv('data_group_200to399.csv')"
   ]
  },
  {
   "cell_type": "code",
   "execution_count": 36,
   "id": "f16f3edc-2df1-4c1b-a132-f53f721cecee",
   "metadata": {
    "tags": []
   },
   "outputs": [],
   "source": [
    "full_subreddit_400to419  = full_subreddit[400:420]\n",
    "ai_prompts_400to419 = [a['title'] for a in full_subreddit_400to419]\n",
    "response_group_400to419 = ai_response(ai_prompts_400to419)\n",
    "data_group_400to419 = pd.DataFrame(add_together(full_subreddit_400to419,response_group_400to419))"
   ]
  },
  {
   "cell_type": "code",
   "execution_count": 37,
   "id": "ceac65df-6857-4697-aefa-73a74f241d5b",
   "metadata": {
    "tags": []
   },
   "outputs": [],
   "source": [
    "full_subreddit_420to439  = full_subreddit[420:440]\n",
    "ai_prompts_420to439 = [a['title'] for a in full_subreddit_420to439]\n",
    "response_group_420to439 = ai_response(ai_prompts_420to439)\n",
    "data_group_420to439 = pd.DataFrame(add_together(full_subreddit_420to439,response_group_420to439))"
   ]
  },
  {
   "cell_type": "code",
   "execution_count": 38,
   "id": "44ff1b55-5a98-40ef-82b7-e82ea74b05e5",
   "metadata": {
    "tags": []
   },
   "outputs": [],
   "source": [
    "full_subreddit_440to459  = full_subreddit[440:460]\n",
    "ai_prompts_440to459 = [a['title'] for a in full_subreddit_440to459]\n",
    "response_group_440to459 = ai_response(ai_prompts_440to459)\n",
    "data_group_440to459 = pd.DataFrame(add_together(full_subreddit_440to459,response_group_440to459))"
   ]
  },
  {
   "cell_type": "code",
   "execution_count": 39,
   "id": "5a1bf1d1-dc3d-43ce-a9e4-ba3b59b8162e",
   "metadata": {
    "tags": []
   },
   "outputs": [],
   "source": [
    "full_subreddit_460to479  = full_subreddit[460:480]\n",
    "ai_prompts_460to479 = [a['title'] for a in full_subreddit_460to479]\n",
    "response_group_460to479 = ai_response(ai_prompts_460to479)\n",
    "data_group_460to479 = pd.DataFrame(add_together(full_subreddit_460to479,response_group_460to479))"
   ]
  },
  {
   "cell_type": "code",
   "execution_count": 40,
   "id": "6061b937-c65e-4021-9c6d-c373263c2238",
   "metadata": {
    "tags": []
   },
   "outputs": [],
   "source": [
    "full_subreddit_480to499  = full_subreddit[480:500]\n",
    "ai_prompts_480to499 = [a['title'] for a in full_subreddit_480to499]\n",
    "response_group_480to499 = ai_response(ai_prompts_480to499)\n",
    "data_group_480to499 = pd.DataFrame(add_together(full_subreddit_480to499,response_group_480to499))"
   ]
  },
  {
   "cell_type": "code",
   "execution_count": 58,
   "id": "c90820b5-ffda-4547-8318-79359ac28b26",
   "metadata": {
    "tags": []
   },
   "outputs": [],
   "source": [
    "data_group_0to499 = pd.concat([data_group_0to19,data_group_20to39, data_group_40to59, data_group_60to79,data_group_80to99,\n",
    "                               data_group_100to119, data_group_120to139,data_group_140to159,data_group_160to179,data_group_180to199,\n",
    "                               data_group_200to219,data_group_220to239,data_group_240to259,data_group_260to279,data_group_280to299,\n",
    "                               data_group_300to319, data_group_320to339, data_group_340to359, data_group_360to379, data_group_380to399, \n",
    "                               data_group_400to419, data_group_420to439, data_group_440to459, data_group_460to479, data_group_480to499],\n",
    "                               ignore_index=True, sort = False\n",
    "                             )"
   ]
  },
  {
   "cell_type": "code",
   "execution_count": null,
   "id": "0254cf59-a6e3-44a2-a267-0de931778eba",
   "metadata": {},
   "outputs": [],
   "source": [
    "data_group_0to499.to_csv('question_reddit_0.csv')"
   ]
  },
  {
   "cell_type": "code",
   "execution_count": 41,
   "id": "9349bf90-b701-44db-8fc4-641a1b00d176",
   "metadata": {},
   "outputs": [],
   "source": [
    "full_subreddit_500to519  = full_subreddit[500:520]\n",
    "ai_prompts_500to519 = [a['title'] for a in full_subreddit_500to519]\n",
    "response_group_500to519 = ai_response(ai_prompts_500to519)\n",
    "data_group_500to519 = pd.DataFrame(add_together(full_subreddit_500to519,response_group_500to519))"
   ]
  },
  {
   "cell_type": "code",
   "execution_count": 42,
   "id": "944c4d6d-ca91-4a78-93c6-0239a04cd61e",
   "metadata": {},
   "outputs": [],
   "source": [
    "full_subreddit_520to539  = full_subreddit[520:540]\n",
    "ai_prompts_520to539 = [a['title'] for a in full_subreddit_520to539]\n",
    "response_group_520to539 = ai_response(ai_prompts_520to539)\n",
    "data_group_520to539 = pd.DataFrame(add_together(full_subreddit_520to539,response_group_520to539))"
   ]
  },
  {
   "cell_type": "code",
   "execution_count": 43,
   "id": "00c276fa-e00d-44e7-9839-f73f805490f4",
   "metadata": {},
   "outputs": [],
   "source": [
    "full_subreddit_540to559  = full_subreddit[540:560]\n",
    "ai_prompts_540to559 = [a['title'] for a in full_subreddit_540to559]\n",
    "response_group_540to559 = ai_response(ai_prompts_540to559)\n",
    "data_group_540to559 = pd.DataFrame(add_together(full_subreddit_540to559,response_group_540to559))"
   ]
  },
  {
   "cell_type": "code",
   "execution_count": 44,
   "id": "ae32aa92-9415-4a91-8d07-e6b746747886",
   "metadata": {},
   "outputs": [],
   "source": [
    "full_subreddit_560to579  = full_subreddit[560:580]\n",
    "ai_prompts_560to579 = [a['title'] for a in full_subreddit_560to579]\n",
    "response_group_560to579 = ai_response(ai_prompts_560to579)\n",
    "data_group_560to579 = pd.DataFrame(add_together(full_subreddit_560to579,response_group_560to579))"
   ]
  },
  {
   "cell_type": "code",
   "execution_count": 45,
   "id": "8a4f7821-8253-4648-adfe-4fc5de4fb475",
   "metadata": {},
   "outputs": [],
   "source": [
    "full_subreddit_580to599  = full_subreddit[580:600]\n",
    "ai_prompts_580to599 = [a['title'] for a in full_subreddit_580to599]\n",
    "response_group_580to599 = ai_response(ai_prompts_580to599)\n",
    "data_group_580to599 = pd.DataFrame(add_together(full_subreddit_580to599,response_group_580to599))"
   ]
  },
  {
   "cell_type": "code",
   "execution_count": 46,
   "id": "7742628e-0cc1-4bfa-963c-b7318d5c24f0",
   "metadata": {},
   "outputs": [],
   "source": [
    "full_subreddit_600to619  = full_subreddit[600:620]\n",
    "ai_prompts_600to619 = [a['title'] for a in full_subreddit_600to619]\n",
    "response_group_600to619 = ai_response(ai_prompts_600to619)\n",
    "data_group_600to619 = pd.DataFrame(add_together(full_subreddit_600to619,response_group_600to619))"
   ]
  },
  {
   "cell_type": "code",
   "execution_count": 47,
   "id": "155fda11-7675-4e7f-ae13-9252ad7528d0",
   "metadata": {},
   "outputs": [],
   "source": [
    "full_subreddit_620to639  = full_subreddit[620:640]\n",
    "ai_prompts_620to639 = [a['title'] for a in full_subreddit_620to639]\n",
    "response_group_620to639 = ai_response(ai_prompts_620to639)\n",
    "data_group_620to639 = pd.DataFrame(add_together(full_subreddit_620to639,response_group_620to639))"
   ]
  },
  {
   "cell_type": "code",
   "execution_count": 48,
   "id": "94623f39-eda3-4493-bcab-0a211d0dc6c1",
   "metadata": {},
   "outputs": [],
   "source": [
    "full_subreddit_640to659  = full_subreddit[640:660]\n",
    "ai_prompts_640to659 = [a['title'] for a in full_subreddit_640to659]\n",
    "response_group_640to659 = ai_response(ai_prompts_640to659)\n",
    "data_group_640to659 = pd.DataFrame(add_together(full_subreddit_640to659,response_group_640to659))"
   ]
  },
  {
   "cell_type": "code",
   "execution_count": 49,
   "id": "76a31b39-b016-48a7-b8ee-46ab746b3046",
   "metadata": {},
   "outputs": [],
   "source": [
    "full_subreddit_660to679  = full_subreddit[660:680]\n",
    "ai_prompts_660to679 = [a['title'] for a in full_subreddit_660to679]\n",
    "response_group_660to679 = ai_response(ai_prompts_660to679)\n",
    "data_group_660to679 = pd.DataFrame(add_together(full_subreddit_660to679,response_group_660to679))"
   ]
  },
  {
   "cell_type": "code",
   "execution_count": 50,
   "id": "b09ff6aa-2762-458b-99c3-9e627289eac3",
   "metadata": {},
   "outputs": [],
   "source": [
    "full_subreddit_680to699  = full_subreddit[680:700]\n",
    "ai_prompts_680to699 = [a['title'] for a in full_subreddit_680to699]\n",
    "response_group_680to699 = ai_response(ai_prompts_680to699)\n",
    "data_group_680to699 = pd.DataFrame(add_together(full_subreddit_680to699,response_group_680to699))"
   ]
  },
  {
   "cell_type": "code",
   "execution_count": 51,
   "id": "0c714416-e05b-4de9-83da-09b8010512a4",
   "metadata": {},
   "outputs": [],
   "source": [
    "full_subreddit_700to719  = full_subreddit[700:720]\n",
    "ai_prompts_700to719 = [a['title'] for a in full_subreddit_700to719]\n",
    "response_group_700to719 = ai_response(ai_prompts_700to719)\n",
    "data_group_700to719 = pd.DataFrame(add_together(full_subreddit_700to719,response_group_700to719))"
   ]
  },
  {
   "cell_type": "code",
   "execution_count": 52,
   "id": "68f35dad-5376-4a95-8f22-dbd88afa1749",
   "metadata": {},
   "outputs": [],
   "source": [
    "full_subreddit_720to739  = full_subreddit[720:740]\n",
    "ai_prompts_720to739 = [a['title'] for a in full_subreddit_720to739]\n",
    "response_group_720to739 = ai_response(ai_prompts_720to739)\n",
    "data_group_720to739 = pd.DataFrame(add_together(full_subreddit_720to739,response_group_720to739))"
   ]
  },
  {
   "cell_type": "code",
   "execution_count": 53,
   "id": "3cc555d2-4bbb-480a-95fd-b4ace11e3a8e",
   "metadata": {},
   "outputs": [],
   "source": [
    "full_subreddit_740to759  = full_subreddit[740:760]\n",
    "ai_prompts_740to759 = [a['title'] for a in full_subreddit_740to759]\n",
    "response_group_740to759 = ai_response(ai_prompts_740to759)\n",
    "data_group_740to759 = pd.DataFrame(add_together(full_subreddit_740to759,response_group_740to759))"
   ]
  },
  {
   "cell_type": "code",
   "execution_count": 54,
   "id": "6cd73676-dab3-4efd-b86f-8b13bc4d9d41",
   "metadata": {},
   "outputs": [],
   "source": [
    "full_subreddit_760to779  = full_subreddit[760:780]\n",
    "ai_prompts_760to779 = [a['title'] for a in full_subreddit_760to779]\n",
    "response_group_760to779 = ai_response(ai_prompts_760to779)\n",
    "data_group_760to779 = pd.DataFrame(add_together(full_subreddit_760to779,response_group_760to779))"
   ]
  },
  {
   "cell_type": "code",
   "execution_count": 55,
   "id": "ec0897f9-3ea9-4a39-acfa-83294aae1c63",
   "metadata": {},
   "outputs": [],
   "source": [
    "full_subreddit_780to799  = full_subreddit[780:800]\n",
    "ai_prompts_780to799 = [a['title'] for a in full_subreddit_780to799]\n",
    "response_group_780to799 = ai_response(ai_prompts_780to799)\n",
    "data_group_780to799 = pd.DataFrame(add_together(full_subreddit_780to799,response_group_780to799))"
   ]
  },
  {
   "cell_type": "code",
   "execution_count": 56,
   "id": "69b9e744-395f-4bca-82a2-3f8c6118bc2f",
   "metadata": {},
   "outputs": [],
   "source": [
    "full_subreddit_800to819  = full_subreddit[800:820]\n",
    "ai_prompts_800to819 = [a['title'] for a in full_subreddit_800to819]\n",
    "response_group_800to819 = ai_response(ai_prompts_800to819)\n",
    "data_group_800to819 = pd.DataFrame(add_together(full_subreddit_800to819,response_group_800to819))"
   ]
  },
  {
   "cell_type": "code",
   "execution_count": 57,
   "id": "f17f7235-5a56-4685-84db-023ff43aa896",
   "metadata": {},
   "outputs": [],
   "source": [
    "full_subreddit_820to839  = full_subreddit[820:840]\n",
    "ai_prompts_820to839 = [a['title'] for a in full_subreddit_820to839]\n",
    "response_group_820to839 = ai_response(ai_prompts_820to839)\n",
    "data_group_820to839 = pd.DataFrame(add_together(full_subreddit_820to839,response_group_820to839))"
   ]
  },
  {
   "cell_type": "code",
   "execution_count": 59,
   "id": "e15b5e77-ae62-42ac-bde7-76ba7d956ca4",
   "metadata": {},
   "outputs": [],
   "source": [
    "full_subreddit_840to859  = full_subreddit[840:860]\n",
    "ai_prompts_840to859 = [a['title'] for a in full_subreddit_840to859]\n",
    "response_group_840to859 = ai_response(ai_prompts_840to859)\n",
    "data_group_840to859 = pd.DataFrame(add_together(full_subreddit_840to859,response_group_840to859))"
   ]
  },
  {
   "cell_type": "code",
   "execution_count": 60,
   "id": "680302e6-04d0-4aef-81fc-4428765486b8",
   "metadata": {},
   "outputs": [],
   "source": [
    "full_subreddit_860to879  = full_subreddit[860:880]\n",
    "ai_prompts_860to879 = [a['title'] for a in full_subreddit_860to879]\n",
    "response_group_860to879 = ai_response(ai_prompts_860to879)\n",
    "data_group_860to879 = pd.DataFrame(add_together(full_subreddit_860to879,response_group_860to879))"
   ]
  },
  {
   "cell_type": "code",
   "execution_count": 61,
   "id": "9a367844-f6f9-4736-b9ec-db300ced4512",
   "metadata": {
    "tags": []
   },
   "outputs": [],
   "source": [
    "data_group_500to880 = pd.concat([data_group_500to519,data_group_520to539, data_group_540to559, data_group_560to579,data_group_580to599, \n",
    "                                 data_group_600to619,data_group_620to639, data_group_640to659, data_group_660to679,data_group_680to699,\n",
    "                                 data_group_700to719,data_group_720to739, data_group_740to759, data_group_760to779,data_group_780to799,\n",
    "                                 data_group_800to819,data_group_820to839, data_group_840to859, data_group_860to879],\n",
    "                                 ignore_index=True, sort = False) \n",
    "                                "
   ]
  },
  {
   "cell_type": "code",
   "execution_count": 62,
   "id": "a46b4e87-56f6-4d7c-9be6-b0b75a368554",
   "metadata": {
    "tags": []
   },
   "outputs": [],
   "source": [
    "data_group_0to880 = pd.concat([data_group_0to499,data_group_500to880],ignore_index=True, sort = False )"
   ]
  },
  {
   "cell_type": "code",
   "execution_count": 63,
   "id": "654cb35f-aa2d-4660-a8c6-47ff7ac82c24",
   "metadata": {
    "tags": []
   },
   "outputs": [],
   "source": [
    "data_group_0to880.to_csv('question_reddit_0to880.csv')"
   ]
  },
  {
   "cell_type": "code",
   "execution_count": null,
   "id": "1592e4cf-a9b0-4ee4-aca6-23d336d64c51",
   "metadata": {},
   "outputs": [],
   "source": [
    "full_subreddit_880to899  = full_subreddit[880:88]\n",
    "ai_prompts_880to899 = [a['title'] for a in full_subreddit_880to899]\n",
    "response_group_880to899 = ai_response(ai_prompts_880to899)\n",
    "data_group_880to899 = pd.DataFrame(add_together(full_subreddit_880to899,response_group_880to899))"
   ]
  },
  {
   "cell_type": "code",
   "execution_count": null,
   "id": "b4ff520c-e4b3-4b32-90e2-d9117fdc806c",
   "metadata": {},
   "outputs": [],
   "source": [
    "full_subreddit_900to919  = full_subreddit[900:920]\n",
    "ai_prompts_900to919 = [a['title'] for a in full_subreddit_900to919]\n",
    "response_group_900to919 = ai_response(ai_prompts_900to919)\n",
    "data_group_900to919 = pd.DataFrame(add_together(full_subreddit_900to919,response_group_900to919))"
   ]
  },
  {
   "cell_type": "code",
   "execution_count": null,
   "id": "37c05ba4-1853-413f-8448-cf8b4aa4dbb4",
   "metadata": {},
   "outputs": [],
   "source": [
    "full_subreddit_920to939  = full_subreddit[920:940]\n",
    "ai_prompts_920to939 = [a['title'] for a in full_subreddit_920to939]\n",
    "response_group_920to939 = ai_response(ai_prompts_920to939)\n",
    "data_group_920to939 = pd.DataFrame(add_together(full_subreddit_920to939,response_group_920to939))"
   ]
  },
  {
   "cell_type": "code",
   "execution_count": null,
   "id": "0e30a272-e298-493e-937e-440a9f350929",
   "metadata": {},
   "outputs": [],
   "source": [
    "full_subreddit_940to959  = full_subreddit[940:960]\n",
    "ai_prompts_940to959 = [a['title'] for a in full_subreddit_940to959]\n",
    "response_group_940to959 = ai_response(ai_prompts_940to959)\n",
    "data_group_940to959 = pd.DataFrame(add_together(full_subreddit_940to959,response_group_940to959))"
   ]
  },
  {
   "cell_type": "code",
   "execution_count": null,
   "id": "84e4675d-a0ef-4484-bfb3-423740232cfe",
   "metadata": {},
   "outputs": [],
   "source": [
    "full_subreddit_960to979  = full_subreddit[960:980]\n",
    "ai_prompts_960to979 = [a['title'] for a in full_subreddit_960to979]\n",
    "response_group_960to979 = ai_response(ai_prompts_960to979)\n",
    "data_group_960to979 = pd.DataFrame(add_together(full_subreddit_960to979,response_group_960to979))"
   ]
  },
  {
   "cell_type": "code",
   "execution_count": null,
   "id": "7c5b5c74-749e-4416-8229-339478e867d6",
   "metadata": {},
   "outputs": [],
   "source": [
    "full_subreddit_980to999  = full_subreddit[980:1000]\n",
    "ai_prompts_980to999 = [a['title'] for a in full_subreddit_980to999]\n",
    "response_group_980to999 = ai_response(ai_prompts_980to999)\n",
    "data_group_980to999 = pd.DataFrame(add_together(full_subreddit_980to999,response_group_980to999))"
   ]
  },
  {
   "cell_type": "code",
   "execution_count": null,
   "id": "d7195772-0ce4-43bb-a193-48f0d7966fb8",
   "metadata": {},
   "outputs": [],
   "source": []
  },
  {
   "cell_type": "code",
   "execution_count": null,
   "id": "6e7597d6-1ed4-485a-8085-7a8188e3316e",
   "metadata": {},
   "outputs": [],
   "source": []
  },
  {
   "cell_type": "code",
   "execution_count": 8,
   "id": "fd18ca6c-da7b-411a-997d-5653f65a97f8",
   "metadata": {},
   "outputs": [],
   "source": [
    "# day 2 working on collecting data"
   ]
  },
  {
   "cell_type": "code",
   "execution_count": 9,
   "id": "7c3b017e-3a1c-446f-afda-998d279835a5",
   "metadata": {
    "collapsed": true,
    "jupyter": {
     "outputs_hidden": true
    },
    "tags": []
   },
   "outputs": [
    {
     "data": {
      "text/html": [
       "<div>\n",
       "<style scoped>\n",
       "    .dataframe tbody tr th:only-of-type {\n",
       "        vertical-align: middle;\n",
       "    }\n",
       "\n",
       "    .dataframe tbody tr th {\n",
       "        vertical-align: top;\n",
       "    }\n",
       "\n",
       "    .dataframe thead th {\n",
       "        text-align: right;\n",
       "    }\n",
       "</style>\n",
       "<table border=\"1\" class=\"dataframe\">\n",
       "  <thead>\n",
       "    <tr style=\"text-align: right;\">\n",
       "      <th></th>\n",
       "      <th>Unnamed: 0</th>\n",
       "      <th>title</th>\n",
       "      <th>selftext</th>\n",
       "      <th>subreddit</th>\n",
       "      <th>comments</th>\n",
       "      <th>created_utc</th>\n",
       "      <th>top_comment</th>\n",
       "      <th>comment_upvotes</th>\n",
       "    </tr>\n",
       "  </thead>\n",
       "  <tbody>\n",
       "    <tr>\n",
       "      <th>0</th>\n",
       "      <td>0</td>\n",
       "      <td>What are Florida ounces?</td>\n",
       "      <td>I didn't think much of this when I lived in Fl...</td>\n",
       "      <td>NoStupidQuestions</td>\n",
       "      <td>&lt;praw.models.comment_forest.CommentForest obje...</td>\n",
       "      <td>1.644341e+09</td>\n",
       "      <td>\"Fl oz\" stands for \"fluid ounces,\" not Florida.</td>\n",
       "      <td>50635</td>\n",
       "    </tr>\n",
       "    <tr>\n",
       "      <th>1</th>\n",
       "      <td>1</td>\n",
       "      <td>Why is it \"price gouging\" when people resell s...</td>\n",
       "      <td>NaN</td>\n",
       "      <td>NoStupidQuestions</td>\n",
       "      <td>&lt;praw.models.comment_forest.CommentForest obje...</td>\n",
       "      <td>1.584629e+09</td>\n",
       "      <td>Price gouging doesn't mean \"charging an unfair...</td>\n",
       "      <td>12385</td>\n",
       "    </tr>\n",
       "    <tr>\n",
       "      <th>2</th>\n",
       "      <td>2</td>\n",
       "      <td>Is Reddit actually making it so you can get co...</td>\n",
       "      <td>I've seen so many memes that I'm not sure if i...</td>\n",
       "      <td>NoStupidQuestions</td>\n",
       "      <td>&lt;praw.models.comment_forest.CommentForest obje...</td>\n",
       "      <td>1.576731e+09</td>\n",
       "      <td>~~It's true.~~  I got them.  [Proof](https://i...</td>\n",
       "      <td>12539</td>\n",
       "    </tr>\n",
       "    <tr>\n",
       "      <th>3</th>\n",
       "      <td>3</td>\n",
       "      <td>Anybody else skip past the ads on google and c...</td>\n",
       "      <td>NaN</td>\n",
       "      <td>NoStupidQuestions</td>\n",
       "      <td>&lt;praw.models.comment_forest.CommentForest obje...</td>\n",
       "      <td>1.611769e+09</td>\n",
       "      <td>For me, it's Pavlovian conditioning at this po...</td>\n",
       "      <td>9072</td>\n",
       "    </tr>\n",
       "    <tr>\n",
       "      <th>4</th>\n",
       "      <td>4</td>\n",
       "      <td>Trump and Epstein are trending on Twitter afte...</td>\n",
       "      <td>NaN</td>\n",
       "      <td>NoStupidQuestions</td>\n",
       "      <td>&lt;praw.models.comment_forest.CommentForest obje...</td>\n",
       "      <td>1.590975e+09</td>\n",
       "      <td>I just looked into it. The documents were alre...</td>\n",
       "      <td>12097</td>\n",
       "    </tr>\n",
       "  </tbody>\n",
       "</table>\n",
       "</div>"
      ],
      "text/plain": [
       "   Unnamed: 0                                              title  \\\n",
       "0           0                           What are Florida ounces?   \n",
       "1           1  Why is it \"price gouging\" when people resell s...   \n",
       "2           2  Is Reddit actually making it so you can get co...   \n",
       "3           3  Anybody else skip past the ads on google and c...   \n",
       "4           4  Trump and Epstein are trending on Twitter afte...   \n",
       "\n",
       "                                            selftext          subreddit  \\\n",
       "0  I didn't think much of this when I lived in Fl...  NoStupidQuestions   \n",
       "1                                                NaN  NoStupidQuestions   \n",
       "2  I've seen so many memes that I'm not sure if i...  NoStupidQuestions   \n",
       "3                                                NaN  NoStupidQuestions   \n",
       "4                                                NaN  NoStupidQuestions   \n",
       "\n",
       "                                            comments   created_utc  \\\n",
       "0  <praw.models.comment_forest.CommentForest obje...  1.644341e+09   \n",
       "1  <praw.models.comment_forest.CommentForest obje...  1.584629e+09   \n",
       "2  <praw.models.comment_forest.CommentForest obje...  1.576731e+09   \n",
       "3  <praw.models.comment_forest.CommentForest obje...  1.611769e+09   \n",
       "4  <praw.models.comment_forest.CommentForest obje...  1.590975e+09   \n",
       "\n",
       "                                         top_comment  comment_upvotes  \n",
       "0    \"Fl oz\" stands for \"fluid ounces,\" not Florida.            50635  \n",
       "1  Price gouging doesn't mean \"charging an unfair...            12385  \n",
       "2  ~~It's true.~~  I got them.  [Proof](https://i...            12539  \n",
       "3  For me, it's Pavlovian conditioning at this po...             9072  \n",
       "4  I just looked into it. The documents were alre...            12097  "
      ]
     },
     "execution_count": 9,
     "metadata": {},
     "output_type": "execute_result"
    }
   ],
   "source": [
    "fs.head()"
   ]
  },
  {
   "cell_type": "code",
   "execution_count": 11,
   "id": "3fa810ef-124e-427a-b157-1e817a2e4b2e",
   "metadata": {
    "collapsed": true,
    "jupyter": {
     "outputs_hidden": true
    },
    "tags": []
   },
   "outputs": [
    {
     "data": {
      "text/html": [
       "<div>\n",
       "<style scoped>\n",
       "    .dataframe tbody tr th:only-of-type {\n",
       "        vertical-align: middle;\n",
       "    }\n",
       "\n",
       "    .dataframe tbody tr th {\n",
       "        vertical-align: top;\n",
       "    }\n",
       "\n",
       "    .dataframe thead th {\n",
       "        text-align: right;\n",
       "    }\n",
       "</style>\n",
       "<table border=\"1\" class=\"dataframe\">\n",
       "  <thead>\n",
       "    <tr style=\"text-align: right;\">\n",
       "      <th></th>\n",
       "      <th>Unnamed: 0</th>\n",
       "      <th>title</th>\n",
       "      <th>selftext</th>\n",
       "      <th>subreddit</th>\n",
       "      <th>comments</th>\n",
       "      <th>created_utc</th>\n",
       "      <th>top_comment</th>\n",
       "      <th>comment_upvotes</th>\n",
       "    </tr>\n",
       "  </thead>\n",
       "  <tbody>\n",
       "    <tr>\n",
       "      <th>44</th>\n",
       "      <td>44</td>\n",
       "      <td>Is it just me or has googles search result qua...</td>\n",
       "      <td>Not sure if that's actually the case but it se...</td>\n",
       "      <td>NoStupidQuestions</td>\n",
       "      <td>&lt;praw.models.comment_forest.CommentForest obje...</td>\n",
       "      <td>1.643280e+09</td>\n",
       "      <td>[deleted]</td>\n",
       "      <td>9599</td>\n",
       "    </tr>\n",
       "    <tr>\n",
       "      <th>53</th>\n",
       "      <td>53</td>\n",
       "      <td>Do you agree with Elon Musk on age restriction...</td>\n",
       "      <td>His proposition is that nobody over 70 should ...</td>\n",
       "      <td>NoStupidQuestions</td>\n",
       "      <td>&lt;praw.models.comment_forest.CommentForest obje...</td>\n",
       "      <td>1.639389e+09</td>\n",
       "      <td>[deleted]</td>\n",
       "      <td>6306</td>\n",
       "    </tr>\n",
       "    <tr>\n",
       "      <th>70</th>\n",
       "      <td>70</td>\n",
       "      <td>Why do employers expect a 2 week notice when y...</td>\n",
       "      <td>NaN</td>\n",
       "      <td>NoStupidQuestions</td>\n",
       "      <td>&lt;praw.models.comment_forest.CommentForest obje...</td>\n",
       "      <td>1.543329e+09</td>\n",
       "      <td>[deleted]</td>\n",
       "      <td>16884</td>\n",
       "    </tr>\n",
       "    <tr>\n",
       "      <th>87</th>\n",
       "      <td>87</td>\n",
       "      <td>Does anyone else get anxiety when other people...</td>\n",
       "      <td>NaN</td>\n",
       "      <td>NoStupidQuestions</td>\n",
       "      <td>&lt;praw.models.comment_forest.CommentForest obje...</td>\n",
       "      <td>1.588144e+09</td>\n",
       "      <td>[deleted]</td>\n",
       "      <td>3359</td>\n",
       "    </tr>\n",
       "    <tr>\n",
       "      <th>125</th>\n",
       "      <td>125</td>\n",
       "      <td>Do you guys sometimes close Reddit only to ope...</td>\n",
       "      <td>Edit: glad to know I’m not the only one</td>\n",
       "      <td>NoStupidQuestions</td>\n",
       "      <td>&lt;praw.models.comment_forest.CommentForest obje...</td>\n",
       "      <td>1.633378e+09</td>\n",
       "      <td>[deleted]</td>\n",
       "      <td>2411</td>\n",
       "    </tr>\n",
       "    <tr>\n",
       "      <th>...</th>\n",
       "      <td>...</td>\n",
       "      <td>...</td>\n",
       "      <td>...</td>\n",
       "      <td>...</td>\n",
       "      <td>...</td>\n",
       "      <td>...</td>\n",
       "      <td>...</td>\n",
       "      <td>...</td>\n",
       "    </tr>\n",
       "    <tr>\n",
       "      <th>4955</th>\n",
       "      <td>4955</td>\n",
       "      <td>What's the point of continuing when the world ...</td>\n",
       "      <td>I'm 21 and I'm walking into the adult world wi...</td>\n",
       "      <td>TooAfraidToAsk</td>\n",
       "      <td>&lt;praw.models.comment_forest.CommentForest obje...</td>\n",
       "      <td>1.593213e+09</td>\n",
       "      <td>[deleted]</td>\n",
       "      <td>2892</td>\n",
       "    </tr>\n",
       "    <tr>\n",
       "      <th>4966</th>\n",
       "      <td>4966</td>\n",
       "      <td>Do you think the cross would be seen as taboo ...</td>\n",
       "      <td>NaN</td>\n",
       "      <td>TooAfraidToAsk</td>\n",
       "      <td>&lt;praw.models.comment_forest.CommentForest obje...</td>\n",
       "      <td>1.560365e+09</td>\n",
       "      <td>[deleted]</td>\n",
       "      <td>2869</td>\n",
       "    </tr>\n",
       "    <tr>\n",
       "      <th>4976</th>\n",
       "      <td>4976</td>\n",
       "      <td>How do people work 9-5, make meals, go to the ...</td>\n",
       "      <td>NaN</td>\n",
       "      <td>TooAfraidToAsk</td>\n",
       "      <td>&lt;praw.models.comment_forest.CommentForest obje...</td>\n",
       "      <td>1.580932e+09</td>\n",
       "      <td>[deleted]</td>\n",
       "      <td>4495</td>\n",
       "    </tr>\n",
       "    <tr>\n",
       "      <th>5020</th>\n",
       "      <td>5020</td>\n",
       "      <td>Do you ever feel awkward when you walk out of ...</td>\n",
       "      <td>NaN</td>\n",
       "      <td>TooAfraidToAsk</td>\n",
       "      <td>&lt;praw.models.comment_forest.CommentForest obje...</td>\n",
       "      <td>1.558422e+09</td>\n",
       "      <td>[deleted]</td>\n",
       "      <td>1820</td>\n",
       "    </tr>\n",
       "    <tr>\n",
       "      <th>5269</th>\n",
       "      <td>5269</td>\n",
       "      <td>What's the weirdest or scariest intrusive thou...</td>\n",
       "      <td>NaN</td>\n",
       "      <td>morbidquestions</td>\n",
       "      <td>&lt;praw.models.comment_forest.CommentForest obje...</td>\n",
       "      <td>1.693459e+09</td>\n",
       "      <td>[deleted]</td>\n",
       "      <td>1</td>\n",
       "    </tr>\n",
       "  </tbody>\n",
       "</table>\n",
       "<p>137 rows × 8 columns</p>\n",
       "</div>"
      ],
      "text/plain": [
       "      Unnamed: 0                                              title  \\\n",
       "44            44  Is it just me or has googles search result qua...   \n",
       "53            53  Do you agree with Elon Musk on age restriction...   \n",
       "70            70  Why do employers expect a 2 week notice when y...   \n",
       "87            87  Does anyone else get anxiety when other people...   \n",
       "125          125  Do you guys sometimes close Reddit only to ope...   \n",
       "...          ...                                                ...   \n",
       "4955        4955  What's the point of continuing when the world ...   \n",
       "4966        4966  Do you think the cross would be seen as taboo ...   \n",
       "4976        4976  How do people work 9-5, make meals, go to the ...   \n",
       "5020        5020  Do you ever feel awkward when you walk out of ...   \n",
       "5269        5269  What's the weirdest or scariest intrusive thou...   \n",
       "\n",
       "                                               selftext          subreddit  \\\n",
       "44    Not sure if that's actually the case but it se...  NoStupidQuestions   \n",
       "53    His proposition is that nobody over 70 should ...  NoStupidQuestions   \n",
       "70                                                  NaN  NoStupidQuestions   \n",
       "87                                                  NaN  NoStupidQuestions   \n",
       "125             Edit: glad to know I’m not the only one  NoStupidQuestions   \n",
       "...                                                 ...                ...   \n",
       "4955  I'm 21 and I'm walking into the adult world wi...     TooAfraidToAsk   \n",
       "4966                                                NaN     TooAfraidToAsk   \n",
       "4976                                                NaN     TooAfraidToAsk   \n",
       "5020                                                NaN     TooAfraidToAsk   \n",
       "5269                                                NaN    morbidquestions   \n",
       "\n",
       "                                               comments   created_utc  \\\n",
       "44    <praw.models.comment_forest.CommentForest obje...  1.643280e+09   \n",
       "53    <praw.models.comment_forest.CommentForest obje...  1.639389e+09   \n",
       "70    <praw.models.comment_forest.CommentForest obje...  1.543329e+09   \n",
       "87    <praw.models.comment_forest.CommentForest obje...  1.588144e+09   \n",
       "125   <praw.models.comment_forest.CommentForest obje...  1.633378e+09   \n",
       "...                                                 ...           ...   \n",
       "4955  <praw.models.comment_forest.CommentForest obje...  1.593213e+09   \n",
       "4966  <praw.models.comment_forest.CommentForest obje...  1.560365e+09   \n",
       "4976  <praw.models.comment_forest.CommentForest obje...  1.580932e+09   \n",
       "5020  <praw.models.comment_forest.CommentForest obje...  1.558422e+09   \n",
       "5269  <praw.models.comment_forest.CommentForest obje...  1.693459e+09   \n",
       "\n",
       "     top_comment  comment_upvotes  \n",
       "44     [deleted]             9599  \n",
       "53     [deleted]             6306  \n",
       "70     [deleted]            16884  \n",
       "87     [deleted]             3359  \n",
       "125    [deleted]             2411  \n",
       "...          ...              ...  \n",
       "4955   [deleted]             2892  \n",
       "4966   [deleted]             2869  \n",
       "4976   [deleted]             4495  \n",
       "5020   [deleted]             1820  \n",
       "5269   [deleted]                1  \n",
       "\n",
       "[137 rows x 8 columns]"
      ]
     },
     "execution_count": 11,
     "metadata": {},
     "output_type": "execute_result"
    }
   ],
   "source": [
    "fs.loc[fs['top_comment']=='[deleted]']"
   ]
  },
  {
   "cell_type": "code",
   "execution_count": 7,
   "id": "714b4433-4e4c-4d29-ab1a-dc32e5affb37",
   "metadata": {
    "tags": []
   },
   "outputs": [],
   "source": [
    "import numpy as np"
   ]
  },
  {
   "cell_type": "code",
   "execution_count": 8,
   "id": "ca6eefab-a1ad-4a48-9aed-a3f4b43ec115",
   "metadata": {
    "tags": []
   },
   "outputs": [],
   "source": [
    "fs['top_comment'].replace('[deleted]',np.nan, inplace = True)"
   ]
  },
  {
   "cell_type": "code",
   "execution_count": 9,
   "id": "0b1dba30-f035-4081-ae4b-3cd9f9fd916f",
   "metadata": {
    "tags": []
   },
   "outputs": [
    {
     "data": {
      "text/plain": [
       "137"
      ]
     },
     "execution_count": 9,
     "metadata": {},
     "output_type": "execute_result"
    }
   ],
   "source": [
    "fs['top_comment'].isnull().sum()"
   ]
  },
  {
   "cell_type": "code",
   "execution_count": 10,
   "id": "6fec31c8-47fc-4c07-9d6b-9b1259218c5a",
   "metadata": {
    "tags": []
   },
   "outputs": [],
   "source": [
    "fs.dropna(inplace=True)"
   ]
  },
  {
   "cell_type": "code",
   "execution_count": 11,
   "id": "36966d76-0f28-4f10-958a-b845a8640c73",
   "metadata": {
    "tags": []
   },
   "outputs": [
    {
     "name": "stdout",
     "output_type": "stream",
     "text": [
      "<class 'pandas.core.frame.DataFrame'>\n",
      "Int64Index: 3035 entries, 0 to 5351\n",
      "Data columns (total 8 columns):\n",
      " #   Column           Non-Null Count  Dtype  \n",
      "---  ------           --------------  -----  \n",
      " 0   Unnamed: 0       3035 non-null   int64  \n",
      " 1   title            3035 non-null   object \n",
      " 2   selftext         3035 non-null   object \n",
      " 3   subreddit        3035 non-null   object \n",
      " 4   comments         3035 non-null   object \n",
      " 5   created_utc      3035 non-null   float64\n",
      " 6   top_comment      3035 non-null   object \n",
      " 7   comment_upvotes  3035 non-null   int64  \n",
      "dtypes: float64(1), int64(2), object(5)\n",
      "memory usage: 213.4+ KB\n"
     ]
    }
   ],
   "source": [
    "fs.info()"
   ]
  },
  {
   "cell_type": "code",
   "execution_count": 12,
   "id": "9635f18f-4eed-4c8b-82d6-c78c70d47822",
   "metadata": {
    "tags": []
   },
   "outputs": [],
   "source": [
    "fs.drop_duplicates(subset='title', inplace=True)"
   ]
  },
  {
   "cell_type": "code",
   "execution_count": 13,
   "id": "b2971ac0-2676-43b5-bd6e-c91f95f31a0e",
   "metadata": {
    "tags": []
   },
   "outputs": [
    {
     "name": "stdout",
     "output_type": "stream",
     "text": [
      "<class 'pandas.core.frame.DataFrame'>\n",
      "Int64Index: 2505 entries, 0 to 5351\n",
      "Data columns (total 8 columns):\n",
      " #   Column           Non-Null Count  Dtype  \n",
      "---  ------           --------------  -----  \n",
      " 0   Unnamed: 0       2505 non-null   int64  \n",
      " 1   title            2505 non-null   object \n",
      " 2   selftext         2505 non-null   object \n",
      " 3   subreddit        2505 non-null   object \n",
      " 4   comments         2505 non-null   object \n",
      " 5   created_utc      2505 non-null   float64\n",
      " 6   top_comment      2505 non-null   object \n",
      " 7   comment_upvotes  2505 non-null   int64  \n",
      "dtypes: float64(1), int64(2), object(5)\n",
      "memory usage: 176.1+ KB\n"
     ]
    }
   ],
   "source": [
    "fs.info()"
   ]
  },
  {
   "cell_type": "code",
   "execution_count": 14,
   "id": "33498425-0dc6-48d3-9db6-8da43b373726",
   "metadata": {
    "tags": []
   },
   "outputs": [],
   "source": [
    "fs.reset_index(inplace=True)"
   ]
  },
  {
   "cell_type": "code",
   "execution_count": 16,
   "id": "568b6603-9147-4570-b66f-27a618b940e3",
   "metadata": {
    "tags": []
   },
   "outputs": [
    {
     "name": "stdout",
     "output_type": "stream",
     "text": [
      "<class 'pandas.core.frame.DataFrame'>\n",
      "RangeIndex: 2505 entries, 0 to 2504\n",
      "Data columns (total 9 columns):\n",
      " #   Column           Non-Null Count  Dtype  \n",
      "---  ------           --------------  -----  \n",
      " 0   index            2505 non-null   int64  \n",
      " 1   Unnamed: 0       2505 non-null   int64  \n",
      " 2   title            2505 non-null   object \n",
      " 3   selftext         2505 non-null   object \n",
      " 4   subreddit        2505 non-null   object \n",
      " 5   comments         2505 non-null   object \n",
      " 6   created_utc      2505 non-null   float64\n",
      " 7   top_comment      2505 non-null   object \n",
      " 8   comment_upvotes  2505 non-null   int64  \n",
      "dtypes: float64(1), int64(3), object(5)\n",
      "memory usage: 176.3+ KB\n"
     ]
    }
   ],
   "source": [
    "fs.info()"
   ]
  },
  {
   "cell_type": "code",
   "execution_count": 24,
   "id": "a7118b03-4836-48b0-97c9-95a305dd204c",
   "metadata": {
    "tags": []
   },
   "outputs": [],
   "source": [
    "fs.drop(index=12,inplace=True)"
   ]
  },
  {
   "cell_type": "code",
   "execution_count": 25,
   "id": "bc07d691-0413-4301-b5b8-8cdcf4528937",
   "metadata": {
    "tags": []
   },
   "outputs": [],
   "source": [
    "fs.reset_index(inplace=True)"
   ]
  },
  {
   "cell_type": "code",
   "execution_count": 26,
   "id": "540f6365-76a4-475b-9359-934cfa85752d",
   "metadata": {
    "tags": []
   },
   "outputs": [
    {
     "data": {
      "text/plain": [
       "0                              What are Florida ounces?\n",
       "1     Is Reddit actually making it so you can get co...\n",
       "2     Does anyone else stay up at night because they...\n",
       "3     Is it weird that my 35 year old friend is wait...\n",
       "4                            What's the name of my food\n",
       "5                Why do people wear shoes in the house?\n",
       "6     If every single American teen suddenly \"pulled...\n",
       "7     Anybody else feel super cringey when taking se...\n",
       "8                    Why do my students call me a goat?\n",
       "9     Today, I told my mom that I have no internal m...\n",
       "10    Does anybody else watch their pet while they'r...\n",
       "11    How come governments can be so openly corrupt,...\n",
       "12    Does anyone go through a vicious loop of being...\n",
       "13    Does anyone else think Google search quality h...\n",
       "14    How is Reddit so popular, yet everyone I ask e...\n",
       "15    My unemployed boyfriend claims he has a simple...\n",
       "16              Is reddit having a stroke or something?\n",
       "17        Are men really that much stronger than women?\n",
       "18    Is Russia truly doing such a poor job in the i...\n",
       "19    Is it a red flag if a guy you just started dat...\n",
       "Name: title, dtype: object"
      ]
     },
     "execution_count": 26,
     "metadata": {},
     "output_type": "execute_result"
    }
   ],
   "source": [
    "fs['title'][:20]"
   ]
  },
  {
   "cell_type": "code",
   "execution_count": null,
   "id": "d6879d1f-5f4b-4393-94c7-bc1e249540b6",
   "metadata": {},
   "outputs": [],
   "source": []
  },
  {
   "cell_type": "code",
   "execution_count": 27,
   "id": "ee34c84c-5d0e-4bfc-bd15-39551ab5505b",
   "metadata": {
    "collapsed": true,
    "jupyter": {
     "outputs_hidden": true
    },
    "tags": []
   },
   "outputs": [
    {
     "ename": "TypeError",
     "evalue": "Object of type Series is not JSON serializable",
     "output_type": "error",
     "traceback": [
      "\u001b[0;31m---------------------------------------------------------------------------\u001b[0m",
      "\u001b[0;31mTypeError\u001b[0m                                 Traceback (most recent call last)",
      "Cell \u001b[0;32mIn[27], line 1\u001b[0m\n\u001b[0;32m----> 1\u001b[0m response_group_220to239 \u001b[38;5;241m=\u001b[39m ai_response(fs[\u001b[38;5;124m'\u001b[39m\u001b[38;5;124mtitle\u001b[39m\u001b[38;5;124m'\u001b[39m][:\u001b[38;5;241m20\u001b[39m])\n\u001b[1;32m      2\u001b[0m data_group_220to239 \u001b[38;5;241m=\u001b[39m pd\u001b[38;5;241m.\u001b[39mDataFrame(add_together(full_subreddit_220to239,response_group_220to239))\n",
      "Cell \u001b[0;32mIn[3], line 3\u001b[0m, in \u001b[0;36mai_response\u001b[0;34m(prompts)\u001b[0m\n\u001b[1;32m      1\u001b[0m \u001b[38;5;28;01mdef\u001b[39;00m \u001b[38;5;21mai_response\u001b[39m(prompts):\n\u001b[1;32m      2\u001b[0m     response_group \u001b[38;5;241m=\u001b[39m []\n\u001b[0;32m----> 3\u001b[0m     dv_response \u001b[38;5;241m=\u001b[39m openai\u001b[38;5;241m.\u001b[39mCompletion\u001b[38;5;241m.\u001b[39mcreate(\n\u001b[1;32m      4\u001b[0m     model\u001b[38;5;241m=\u001b[39m\u001b[38;5;124m\"\u001b[39m\u001b[38;5;124mtext-davinci-003\u001b[39m\u001b[38;5;124m\"\u001b[39m,\n\u001b[1;32m      5\u001b[0m     prompt\u001b[38;5;241m=\u001b[39mprompts,\n\u001b[1;32m      6\u001b[0m     temperature\u001b[38;5;241m=\u001b[39m\u001b[38;5;241m0.6\u001b[39m,\n\u001b[1;32m      7\u001b[0m     max_tokens \u001b[38;5;241m=\u001b[39m \u001b[38;5;241m500\u001b[39m)\n\u001b[1;32m      8\u001b[0m     \u001b[38;5;28;01mfor\u001b[39;00m res \u001b[38;5;129;01min\u001b[39;00m dv_response[\u001b[38;5;124m'\u001b[39m\u001b[38;5;124mchoices\u001b[39m\u001b[38;5;124m'\u001b[39m]:\n\u001b[1;32m      9\u001b[0m         response_group\u001b[38;5;241m.\u001b[39mappend(res[\u001b[38;5;124m'\u001b[39m\u001b[38;5;124mtext\u001b[39m\u001b[38;5;124m'\u001b[39m]\u001b[38;5;241m.\u001b[39mstrip())\n",
      "File \u001b[0;32m~/anaconda3/lib/python3.11/site-packages/openai/api_resources/completion.py:25\u001b[0m, in \u001b[0;36mCompletion.create\u001b[0;34m(cls, *args, **kwargs)\u001b[0m\n\u001b[1;32m     23\u001b[0m \u001b[38;5;28;01mwhile\u001b[39;00m \u001b[38;5;28;01mTrue\u001b[39;00m:\n\u001b[1;32m     24\u001b[0m     \u001b[38;5;28;01mtry\u001b[39;00m:\n\u001b[0;32m---> 25\u001b[0m         \u001b[38;5;28;01mreturn\u001b[39;00m \u001b[38;5;28msuper\u001b[39m()\u001b[38;5;241m.\u001b[39mcreate(\u001b[38;5;241m*\u001b[39margs, \u001b[38;5;241m*\u001b[39m\u001b[38;5;241m*\u001b[39mkwargs)\n\u001b[1;32m     26\u001b[0m     \u001b[38;5;28;01mexcept\u001b[39;00m TryAgain \u001b[38;5;28;01mas\u001b[39;00m e:\n\u001b[1;32m     27\u001b[0m         \u001b[38;5;28;01mif\u001b[39;00m timeout \u001b[38;5;129;01mis\u001b[39;00m \u001b[38;5;129;01mnot\u001b[39;00m \u001b[38;5;28;01mNone\u001b[39;00m \u001b[38;5;129;01mand\u001b[39;00m time\u001b[38;5;241m.\u001b[39mtime() \u001b[38;5;241m>\u001b[39m start \u001b[38;5;241m+\u001b[39m timeout:\n",
      "File \u001b[0;32m~/anaconda3/lib/python3.11/site-packages/openai/api_resources/abstract/engine_api_resource.py:153\u001b[0m, in \u001b[0;36mEngineAPIResource.create\u001b[0;34m(cls, api_key, api_base, api_type, request_id, api_version, organization, **params)\u001b[0m\n\u001b[1;32m    127\u001b[0m \u001b[38;5;129m@classmethod\u001b[39m\n\u001b[1;32m    128\u001b[0m \u001b[38;5;28;01mdef\u001b[39;00m \u001b[38;5;21mcreate\u001b[39m(\n\u001b[1;32m    129\u001b[0m     \u001b[38;5;28mcls\u001b[39m,\n\u001b[0;32m   (...)\u001b[0m\n\u001b[1;32m    136\u001b[0m     \u001b[38;5;241m*\u001b[39m\u001b[38;5;241m*\u001b[39mparams,\n\u001b[1;32m    137\u001b[0m ):\n\u001b[1;32m    138\u001b[0m     (\n\u001b[1;32m    139\u001b[0m         deployment_id,\n\u001b[1;32m    140\u001b[0m         engine,\n\u001b[0;32m   (...)\u001b[0m\n\u001b[1;32m    150\u001b[0m         api_key, api_base, api_type, api_version, organization, \u001b[38;5;241m*\u001b[39m\u001b[38;5;241m*\u001b[39mparams\n\u001b[1;32m    151\u001b[0m     )\n\u001b[0;32m--> 153\u001b[0m     response, _, api_key \u001b[38;5;241m=\u001b[39m requestor\u001b[38;5;241m.\u001b[39mrequest(\n\u001b[1;32m    154\u001b[0m         \u001b[38;5;124m\"\u001b[39m\u001b[38;5;124mpost\u001b[39m\u001b[38;5;124m\"\u001b[39m,\n\u001b[1;32m    155\u001b[0m         url,\n\u001b[1;32m    156\u001b[0m         params\u001b[38;5;241m=\u001b[39mparams,\n\u001b[1;32m    157\u001b[0m         headers\u001b[38;5;241m=\u001b[39mheaders,\n\u001b[1;32m    158\u001b[0m         stream\u001b[38;5;241m=\u001b[39mstream,\n\u001b[1;32m    159\u001b[0m         request_id\u001b[38;5;241m=\u001b[39mrequest_id,\n\u001b[1;32m    160\u001b[0m         request_timeout\u001b[38;5;241m=\u001b[39mrequest_timeout,\n\u001b[1;32m    161\u001b[0m     )\n\u001b[1;32m    163\u001b[0m     \u001b[38;5;28;01mif\u001b[39;00m stream:\n\u001b[1;32m    164\u001b[0m         \u001b[38;5;66;03m# must be an iterator\u001b[39;00m\n\u001b[1;32m    165\u001b[0m         \u001b[38;5;28;01massert\u001b[39;00m \u001b[38;5;129;01mnot\u001b[39;00m \u001b[38;5;28misinstance\u001b[39m(response, OpenAIResponse)\n",
      "File \u001b[0;32m~/anaconda3/lib/python3.11/site-packages/openai/api_requestor.py:288\u001b[0m, in \u001b[0;36mAPIRequestor.request\u001b[0;34m(self, method, url, params, headers, files, stream, request_id, request_timeout)\u001b[0m\n\u001b[1;32m    277\u001b[0m \u001b[38;5;28;01mdef\u001b[39;00m \u001b[38;5;21mrequest\u001b[39m(\n\u001b[1;32m    278\u001b[0m     \u001b[38;5;28mself\u001b[39m,\n\u001b[1;32m    279\u001b[0m     method,\n\u001b[0;32m   (...)\u001b[0m\n\u001b[1;32m    286\u001b[0m     request_timeout: Optional[Union[\u001b[38;5;28mfloat\u001b[39m, Tuple[\u001b[38;5;28mfloat\u001b[39m, \u001b[38;5;28mfloat\u001b[39m]]] \u001b[38;5;241m=\u001b[39m \u001b[38;5;28;01mNone\u001b[39;00m,\n\u001b[1;32m    287\u001b[0m ) \u001b[38;5;241m-\u001b[39m\u001b[38;5;241m>\u001b[39m Tuple[Union[OpenAIResponse, Iterator[OpenAIResponse]], \u001b[38;5;28mbool\u001b[39m, \u001b[38;5;28mstr\u001b[39m]:\n\u001b[0;32m--> 288\u001b[0m     result \u001b[38;5;241m=\u001b[39m \u001b[38;5;28mself\u001b[39m\u001b[38;5;241m.\u001b[39mrequest_raw(\n\u001b[1;32m    289\u001b[0m         method\u001b[38;5;241m.\u001b[39mlower(),\n\u001b[1;32m    290\u001b[0m         url,\n\u001b[1;32m    291\u001b[0m         params\u001b[38;5;241m=\u001b[39mparams,\n\u001b[1;32m    292\u001b[0m         supplied_headers\u001b[38;5;241m=\u001b[39mheaders,\n\u001b[1;32m    293\u001b[0m         files\u001b[38;5;241m=\u001b[39mfiles,\n\u001b[1;32m    294\u001b[0m         stream\u001b[38;5;241m=\u001b[39mstream,\n\u001b[1;32m    295\u001b[0m         request_id\u001b[38;5;241m=\u001b[39mrequest_id,\n\u001b[1;32m    296\u001b[0m         request_timeout\u001b[38;5;241m=\u001b[39mrequest_timeout,\n\u001b[1;32m    297\u001b[0m     )\n\u001b[1;32m    298\u001b[0m     resp, got_stream \u001b[38;5;241m=\u001b[39m \u001b[38;5;28mself\u001b[39m\u001b[38;5;241m.\u001b[39m_interpret_response(result, stream)\n\u001b[1;32m    299\u001b[0m     \u001b[38;5;28;01mreturn\u001b[39;00m resp, got_stream, \u001b[38;5;28mself\u001b[39m\u001b[38;5;241m.\u001b[39mapi_key\n",
      "File \u001b[0;32m~/anaconda3/lib/python3.11/site-packages/openai/api_requestor.py:581\u001b[0m, in \u001b[0;36mAPIRequestor.request_raw\u001b[0;34m(self, method, url, params, supplied_headers, files, stream, request_id, request_timeout)\u001b[0m\n\u001b[1;32m    569\u001b[0m \u001b[38;5;28;01mdef\u001b[39;00m \u001b[38;5;21mrequest_raw\u001b[39m(\n\u001b[1;32m    570\u001b[0m     \u001b[38;5;28mself\u001b[39m,\n\u001b[1;32m    571\u001b[0m     method,\n\u001b[0;32m   (...)\u001b[0m\n\u001b[1;32m    579\u001b[0m     request_timeout: Optional[Union[\u001b[38;5;28mfloat\u001b[39m, Tuple[\u001b[38;5;28mfloat\u001b[39m, \u001b[38;5;28mfloat\u001b[39m]]] \u001b[38;5;241m=\u001b[39m \u001b[38;5;28;01mNone\u001b[39;00m,\n\u001b[1;32m    580\u001b[0m ) \u001b[38;5;241m-\u001b[39m\u001b[38;5;241m>\u001b[39m requests\u001b[38;5;241m.\u001b[39mResponse:\n\u001b[0;32m--> 581\u001b[0m     abs_url, headers, data \u001b[38;5;241m=\u001b[39m \u001b[38;5;28mself\u001b[39m\u001b[38;5;241m.\u001b[39m_prepare_request_raw(\n\u001b[1;32m    582\u001b[0m         url, supplied_headers, method, params, files, request_id\n\u001b[1;32m    583\u001b[0m     )\n\u001b[1;32m    585\u001b[0m     \u001b[38;5;28;01mif\u001b[39;00m \u001b[38;5;129;01mnot\u001b[39;00m \u001b[38;5;28mhasattr\u001b[39m(_thread_context, \u001b[38;5;124m\"\u001b[39m\u001b[38;5;124msession\u001b[39m\u001b[38;5;124m\"\u001b[39m):\n\u001b[1;32m    586\u001b[0m         _thread_context\u001b[38;5;241m.\u001b[39msession \u001b[38;5;241m=\u001b[39m _make_session()\n",
      "File \u001b[0;32m~/anaconda3/lib/python3.11/site-packages/openai/api_requestor.py:553\u001b[0m, in \u001b[0;36mAPIRequestor._prepare_request_raw\u001b[0;34m(self, url, supplied_headers, method, params, files, request_id)\u001b[0m\n\u001b[1;32m    551\u001b[0m         data \u001b[38;5;241m=\u001b[39m params\n\u001b[1;32m    552\u001b[0m     \u001b[38;5;28;01mif\u001b[39;00m params \u001b[38;5;129;01mand\u001b[39;00m \u001b[38;5;129;01mnot\u001b[39;00m files:\n\u001b[0;32m--> 553\u001b[0m         data \u001b[38;5;241m=\u001b[39m json\u001b[38;5;241m.\u001b[39mdumps(params)\u001b[38;5;241m.\u001b[39mencode()\n\u001b[1;32m    554\u001b[0m         headers[\u001b[38;5;124m\"\u001b[39m\u001b[38;5;124mContent-Type\u001b[39m\u001b[38;5;124m\"\u001b[39m] \u001b[38;5;241m=\u001b[39m \u001b[38;5;124m\"\u001b[39m\u001b[38;5;124mapplication/json\u001b[39m\u001b[38;5;124m\"\u001b[39m\n\u001b[1;32m    555\u001b[0m \u001b[38;5;28;01melse\u001b[39;00m:\n",
      "File \u001b[0;32m~/anaconda3/lib/python3.11/json/__init__.py:231\u001b[0m, in \u001b[0;36mdumps\u001b[0;34m(obj, skipkeys, ensure_ascii, check_circular, allow_nan, cls, indent, separators, default, sort_keys, **kw)\u001b[0m\n\u001b[1;32m    226\u001b[0m \u001b[38;5;66;03m# cached encoder\u001b[39;00m\n\u001b[1;32m    227\u001b[0m \u001b[38;5;28;01mif\u001b[39;00m (\u001b[38;5;129;01mnot\u001b[39;00m skipkeys \u001b[38;5;129;01mand\u001b[39;00m ensure_ascii \u001b[38;5;129;01mand\u001b[39;00m\n\u001b[1;32m    228\u001b[0m     check_circular \u001b[38;5;129;01mand\u001b[39;00m allow_nan \u001b[38;5;129;01mand\u001b[39;00m\n\u001b[1;32m    229\u001b[0m     \u001b[38;5;28mcls\u001b[39m \u001b[38;5;129;01mis\u001b[39;00m \u001b[38;5;28;01mNone\u001b[39;00m \u001b[38;5;129;01mand\u001b[39;00m indent \u001b[38;5;129;01mis\u001b[39;00m \u001b[38;5;28;01mNone\u001b[39;00m \u001b[38;5;129;01mand\u001b[39;00m separators \u001b[38;5;129;01mis\u001b[39;00m \u001b[38;5;28;01mNone\u001b[39;00m \u001b[38;5;129;01mand\u001b[39;00m\n\u001b[1;32m    230\u001b[0m     default \u001b[38;5;129;01mis\u001b[39;00m \u001b[38;5;28;01mNone\u001b[39;00m \u001b[38;5;129;01mand\u001b[39;00m \u001b[38;5;129;01mnot\u001b[39;00m sort_keys \u001b[38;5;129;01mand\u001b[39;00m \u001b[38;5;129;01mnot\u001b[39;00m kw):\n\u001b[0;32m--> 231\u001b[0m     \u001b[38;5;28;01mreturn\u001b[39;00m _default_encoder\u001b[38;5;241m.\u001b[39mencode(obj)\n\u001b[1;32m    232\u001b[0m \u001b[38;5;28;01mif\u001b[39;00m \u001b[38;5;28mcls\u001b[39m \u001b[38;5;129;01mis\u001b[39;00m \u001b[38;5;28;01mNone\u001b[39;00m:\n\u001b[1;32m    233\u001b[0m     \u001b[38;5;28mcls\u001b[39m \u001b[38;5;241m=\u001b[39m JSONEncoder\n",
      "File \u001b[0;32m~/anaconda3/lib/python3.11/json/encoder.py:200\u001b[0m, in \u001b[0;36mJSONEncoder.encode\u001b[0;34m(self, o)\u001b[0m\n\u001b[1;32m    196\u001b[0m         \u001b[38;5;28;01mreturn\u001b[39;00m encode_basestring(o)\n\u001b[1;32m    197\u001b[0m \u001b[38;5;66;03m# This doesn't pass the iterator directly to ''.join() because the\u001b[39;00m\n\u001b[1;32m    198\u001b[0m \u001b[38;5;66;03m# exceptions aren't as detailed.  The list call should be roughly\u001b[39;00m\n\u001b[1;32m    199\u001b[0m \u001b[38;5;66;03m# equivalent to the PySequence_Fast that ''.join() would do.\u001b[39;00m\n\u001b[0;32m--> 200\u001b[0m chunks \u001b[38;5;241m=\u001b[39m \u001b[38;5;28mself\u001b[39m\u001b[38;5;241m.\u001b[39miterencode(o, _one_shot\u001b[38;5;241m=\u001b[39m\u001b[38;5;28;01mTrue\u001b[39;00m)\n\u001b[1;32m    201\u001b[0m \u001b[38;5;28;01mif\u001b[39;00m \u001b[38;5;129;01mnot\u001b[39;00m \u001b[38;5;28misinstance\u001b[39m(chunks, (\u001b[38;5;28mlist\u001b[39m, \u001b[38;5;28mtuple\u001b[39m)):\n\u001b[1;32m    202\u001b[0m     chunks \u001b[38;5;241m=\u001b[39m \u001b[38;5;28mlist\u001b[39m(chunks)\n",
      "File \u001b[0;32m~/anaconda3/lib/python3.11/json/encoder.py:258\u001b[0m, in \u001b[0;36mJSONEncoder.iterencode\u001b[0;34m(self, o, _one_shot)\u001b[0m\n\u001b[1;32m    253\u001b[0m \u001b[38;5;28;01melse\u001b[39;00m:\n\u001b[1;32m    254\u001b[0m     _iterencode \u001b[38;5;241m=\u001b[39m _make_iterencode(\n\u001b[1;32m    255\u001b[0m         markers, \u001b[38;5;28mself\u001b[39m\u001b[38;5;241m.\u001b[39mdefault, _encoder, \u001b[38;5;28mself\u001b[39m\u001b[38;5;241m.\u001b[39mindent, floatstr,\n\u001b[1;32m    256\u001b[0m         \u001b[38;5;28mself\u001b[39m\u001b[38;5;241m.\u001b[39mkey_separator, \u001b[38;5;28mself\u001b[39m\u001b[38;5;241m.\u001b[39mitem_separator, \u001b[38;5;28mself\u001b[39m\u001b[38;5;241m.\u001b[39msort_keys,\n\u001b[1;32m    257\u001b[0m         \u001b[38;5;28mself\u001b[39m\u001b[38;5;241m.\u001b[39mskipkeys, _one_shot)\n\u001b[0;32m--> 258\u001b[0m \u001b[38;5;28;01mreturn\u001b[39;00m _iterencode(o, \u001b[38;5;241m0\u001b[39m)\n",
      "File \u001b[0;32m~/anaconda3/lib/python3.11/json/encoder.py:180\u001b[0m, in \u001b[0;36mJSONEncoder.default\u001b[0;34m(self, o)\u001b[0m\n\u001b[1;32m    161\u001b[0m \u001b[38;5;28;01mdef\u001b[39;00m \u001b[38;5;21mdefault\u001b[39m(\u001b[38;5;28mself\u001b[39m, o):\n\u001b[1;32m    162\u001b[0m \u001b[38;5;250m    \u001b[39m\u001b[38;5;124;03m\"\"\"Implement this method in a subclass such that it returns\u001b[39;00m\n\u001b[1;32m    163\u001b[0m \u001b[38;5;124;03m    a serializable object for ``o``, or calls the base implementation\u001b[39;00m\n\u001b[1;32m    164\u001b[0m \u001b[38;5;124;03m    (to raise a ``TypeError``).\u001b[39;00m\n\u001b[0;32m   (...)\u001b[0m\n\u001b[1;32m    178\u001b[0m \n\u001b[1;32m    179\u001b[0m \u001b[38;5;124;03m    \"\"\"\u001b[39;00m\n\u001b[0;32m--> 180\u001b[0m     \u001b[38;5;28;01mraise\u001b[39;00m \u001b[38;5;167;01mTypeError\u001b[39;00m(\u001b[38;5;124mf\u001b[39m\u001b[38;5;124m'\u001b[39m\u001b[38;5;124mObject of type \u001b[39m\u001b[38;5;132;01m{\u001b[39;00mo\u001b[38;5;241m.\u001b[39m\u001b[38;5;18m__class__\u001b[39m\u001b[38;5;241m.\u001b[39m\u001b[38;5;18m__name__\u001b[39m\u001b[38;5;132;01m}\u001b[39;00m\u001b[38;5;124m \u001b[39m\u001b[38;5;124m'\u001b[39m\n\u001b[1;32m    181\u001b[0m                     \u001b[38;5;124mf\u001b[39m\u001b[38;5;124m'\u001b[39m\u001b[38;5;124mis not JSON serializable\u001b[39m\u001b[38;5;124m'\u001b[39m)\n",
      "\u001b[0;31mTypeError\u001b[0m: Object of type Series is not JSON serializable"
     ]
    }
   ],
   "source": [
    "response_group_220to239 = ai_response(fs['title'][:20])\n",
    "data_group_220to239 = pd.DataFrame(add_together(full_subreddit_220to239,response_group_220to239))"
   ]
  },
  {
   "cell_type": "code",
   "execution_count": null,
   "id": "3652bdfc-c338-4639-9830-d5edf23f9076",
   "metadata": {},
   "outputs": [],
   "source": []
  }
 ],
 "metadata": {
  "kernelspec": {
   "display_name": "Python 3 (ipykernel)",
   "language": "python",
   "name": "python3"
  },
  "language_info": {
   "codemirror_mode": {
    "name": "ipython",
    "version": 3
   },
   "file_extension": ".py",
   "mimetype": "text/x-python",
   "name": "python",
   "nbconvert_exporter": "python",
   "pygments_lexer": "ipython3",
   "version": "3.11.4"
  }
 },
 "nbformat": 4,
 "nbformat_minor": 5
}
