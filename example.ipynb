{
 "cells": [
  {
   "cell_type": "markdown",
   "id": "60684d56-7fbf-4d65-af80-c62597523188",
   "metadata": {
    "tags": []
   },
   "source": [
    "# PRAW\n",
    "---"
   ]
  },
  {
   "cell_type": "code",
   "execution_count": 1,
   "id": "a12bdca7-7417-415c-be11-102d81edcd7e",
   "metadata": {
    "tags": []
   },
   "outputs": [],
   "source": [
    "import praw"
   ]
  },
  {
   "cell_type": "code",
   "execution_count": 2,
   "id": "4bff9d43-98cc-4335-ab62-b4babe80bea1",
   "metadata": {
    "tags": []
   },
   "outputs": [],
   "source": [
    "reddit = praw.Reddit()"
   ]
  },
  {
   "cell_type": "code",
   "execution_count": 3,
   "id": "ad725969-2fad-469f-b591-ec51bff194d5",
   "metadata": {
    "tags": []
   },
   "outputs": [],
   "source": [
    "def get_reddit_post(posts):\n",
    "\n",
    "    posts_list = []\n",
    "\n",
    "    for post in posts: \n",
    "        if not post.over_18:\n",
    "            post.comments.replace_more(limit=0) #skip over additional links\n",
    "            highest_ups = -1\n",
    "            for comment in post.comments:\n",
    "                if comment.ups > highest_ups:\n",
    "                    best_comment = comment.body\n",
    "                    highest_ups = comment.ups\n",
    "\n",
    "            posts_list.append(\n",
    "                {'title':post.title,\n",
    "                'selftext': post.selftext,\n",
    "                'subreddit': post.subreddit,\n",
    "                'comments': post.comments,\n",
    "                'created_utc': post.created_utc,\n",
    "                'top_comment': best_comment, \n",
    "                'comment_upvotes': highest_ups}\n",
    "            )\n",
    "    return posts_list"
   ]
  },
  {
   "cell_type": "code",
   "execution_count": 4,
   "id": "4f310e1e-4d5d-4832-b94d-03a8ecf1e83f",
   "metadata": {
    "tags": []
   },
   "outputs": [],
   "source": [
    "my_subreddit = \"NoStupidQuestions\""
   ]
  },
  {
   "cell_type": "code",
   "execution_count": 5,
   "id": "fa3ce1e4-0774-4b91-a6c2-8d5f72bb021c",
   "metadata": {
    "tags": []
   },
   "outputs": [],
   "source": [
    "posts_1 = reddit.subreddit(my_subreddit).hot(limit=500) \n",
    "posts_list_1 = get_reddit_post(posts_1)"
   ]
  },
  {
   "cell_type": "code",
   "execution_count": 9,
   "id": "6dbc80ea-64b8-4b97-873f-360d84c3666d",
   "metadata": {
    "tags": []
   },
   "outputs": [
    {
     "data": {
      "text/plain": [
       "{'title': 'Why do I get more attention when I am wearing a ring?',\n",
       " 'selftext': \"Ok, so here's the info about the question above.\\n\\n27 yr old guy.\\nWhen I go to a bar, or any place that has alot of people, I don't get hit on or receive any attention. \\nThis week I have received  inheritance from my  maternal grandfather, (only grandkid on my mom side.) I have received his wedding ring. So I started to wear it or around my neck on a necklace to remember him by.\\nYesterday I wore it on my hand, and went to a bar, and started to notice that alot of women were coming to me and talk.\\nWhy is this happening?\\n\\n\\nEdit: thank you for the comments and insights about this situation,  moving forward I should not wear my grandpa's ring, so I wouldn't receive any known and unknown attention,  I don't want to be in a somewhat awkward situation with anyone else.\",\n",
       " 'subreddit': Subreddit(display_name='NoStupidQuestions'),\n",
       " 'comments': <praw.models.comment_forest.CommentForest at 0x11162e650>,\n",
       " 'created_utc': 1694801616.0,\n",
       " 'top_comment': 'Are they actively flirting with you or just talking? It could be that they just feel more comfortable talking to you knowing you’re not there to hook up (cause they think you’re married)',\n",
       " 'comment_upvotes': 3413}"
      ]
     },
     "execution_count": 9,
     "metadata": {},
     "output_type": "execute_result"
    }
   ],
   "source": [
    "posts_list_1[1]"
   ]
  },
  {
   "cell_type": "code",
   "execution_count": 10,
   "id": "0329dbb3-8ade-43b4-b2d1-a5b8772a04ec",
   "metadata": {
    "tags": []
   },
   "outputs": [],
   "source": [
    "#posts_2 = reddit.subreddit(my_subreddit).new(limit=500)\n",
    "#posts_list_2 = get_reddit_post(posts_2)"
   ]
  },
  {
   "cell_type": "code",
   "execution_count": 11,
   "id": "cb65970a-d612-42c1-a9cf-7b7807e36e29",
   "metadata": {},
   "outputs": [],
   "source": [
    "posts_3 = reddit.subreddit(my_subreddit).top(limit=500)\n",
    "posts_list_3 = get_reddit_post(posts_3)"
   ]
  },
  {
   "cell_type": "code",
   "execution_count": 12,
   "id": "c436f130-9095-46a5-8a89-2c872af03408",
   "metadata": {
    "tags": []
   },
   "outputs": [
    {
     "data": {
      "text/plain": [
       "{'title': 'Why is it \"price gouging\" when people resell sanitizer for an extra 10% but perfectly fine for pharmaceutical companies to mark life saving medicine 1000%?',\n",
       " 'selftext': '',\n",
       " 'subreddit': Subreddit(display_name='NoStupidQuestions'),\n",
       " 'comments': <praw.models.comment_forest.CommentForest at 0x127ac0090>,\n",
       " 'created_utc': 1584629469.0,\n",
       " 'top_comment': 'Price gouging doesn\\'t mean \"charging an unfair price.\" It specifically means charging unreasonably high prices on necessities *during a time of emergency* (or other relevant temporary period) when compared when non-emergency prices.\\n\\nPharmaceutical companies are engaging in shitty practices by artificially inflating the cost of life-saving medicine, but that\\'s *always* the price they charge, so it\\'s not price gouging.\\n\\nIt\\'s *shitty*, but it\\'s not price gouging.',\n",
       " 'comment_upvotes': 12385}"
      ]
     },
     "execution_count": 12,
     "metadata": {},
     "output_type": "execute_result"
    }
   ],
   "source": [
    "posts_list_3[1]"
   ]
  },
  {
   "cell_type": "code",
   "execution_count": 16,
   "id": "8da0f0b5-c331-4106-bd97-970f36735534",
   "metadata": {
    "tags": []
   },
   "outputs": [],
   "source": [
    "posts_list_1and3 = posts_list_1+posts_list_3"
   ]
  },
  {
   "cell_type": "code",
   "execution_count": 21,
   "id": "254c379c-3ac8-4672-8297-897709ececcf",
   "metadata": {
    "tags": []
   },
   "outputs": [
    {
     "data": {
      "text/plain": [
       "{'title': 'Is it rude to spend 3+ hours studying in a restaurant/café?',\n",
       " 'selftext': \"I'm split about this. I usually go to this restaurant (nothing fancy, basically a diner) to do school work when I know I will fall asleep if I stay home.\\n\\n\\nThe place is huge, I always take up a table for two in a corner out of the way, I order dinner with no drink and just chill there with my textbooks. Two of the waiters are lovely and always greet me warmly, so I make sure to tip well. But there is a waitress that is very frosty and always approaches asking if I will order anything else, so I always wonder if I'm overstaying. \\n\\n\\nNote, the place is huge and it's never even near crowded or at full capacity when I'm there.\\n\\n\\nEDIT: real quick, not from the US. There aren't many places without servers, Starbucks is one of the few ones and a coffee is more expensive than a full meal. And their coffee tastes like sugary dirt. \\n\\nI know libraries exist, they close by 5pm, I go to the diner after that. Also, I would get sooo mugged if I studied at the park.\\n\\nI think I'll ask the staff directly next time and go from there just in case.\",\n",
       " 'subreddit': Subreddit(display_name='NoStupidQuestions'),\n",
       " 'comments': <praw.models.comment_forest.CommentForest at 0x111695d90>,\n",
       " 'created_utc': 1694827055.0,\n",
       " 'top_comment': \"If it isn't busy and you make a purchase, you're fine.\",\n",
       " 'comment_upvotes': 543}"
      ]
     },
     "execution_count": 21,
     "metadata": {},
     "output_type": "execute_result"
    }
   ],
   "source": [
    "posts_list_1and3[2]"
   ]
  },
  {
   "cell_type": "code",
   "execution_count": 22,
   "id": "1eba1670-b64e-4f54-be73-f280d6a899a3",
   "metadata": {
    "tags": []
   },
   "outputs": [
    {
     "data": {
      "text/plain": [
       "945"
      ]
     },
     "execution_count": 22,
     "metadata": {},
     "output_type": "execute_result"
    }
   ],
   "source": [
    "len(posts_list_1and3)"
   ]
  },
  {
   "cell_type": "code",
   "execution_count": 26,
   "id": "faf85ed6-f818-4e81-8d4f-a2bbde52ac4d",
   "metadata": {
    "tags": []
   },
   "outputs": [
    {
     "data": {
      "text/plain": [
       "{'title': \"Why don't drug cartels sell insulin and other medical drugs in the USA?\",\n",
       " 'selftext': \"In Mexico insulin is dirt cheap compared to the USA, and the same is true for pretty much any medical drug\\n\\nWhy don't drug cartels sell those drugs like they sell illegal drugs?. People would absolutely buy them\\n\\nThey could even make those drugs themselves, they have the means\",\n",
       " 'subreddit': Subreddit(display_name='NoStupidQuestions'),\n",
       " 'comments': <praw.models.comment_forest.CommentForest at 0x2a8f41350>,\n",
       " 'created_utc': 1641942795.0,\n",
       " 'top_comment': 'Insulin is temperature sensitive and has a limited shelf life. This makes importation/transportation difficult.',\n",
       " 'comment_upvotes': 11218}"
      ]
     },
     "execution_count": 26,
     "metadata": {},
     "output_type": "execute_result"
    }
   ],
   "source": [
    "posts_list_1and3[944]"
   ]
  },
  {
   "cell_type": "code",
   "execution_count": 27,
   "id": "f91b502d-eb63-4db9-8e33-84b2579de6ec",
   "metadata": {},
   "outputs": [],
   "source": [
    "my_subreddit_2 = \"Questions\""
   ]
  },
  {
   "cell_type": "code",
   "execution_count": 28,
   "id": "0af27dce-fde5-4de3-a3bd-80769288f1a6",
   "metadata": {
    "tags": []
   },
   "outputs": [],
   "source": [
    "posts_4 = reddit.subreddit(my_subreddit_2).hot(limit=500) \n",
    "posts_list_4 = get_reddit_post(posts_4)"
   ]
  },
  {
   "cell_type": "code",
   "execution_count": 30,
   "id": "60528656-3285-43d4-9dda-39cd8cad8ed1",
   "metadata": {},
   "outputs": [],
   "source": [
    "posts_5 = reddit.subreddit(my_subreddit_2).new(limit=400)\n",
    "posts_list_5 = get_reddit_post(posts_5)"
   ]
  },
  {
   "cell_type": "code",
   "execution_count": 31,
   "id": "8b2def96-0fb3-468e-a568-f89cfb7f5fcd",
   "metadata": {},
   "outputs": [],
   "source": [
    "posts_6 = reddit.subreddit(my_subreddit_2).top(limit=500) \n",
    "posts_list_6 = get_reddit_post(posts_6)"
   ]
  },
  {
   "cell_type": "code",
   "execution_count": 32,
   "id": "b9bb1ef7-f109-400a-905f-56655d89c625",
   "metadata": {
    "tags": []
   },
   "outputs": [
    {
     "data": {
      "text/plain": [
       "1299"
      ]
     },
     "execution_count": 32,
     "metadata": {},
     "output_type": "execute_result"
    }
   ],
   "source": [
    "posts_list_4and5and6 = posts_list_4+posts_list_5+posts_list_6\n",
    "len(posts_list_4and5and6)"
   ]
  },
  {
   "cell_type": "code",
   "execution_count": 33,
   "id": "62775855-86ca-492a-9aac-f4c886276bba",
   "metadata": {},
   "outputs": [],
   "source": [
    "my_subreddit_3 = \"Askreddit\""
   ]
  },
  {
   "cell_type": "code",
   "execution_count": 34,
   "id": "3e7a2075-9eb6-4352-9db4-7c6fc91b908b",
   "metadata": {},
   "outputs": [],
   "source": [
    "posts_7 = reddit.subreddit(my_subreddit_3).hot(limit=500) \n",
    "posts_list_7 = get_reddit_post(posts_7)"
   ]
  },
  {
   "cell_type": "code",
   "execution_count": 36,
   "id": "a35b9e7a-c4b8-428e-91d4-8a36233c2c76",
   "metadata": {},
   "outputs": [],
   "source": [
    "#posts_8 = reddit.subreddit(my_subreddit_3).new(limit=500) \n",
    "#posts_list_8 = get_reddit_post(posts_8)"
   ]
  },
  {
   "cell_type": "code",
   "execution_count": 37,
   "id": "30e362c6-d244-4123-9331-e23592e1aa8b",
   "metadata": {},
   "outputs": [],
   "source": [
    "posts_9 = reddit.subreddit(my_subreddit_3).top(limit=600) \n",
    "posts_list_9 = get_reddit_post(posts_9)"
   ]
  },
  {
   "cell_type": "code",
   "execution_count": 40,
   "id": "ce92794e-5be7-4681-99c2-95b0d2560202",
   "metadata": {
    "tags": []
   },
   "outputs": [
    {
     "data": {
      "text/plain": [
       "1012"
      ]
     },
     "execution_count": 40,
     "metadata": {},
     "output_type": "execute_result"
    }
   ],
   "source": [
    "posts_list_7and9 = posts_list_7 + posts_list_9\n",
    "len(posts_list_7and9)"
   ]
  },
  {
   "cell_type": "code",
   "execution_count": 41,
   "id": "9d394c2a-4ba4-4da4-a3e7-85edb5bf368d",
   "metadata": {},
   "outputs": [],
   "source": [
    "my_subreddit_4 = \"MorbidQuestions\""
   ]
  },
  {
   "cell_type": "code",
   "execution_count": 43,
   "id": "d437ec6c-72f1-4a9e-8dd9-0fc3d822f204",
   "metadata": {},
   "outputs": [],
   "source": [
    "posts_10 = reddit.subreddit(my_subreddit_4).top(limit=800) \n",
    "posts_list_10 = get_reddit_post(posts_10)"
   ]
  },
  {
   "cell_type": "code",
   "execution_count": 45,
   "id": "8ce7249e-1d28-461f-8b8f-6570a2798b6c",
   "metadata": {},
   "outputs": [],
   "source": [
    "posts_11 = reddit.subreddit(my_subreddit_4).new(limit=400) \n",
    "posts_list_11 = get_reddit_post(posts_11)"
   ]
  },
  {
   "cell_type": "code",
   "execution_count": 53,
   "id": "2ff7bed6-63df-42e0-b3c5-bab6ba323913",
   "metadata": {
    "tags": []
   },
   "outputs": [],
   "source": [
    "posts_14 = reddit.subreddit(my_subreddit_4).hot(limit=400) \n",
    "posts_list_14 = get_reddit_post(posts_14)"
   ]
  },
  {
   "cell_type": "code",
   "execution_count": 48,
   "id": "85f5918d-076c-49ce-9d62-dbbf86390bb3",
   "metadata": {
    "tags": []
   },
   "outputs": [
    {
     "data": {
      "text/plain": [
       "1393"
      ]
     },
     "execution_count": 48,
     "metadata": {},
     "output_type": "execute_result"
    }
   ],
   "source": [
    "posts_list_10and11and14 = posts_list_10 + posts_list_11 + posts_list_14\n",
    "len(posts_list_10and11and14)"
   ]
  },
  {
   "cell_type": "code",
   "execution_count": 49,
   "id": "a15d882a-bd39-479a-8ed2-0e63e129c491",
   "metadata": {
    "tags": []
   },
   "outputs": [],
   "source": [
    "my_subreddit_5 = \"TooAfraidToAsk\""
   ]
  },
  {
   "cell_type": "code",
   "execution_count": 50,
   "id": "39e13efe-0da7-4c31-aad9-f782d171d1ba",
   "metadata": {
    "tags": []
   },
   "outputs": [],
   "source": [
    "posts_12 = reddit.subreddit(my_subreddit_5).hot(limit=500) \n",
    "posts_list_12 = get_reddit_post(posts_12)"
   ]
  },
  {
   "cell_type": "code",
   "execution_count": 51,
   "id": "3239f53e-2a0d-4988-a9fa-92c12731cd5a",
   "metadata": {},
   "outputs": [],
   "source": [
    "posts_13 = reddit.subreddit(my_subreddit_5).top(limit=900) \n",
    "posts_list_13 = get_reddit_post(posts_13)"
   ]
  },
  {
   "cell_type": "code",
   "execution_count": 52,
   "id": "19cb27ba-1531-4808-a50c-b97600e43423",
   "metadata": {
    "tags": []
   },
   "outputs": [
    {
     "data": {
      "text/plain": [
       "1176"
      ]
     },
     "execution_count": 52,
     "metadata": {},
     "output_type": "execute_result"
    }
   ],
   "source": [
    "posts_list_12and13 = posts_list_12 + posts_list_13\n",
    "len(posts_list_12and13)"
   ]
  },
  {
   "cell_type": "code",
   "execution_count": 158,
   "id": "b1a1415b-6271-4804-bf15-062f1f503588",
   "metadata": {
    "tags": []
   },
   "outputs": [],
   "source": [
    "full_subreddit = posts_list_3 + posts_list_4 + posts_list_5 + posts_list_6 + posts_list_7 + posts_list_9 + posts_list_10 + posts_list_11 + posts_list_12 + posts_list_13 + posts_list_14"
   ]
  },
  {
   "cell_type": "code",
   "execution_count": 58,
   "id": "8c0cb300-56b6-47fb-a3a0-77b912ac2a0f",
   "metadata": {
    "tags": []
   },
   "outputs": [
    {
     "data": {
      "text/plain": [
       "5825"
      ]
     },
     "execution_count": 58,
     "metadata": {},
     "output_type": "execute_result"
    }
   ],
   "source": [
    "len(full_subreddit)"
   ]
  },
  {
   "cell_type": "code",
   "execution_count": 64,
   "id": "b075b0d3-fe91-46e8-9d0a-5605c42e9854",
   "metadata": {
    "tags": []
   },
   "outputs": [
    {
     "data": {
      "text/plain": [
       "list"
      ]
     },
     "execution_count": 64,
     "metadata": {},
     "output_type": "execute_result"
    }
   ],
   "source": [
    "type(full_subreddit)"
   ]
  },
  {
   "cell_type": "code",
   "execution_count": 164,
   "id": "b63cd82c-a38b-4433-8a3d-4c966eed20b4",
   "metadata": {
    "tags": []
   },
   "outputs": [],
   "source": [
    "posts_list_3 = pd.DataFrame(posts_list_3)"
   ]
  },
  {
   "cell_type": "code",
   "execution_count": 165,
   "id": "bee2eaba-a250-46b1-bec2-89da8a54857c",
   "metadata": {
    "tags": []
   },
   "outputs": [
    {
     "data": {
      "text/html": [
       "<div>\n",
       "<style scoped>\n",
       "    .dataframe tbody tr th:only-of-type {\n",
       "        vertical-align: middle;\n",
       "    }\n",
       "\n",
       "    .dataframe tbody tr th {\n",
       "        vertical-align: top;\n",
       "    }\n",
       "\n",
       "    .dataframe thead th {\n",
       "        text-align: right;\n",
       "    }\n",
       "</style>\n",
       "<table border=\"1\" class=\"dataframe\">\n",
       "  <thead>\n",
       "    <tr style=\"text-align: right;\">\n",
       "      <th></th>\n",
       "      <th>title</th>\n",
       "      <th>selftext</th>\n",
       "      <th>subreddit</th>\n",
       "      <th>comments</th>\n",
       "      <th>created_utc</th>\n",
       "      <th>top_comment</th>\n",
       "      <th>comment_upvotes</th>\n",
       "    </tr>\n",
       "  </thead>\n",
       "  <tbody>\n",
       "    <tr>\n",
       "      <th>0</th>\n",
       "      <td>What are Florida ounces?</td>\n",
       "      <td>I didn't think much of this when I lived in Fl...</td>\n",
       "      <td>NoStupidQuestions</td>\n",
       "      <td>(hw3yeb3, hw3ut0e, hw42oe7, hw41au7, hw40oj3, ...</td>\n",
       "      <td>1.644341e+09</td>\n",
       "      <td>\"Fl oz\" stands for \"fluid ounces,\" not Florida.</td>\n",
       "      <td>50635</td>\n",
       "    </tr>\n",
       "    <tr>\n",
       "      <th>1</th>\n",
       "      <td>Why is it \"price gouging\" when people resell s...</td>\n",
       "      <td></td>\n",
       "      <td>NoStupidQuestions</td>\n",
       "      <td>(fkxwseh, fkxn0qi, fkxkni5, fkxsmpa, fky0dln, ...</td>\n",
       "      <td>1.584629e+09</td>\n",
       "      <td>Price gouging doesn't mean \"charging an unfair...</td>\n",
       "      <td>12385</td>\n",
       "    </tr>\n",
       "    <tr>\n",
       "      <th>2</th>\n",
       "      <td>Is Reddit actually making it so you can get co...</td>\n",
       "      <td>I've seen so many memes that I'm not sure if i...</td>\n",
       "      <td>NoStupidQuestions</td>\n",
       "      <td>(fbd0lc6, fbcuhqg, fbcuu48, fbd0c52, fbd0f9a, ...</td>\n",
       "      <td>1.576731e+09</td>\n",
       "      <td>~~It's true.~~  I got them.  [Proof](https://i...</td>\n",
       "      <td>12539</td>\n",
       "    </tr>\n",
       "    <tr>\n",
       "      <th>3</th>\n",
       "      <td>Anybody else skip past the ads on google and c...</td>\n",
       "      <td></td>\n",
       "      <td>NoStupidQuestions</td>\n",
       "      <td>(gkzgg9l, gkzikp8, gkzdn9l, gkzb4ij, gkz4v5s, ...</td>\n",
       "      <td>1.611769e+09</td>\n",
       "      <td>For me, it's Pavlovian conditioning at this po...</td>\n",
       "      <td>9072</td>\n",
       "    </tr>\n",
       "    <tr>\n",
       "      <th>4</th>\n",
       "      <td>Trump and Epstein are trending on Twitter afte...</td>\n",
       "      <td></td>\n",
       "      <td>NoStupidQuestions</td>\n",
       "      <td>(fshk8uo, fshm4mm, fshsxx5, fshchg3, fshbxt5, ...</td>\n",
       "      <td>1.590975e+09</td>\n",
       "      <td>I just looked into it. The documents were alre...</td>\n",
       "      <td>12097</td>\n",
       "    </tr>\n",
       "    <tr>\n",
       "      <th>...</th>\n",
       "      <td>...</td>\n",
       "      <td>...</td>\n",
       "      <td>...</td>\n",
       "      <td>...</td>\n",
       "      <td>...</td>\n",
       "      <td>...</td>\n",
       "      <td>...</td>\n",
       "    </tr>\n",
       "    <tr>\n",
       "      <th>467</th>\n",
       "      <td>Does anybody else rub their legs/feet together...</td>\n",
       "      <td>I can't fall asleep without rubbing my feet to...</td>\n",
       "      <td>NoStupidQuestions</td>\n",
       "      <td>(g3x2b5a, g3wvgob, g3wdr0t, g3wq11v, g3wt32g, ...</td>\n",
       "      <td>1.599164e+09</td>\n",
       "      <td>My husband does this, he calls it cricket legs...</td>\n",
       "      <td>2367</td>\n",
       "    </tr>\n",
       "    <tr>\n",
       "      <th>468</th>\n",
       "      <td>Does anyone else get 1 random eyebrow hair jus...</td>\n",
       "      <td></td>\n",
       "      <td>NoStupidQuestions</td>\n",
       "      <td>(gclrzag, gcllo3m, gcllwii, gcltep9, gclhxgp, ...</td>\n",
       "      <td>1.605607e+09</td>\n",
       "      <td>Shit. I have one on each eyebrow. My wife joki...</td>\n",
       "      <td>4711</td>\n",
       "    </tr>\n",
       "    <tr>\n",
       "      <th>469</th>\n",
       "      <td>Does anyone else have numerous realistic dream...</td>\n",
       "      <td>I have a few memories that I honestly don’t kn...</td>\n",
       "      <td>NoStupidQuestions</td>\n",
       "      <td>(ee9r5ei, ee9nf7g, ee9ruas, ee9pu5r, ee9ldx0, ...</td>\n",
       "      <td>1.547724e+09</td>\n",
       "      <td>[deleted]</td>\n",
       "      <td>5659</td>\n",
       "    </tr>\n",
       "    <tr>\n",
       "      <th>470</th>\n",
       "      <td>Why is it that when a kid gets bullied and ass...</td>\n",
       "      <td>It just seems unfair. Like why are schools enc...</td>\n",
       "      <td>NoStupidQuestions</td>\n",
       "      <td>(gey882s, gexsbnx, gexsg0m, gexn7h4, gey7b8r, ...</td>\n",
       "      <td>1.607341e+09</td>\n",
       "      <td>The intention behind the school's zero toleran...</td>\n",
       "      <td>7933</td>\n",
       "    </tr>\n",
       "    <tr>\n",
       "      <th>471</th>\n",
       "      <td>Why don't drug cartels sell insulin and other ...</td>\n",
       "      <td>In Mexico insulin is dirt cheap compared to th...</td>\n",
       "      <td>NoStupidQuestions</td>\n",
       "      <td>(hs9y0uh, hsaefxv, hs9xd6k, hsatnq1, hsadfou, ...</td>\n",
       "      <td>1.641943e+09</td>\n",
       "      <td>Insulin is temperature sensitive and has a lim...</td>\n",
       "      <td>11218</td>\n",
       "    </tr>\n",
       "  </tbody>\n",
       "</table>\n",
       "<p>472 rows × 7 columns</p>\n",
       "</div>"
      ],
      "text/plain": [
       "                                                 title  \\\n",
       "0                             What are Florida ounces?   \n",
       "1    Why is it \"price gouging\" when people resell s...   \n",
       "2    Is Reddit actually making it so you can get co...   \n",
       "3    Anybody else skip past the ads on google and c...   \n",
       "4    Trump and Epstein are trending on Twitter afte...   \n",
       "..                                                 ...   \n",
       "467  Does anybody else rub their legs/feet together...   \n",
       "468  Does anyone else get 1 random eyebrow hair jus...   \n",
       "469  Does anyone else have numerous realistic dream...   \n",
       "470  Why is it that when a kid gets bullied and ass...   \n",
       "471  Why don't drug cartels sell insulin and other ...   \n",
       "\n",
       "                                              selftext          subreddit  \\\n",
       "0    I didn't think much of this when I lived in Fl...  NoStupidQuestions   \n",
       "1                                                       NoStupidQuestions   \n",
       "2    I've seen so many memes that I'm not sure if i...  NoStupidQuestions   \n",
       "3                                                       NoStupidQuestions   \n",
       "4                                                       NoStupidQuestions   \n",
       "..                                                 ...                ...   \n",
       "467  I can't fall asleep without rubbing my feet to...  NoStupidQuestions   \n",
       "468                                                     NoStupidQuestions   \n",
       "469  I have a few memories that I honestly don’t kn...  NoStupidQuestions   \n",
       "470  It just seems unfair. Like why are schools enc...  NoStupidQuestions   \n",
       "471  In Mexico insulin is dirt cheap compared to th...  NoStupidQuestions   \n",
       "\n",
       "                                              comments   created_utc  \\\n",
       "0    (hw3yeb3, hw3ut0e, hw42oe7, hw41au7, hw40oj3, ...  1.644341e+09   \n",
       "1    (fkxwseh, fkxn0qi, fkxkni5, fkxsmpa, fky0dln, ...  1.584629e+09   \n",
       "2    (fbd0lc6, fbcuhqg, fbcuu48, fbd0c52, fbd0f9a, ...  1.576731e+09   \n",
       "3    (gkzgg9l, gkzikp8, gkzdn9l, gkzb4ij, gkz4v5s, ...  1.611769e+09   \n",
       "4    (fshk8uo, fshm4mm, fshsxx5, fshchg3, fshbxt5, ...  1.590975e+09   \n",
       "..                                                 ...           ...   \n",
       "467  (g3x2b5a, g3wvgob, g3wdr0t, g3wq11v, g3wt32g, ...  1.599164e+09   \n",
       "468  (gclrzag, gcllo3m, gcllwii, gcltep9, gclhxgp, ...  1.605607e+09   \n",
       "469  (ee9r5ei, ee9nf7g, ee9ruas, ee9pu5r, ee9ldx0, ...  1.547724e+09   \n",
       "470  (gey882s, gexsbnx, gexsg0m, gexn7h4, gey7b8r, ...  1.607341e+09   \n",
       "471  (hs9y0uh, hsaefxv, hs9xd6k, hsatnq1, hsadfou, ...  1.641943e+09   \n",
       "\n",
       "                                           top_comment  comment_upvotes  \n",
       "0      \"Fl oz\" stands for \"fluid ounces,\" not Florida.            50635  \n",
       "1    Price gouging doesn't mean \"charging an unfair...            12385  \n",
       "2    ~~It's true.~~  I got them.  [Proof](https://i...            12539  \n",
       "3    For me, it's Pavlovian conditioning at this po...             9072  \n",
       "4    I just looked into it. The documents were alre...            12097  \n",
       "..                                                 ...              ...  \n",
       "467  My husband does this, he calls it cricket legs...             2367  \n",
       "468  Shit. I have one on each eyebrow. My wife joki...             4711  \n",
       "469                                          [deleted]             5659  \n",
       "470  The intention behind the school's zero toleran...             7933  \n",
       "471  Insulin is temperature sensitive and has a lim...            11218  \n",
       "\n",
       "[472 rows x 7 columns]"
      ]
     },
     "execution_count": 165,
     "metadata": {},
     "output_type": "execute_result"
    }
   ],
   "source": [
    "posts_list_3"
   ]
  },
  {
   "cell_type": "code",
   "execution_count": 159,
   "id": "dd989c21-11b2-4ac0-b1d9-16d435d94751",
   "metadata": {
    "tags": []
   },
   "outputs": [],
   "source": [
    "full_subreddit = pd.DataFrame(full_subreddit)"
   ]
  },
  {
   "cell_type": "code",
   "execution_count": 160,
   "id": "27c23e3d-1b5e-4f82-9d6b-d0579ca47f28",
   "metadata": {
    "tags": []
   },
   "outputs": [],
   "source": [
    "full_subreddit.to_csv('full_subreddit.csv')"
   ]
  },
  {
   "cell_type": "code",
   "execution_count": 18,
   "id": "c393a4ed-fc0a-4c99-b0d1-86b0d5651507",
   "metadata": {},
   "outputs": [],
   "source": [
    "#my_subreddit_6 = \"TrueAskReddit\""
   ]
  },
  {
   "cell_type": "code",
   "execution_count": null,
   "id": "b8aa22d0-cf1f-403e-a2c3-52b40922033e",
   "metadata": {},
   "outputs": [],
   "source": [
    "#posts_14 = reddit.subreddit(my_subreddit_6).new(limit=400) \n",
    "#posts_list_14 = get_reddit_post(posts_14)"
   ]
  },
  {
   "cell_type": "code",
   "execution_count": 19,
   "id": "5e1da211-719e-45e5-ac14-8b657b03a95f",
   "metadata": {},
   "outputs": [],
   "source": [
    "#posts_15 = reddit.subreddit(my_subreddit_6).top(limit=10) \n",
    "#posts_list_15 = get_reddit_post(posts_15)"
   ]
  },
  {
   "cell_type": "markdown",
   "id": "66d2e3b5-ad83-466c-9e9c-3fa214d8d352",
   "metadata": {},
   "source": [
    "# OPENAI\n",
    "---"
   ]
  },
  {
   "cell_type": "code",
   "execution_count": 87,
   "id": "240e9075-0b9e-4b2f-a408-64c8b55f4716",
   "metadata": {},
   "outputs": [],
   "source": [
    "import os\n",
    "import openai "
   ]
  },
  {
   "cell_type": "code",
   "execution_count": 88,
   "id": "70b78061-ee3c-4b2b-8086-7c9ed509cfea",
   "metadata": {
    "tags": []
   },
   "outputs": [],
   "source": [
    "openai.api_key = os.environ.get('OPENAI_API_KEY')"
   ]
  },
  {
   "cell_type": "code",
   "execution_count": 89,
   "id": "fb374a37-7e9c-4fe5-8759-afb05b3dec0b",
   "metadata": {
    "tags": []
   },
   "outputs": [],
   "source": [
    "def ai_response(prompts):\n",
    "    response_group = []\n",
    "    dv_response = openai.Completion.create(\n",
    "    model=\"text-davinci-003\",\n",
    "    prompt=prompts,\n",
    "    temperature=0.6,\n",
    "    max_tokens = 500)\n",
    "    for res in dv_response['choices']:\n",
    "        response_group.append(res['text'].strip())\n",
    "    return response_group"
   ]
  },
  {
   "cell_type": "code",
   "execution_count": 90,
   "id": "d1b15329-c5cf-49ee-91f6-729708216414",
   "metadata": {
    "tags": []
   },
   "outputs": [],
   "source": [
    "def add_together(posts_list,response_group):\n",
    "    data_group = []\n",
    "    for i, j in zip(posts_list,response_group):\n",
    "        data = {\n",
    "            'question':i['title'],\n",
    "            'human_answer':i['top_comment'],\n",
    "            'ai_answer':j\n",
    "        }\n",
    "        data_group.append(data)\n",
    "    return data_group"
   ]
  },
  {
   "cell_type": "code",
   "execution_count": 94,
   "id": "09844ffa-510d-4129-9b45-1f6396ef40a0",
   "metadata": {
    "tags": []
   },
   "outputs": [],
   "source": [
    "full_subreddit_0to19  = full_subreddit[0:20]\n",
    "ai_prompts_0to19 = [a['title'] for a in full_subreddit_0to19]\n",
    "response_group_0to19 = ai_response(ai_prompts_0to19)\n",
    "data_group_0to19 = add_together(full_subreddit_0to19,response_group_0to19)"
   ]
  },
  {
   "cell_type": "code",
   "execution_count": 95,
   "id": "20cc784c-149a-4b22-aff4-79535a314313",
   "metadata": {
    "collapsed": true,
    "jupyter": {
     "outputs_hidden": true
    },
    "tags": []
   },
   "outputs": [
    {
     "data": {
      "text/plain": [
       "[{'question': 'My husband hasn’t spoken to me in a week. How do I handle the silent treatment?',\n",
       "  'human_answer': 'Ok…I’m NOT a typical redditor…I’m an old married lady.  Your husband is a man baby.  He’s forcing you into apologizing.  You don’t owe  him anything.  Personally I’d take his silence as a blessing and use the opportunity to just text him things to do.\\n\\nDo not let him manipulate you into apologizing for his shitty behavior.  You’re just rewarding and reinforcing his tantrum.  You’re a mother, you’d not tolerate this in your children.\\n\\nYes it is sad you have to treat him as a child but he chose to act like one.',\n",
       "  'ai_answer': 'It can be difficult to handle the silent treatment from your husband, especially if you don’t know why he’s giving it to you. The best thing to do in this situation is to try to talk to him calmly and openly about what is going on. Ask him why he is giving you the silent treatment and try to listen to what he has to say without getting defensive. It may also be helpful to apologize for anything you may have done that could have caused the rift between you two. If he is still not willing to talk, it may be best to seek counseling or advice from a third-party to help you both work through your issues.'},\n",
       " {'question': 'Why do I get more attention when I am wearing a ring?',\n",
       "  'human_answer': 'Are they actively flirting with you or just talking? It could be that they just feel more comfortable talking to you knowing you’re not there to hook up (cause they think you’re married)',\n",
       "  'ai_answer': 'It is likely that people are drawn to the ring because it symbolizes something important to them, such as a commitment or a promise. The ring may also signify wealth or status, which can be attractive to some people. Additionally, a ring may be seen as a sign of maturity or responsibility, which can be appealing to many people.'},\n",
       " {'question': 'Is it rude to spend 3+ hours studying in a restaurant/café?',\n",
       "  'human_answer': \"If it isn't busy and you make a purchase, you're fine.\",\n",
       "  'ai_answer': \"It depends on the restaurant/café and the circumstances. While it is generally considered polite to limit one's stay in a restaurant/café to a reasonable amount of time, many places are happy to accommodate customers who wish to stay longer. It is a good idea to check with the staff to ensure that they are comfortable with your extended stay.\"},\n",
       " {'question': 'If Justin Bieber hates the fame so much, why does he keep performing?',\n",
       "  'human_answer': \"He signed contracts. He can't stop now\",\n",
       "  'ai_answer': \"Justin Bieber likely still enjoys performing, even if he doesn't like the fame that comes along with it. He has stated that he still loves making music and connecting with his fans. It's likely that performing is a way for him to express himself and connect with others, and he likely still enjoys it despite the fame.\"},\n",
       " {'question': 'How do I convince my wife and kids to clean up after themselves?',\n",
       "  'human_answer': 'If you figure it out, please let me know',\n",
       "  'ai_answer': '1. Set a good example by cleaning up after yourself and taking responsibility for your own mess.\\n\\n2. Explain the importance of keeping a tidy house and how it affects everyone’s quality of life.\\n\\n3. Set clear expectations of what needs to be done and when it needs to be done.\\n\\n4. Provide rewards and incentives for helping out with household chores.\\n\\n5. Make it fun. Create a game or competition to see who can clean up the quickest or most efficiently.\\n\\n6. Involve your children in the process. Show them how to clean up properly and help them develop a sense of pride in their work.\\n\\n7. Show appreciation for their efforts. Acknowledge their help and thank them for it.\\n\\n8. Set boundaries and consequences for not following the rules.'},\n",
       " {'question': 'Why do people put the \"In memory of\" stickers on their cars?',\n",
       "  'human_answer': 'To help a mourning person. It helps them feel their loved one will be remembered.',\n",
       "  'ai_answer': 'The \"In Memory Of\" stickers are often placed on cars in honor of a deceased loved one. They are a way to remember and honor the life and memory of a person who has passed away. The stickers can also be used to commemorate a special event or milestone in a person\\'s life, such as a wedding, graduation, or anniversary.'},\n",
       " {'question': 'Do any men actually find these ridiculously long salon done fingernails attractive?',\n",
       "  'human_answer': \"Personally, I find them absolutely hideous. But they aren't for me. They do it because they like it themselves.\",\n",
       "  'ai_answer': 'No, not really. Most men prefer shorter, natural-looking nails and find long, salon-done nails to be too extreme and unnatural.'},\n",
       " {'question': 'Ho do you respond to \"I\\'ve dated a black guy before. It\\'s not for me.\"',\n",
       "  'human_answer': '[deleted]',\n",
       "  'ai_answer': \"That's okay. Everyone has different preferences and it's important to be honest about what you want and don't want in a relationship.\"},\n",
       " {'question': 'Does anyone feel like eating is a chore? How do you change this mentality?',\n",
       "  'human_answer': \"Get on a regular sleep schedule to regulate your body's circadian rhythm. Exercise. Lift weights to build muscle, and do cardio-- your body will demand calories and protein if you train your metabolism to grow and use it.\",\n",
       "  'ai_answer': 'Yes, many people feel like eating is a chore. To change this mentality, it is important to focus on the pleasure that eating can bring. Take the time to plan meals that appeal to your taste buds and experiment with different flavors. Think of food as an opportunity to nourish your body and enjoy the flavors of the world. Make mealtime a social experience by inviting friends and family to join you in the kitchen. Finally, make sure to take the time to savor each bite and appreciate the meal you have prepared.'},\n",
       " {'question': 'How fast could the United States defeat North Korea?',\n",
       "  'human_answer': 'Question: in this scenario, does the US care about the North Korean people at all, or is it just us vs. them to the death?',\n",
       "  'ai_answer': 'It is impossible to answer this question because the outcome of a conflict between the United States and North Korea is highly unpredictable. Any conflict between the two nations would likely be a long and costly affair, and the outcome is impossible to predict.'},\n",
       " {'question': 'How do I tell someone they won’t be hired back next summer for a seasonal job?',\n",
       "  'human_answer': 'My summer job used to give us three options- rehire, reinterview, or don’t come back. If they’re good kids you could give them the reinterview option and see if they’ve matured come next summer. Kids can make a big jump when it comes to responsibility in just one school year.',\n",
       "  'ai_answer': \"The best way to tell someone they won't be hired back for a seasonal job is to be honest and direct. It's important to be respectful and understanding of their circumstances. Begin the conversation by thanking them for their work and dedication to the job. Explain to them that due to changing business needs, they will not be hired back for the next season. Be sure to offer any additional resources or advice that may help them find a new job or further their career.\"},\n",
       " {'question': 'What to do when called the N word',\n",
       "  'human_answer': \"If your staff tolerates that, talk to your parents about suing the school for allowing racist discrimination. Heck, even just the threat of a lawsuit can make them jump off their chairs and do something.\\n\\nIf not, then go to your staff and tell them what's happening so it can be dealt with in short order.\\n\\nIn the meantime, find a group of friends that will be there for you.\",\n",
       "  'ai_answer': \"When someone calls you the N-word, it can be very hurtful and upsetting. It is important to remember that you don't have to tolerate any kind of name-calling or hate speech. It is important to stand up for yourself and let the person know that their words are not acceptable. You can try to calmly explain why their language is offensive and why it is wrong to use it. If the person continues to use the language, you can walk away or report them to an authority figure. It is also important to talk to someone you trust about what happened and seek support.\"},\n",
       " {'question': 'What are you supposed to say when a girl asks you to rate her on a scale from 1-10?',\n",
       "  'human_answer': '\"You must go to Hogwarts, because you are a 9 and three quarters.\"',\n",
       "  'ai_answer': \"It's not appropriate to rate someone on a scale from 1-10.\"},\n",
       " {'question': 'Do women really get angry at their partners over cheating in their dream?',\n",
       "  'human_answer': 'Some idiots might do',\n",
       "  'ai_answer': \"Yes, some women may get angry at their partners over cheating in their dream, as dreams can be reflective of real-life emotions. Dreams can be a way for the subconscious to process and make sense of difficult emotions, so it's possible for a woman to express her anger in her dream.\"},\n",
       " {'question': 'How do y’all work full time jobs and not eventually lose your shit?',\n",
       "  'human_answer': 'helps when you have the threat of homelessness',\n",
       "  'ai_answer': \"It's not easy! It requires a lot of planning and prioritizing. I make sure to plan my day the night before so I know what I need to get done in the morning. I also make sure to keep up with my health and wellness by getting enough sleep, eating right, and exercising. Finally, I make sure to take breaks when needed and give myself time to relax and enjoy life.\"},\n",
       " {'question': 'Is this a predator?',\n",
       "  'human_answer': 'If someone casually talked like that about seeing children in that way to me I\\'d let everyone around me know it instantly. \"Excuse me did I just hear you say you watch these children undress?\" There is no way she\\'d find herself around my son again thats for sure and I\\'m super concerned for what that young girl deals with behind closed doors.',\n",
       "  'ai_answer': 'No, this is not a predator.'},\n",
       " {'question': 'Why is it people can go their whole lives doing good towards other people, being completely selfless and helping thousands of not millions of others along their journey, do one wrong thing, and suddenly everyone thinks they\\'re \"showing their true colors\"?',\n",
       "  'human_answer': 'Depends on how bad the one thing is. Also plenty of monsterous people do stuff like work with charities, donate money, etc just for the clout and good public image so that they will be less suspected or be judged less harshly.',\n",
       "  'ai_answer': \"People often make snap judgments and are quick to decide that a single wrong action defines a person's character. This can be especially true when someone has built up a reputation of doing good deeds and being selfless. When they make a mistake, it can feel like a betrayal, and people may be inclined to paint them in a negative light. However, it's important to remember that everyone makes mistakes, and that no one is defined by a single action.\"},\n",
       " {'question': 'What does ‘3 minutes to yesterday’ mean?',\n",
       "  'human_answer': 'I have never heard this before. Is it possible you misheard?',\n",
       "  'ai_answer': '\"3 minutes to yesterday\" is an expression that means that something that happened in the past is still very close in time, or that there is not much time that has passed since it happened. It can also be used to refer to something that is about to happen very soon.'},\n",
       " {'question': 'Why do males take so long to poo?',\n",
       "  'human_answer': \"80% of my poo gets released within the first few minutes. The other 20% takes the longest. I could stop at 80 but if I'm going to poo, I need to get all I can out or else it's not satisfying.\",\n",
       "  'ai_answer': 'Males may take longer to poop because of their larger body size and slower metabolism. Additionally, men tend to eat more than women, and it takes longer for food to move through the digestive system. In some cases, constipation might also be a factor. Stress and anxiety can also cause digestive issues, leading to longer bathroom visits.'},\n",
       " {'question': 'Why do drugs and \"crime\" seemingly fall into my lap?',\n",
       "  'human_answer': '\"Hey guys so I was hanging out with my drug dealer and there was crime and drugs. Weird, right?\"\\n\\nNo dawg, not weird at all. If you hang out with people who have \"Drug Criminal\" as their profession then you\\'re probably gonna see some drugs and crime.',\n",
       "  'ai_answer': 'There are a variety of reasons why drugs and crime may \"fall into your lap.\" It could be due to the people you associate with, the places you go, and the activities you participate in. If you are in an environment where drugs and crime are commonplace, you may be more likely to encounter them. Additionally, if you are engaging in risky behaviors or have a history of criminal activity, you may be more likely to be targeted by those who are involved in drug and criminal activities. It is important to remember that you have the power to make choices and create boundaries to protect yourself from any potentially dangerous situations.'}]"
      ]
     },
     "execution_count": 95,
     "metadata": {},
     "output_type": "execute_result"
    }
   ],
   "source": [
    "data_group_0to19"
   ]
  },
  {
   "cell_type": "code",
   "execution_count": 124,
   "id": "d76698ff-ee64-4f5c-a81b-f5378dcd2b76",
   "metadata": {
    "tags": []
   },
   "outputs": [
    {
     "data": {
      "text/plain": [
       "pandas.core.frame.DataFrame"
      ]
     },
     "execution_count": 124,
     "metadata": {},
     "output_type": "execute_result"
    }
   ],
   "source": [
    "type(data_group_0to19)"
   ]
  },
  {
   "cell_type": "code",
   "execution_count": 97,
   "id": "f84dd238-66e9-40c5-a245-7d4a01d026d0",
   "metadata": {
    "tags": []
   },
   "outputs": [],
   "source": [
    "import pandas as pd"
   ]
  },
  {
   "cell_type": "code",
   "execution_count": 99,
   "id": "4bc1f908-0e9b-431b-8ba8-bc2bce57256e",
   "metadata": {
    "collapsed": true,
    "jupyter": {
     "outputs_hidden": true
    },
    "tags": []
   },
   "outputs": [
    {
     "data": {
      "text/html": [
       "<div>\n",
       "<style scoped>\n",
       "    .dataframe tbody tr th:only-of-type {\n",
       "        vertical-align: middle;\n",
       "    }\n",
       "\n",
       "    .dataframe tbody tr th {\n",
       "        vertical-align: top;\n",
       "    }\n",
       "\n",
       "    .dataframe thead th {\n",
       "        text-align: right;\n",
       "    }\n",
       "</style>\n",
       "<table border=\"1\" class=\"dataframe\">\n",
       "  <thead>\n",
       "    <tr style=\"text-align: right;\">\n",
       "      <th></th>\n",
       "      <th>question</th>\n",
       "      <th>human_answer</th>\n",
       "      <th>ai_answer</th>\n",
       "    </tr>\n",
       "  </thead>\n",
       "  <tbody>\n",
       "    <tr>\n",
       "      <th>0</th>\n",
       "      <td>My husband hasn’t spoken to me in a week. How ...</td>\n",
       "      <td>Ok…I’m NOT a typical redditor…I’m an old marri...</td>\n",
       "      <td>It can be difficult to handle the silent treat...</td>\n",
       "    </tr>\n",
       "    <tr>\n",
       "      <th>1</th>\n",
       "      <td>Why do I get more attention when I am wearing ...</td>\n",
       "      <td>Are they actively flirting with you or just ta...</td>\n",
       "      <td>It is likely that people are drawn to the ring...</td>\n",
       "    </tr>\n",
       "    <tr>\n",
       "      <th>2</th>\n",
       "      <td>Is it rude to spend 3+ hours studying in a res...</td>\n",
       "      <td>If it isn't busy and you make a purchase, you'...</td>\n",
       "      <td>It depends on the restaurant/café and the circ...</td>\n",
       "    </tr>\n",
       "    <tr>\n",
       "      <th>3</th>\n",
       "      <td>If Justin Bieber hates the fame so much, why d...</td>\n",
       "      <td>He signed contracts. He can't stop now</td>\n",
       "      <td>Justin Bieber likely still enjoys performing, ...</td>\n",
       "    </tr>\n",
       "    <tr>\n",
       "      <th>4</th>\n",
       "      <td>How do I convince my wife and kids to clean up...</td>\n",
       "      <td>If you figure it out, please let me know</td>\n",
       "      <td>1. Set a good example by cleaning up after you...</td>\n",
       "    </tr>\n",
       "    <tr>\n",
       "      <th>5</th>\n",
       "      <td>Why do people put the \"In memory of\" stickers ...</td>\n",
       "      <td>To help a mourning person. It helps them feel ...</td>\n",
       "      <td>The \"In Memory Of\" stickers are often placed o...</td>\n",
       "    </tr>\n",
       "    <tr>\n",
       "      <th>6</th>\n",
       "      <td>Do any men actually find these ridiculously lo...</td>\n",
       "      <td>Personally, I find them absolutely hideous. Bu...</td>\n",
       "      <td>No, not really. Most men prefer shorter, natur...</td>\n",
       "    </tr>\n",
       "    <tr>\n",
       "      <th>7</th>\n",
       "      <td>Ho do you respond to \"I've dated a black guy b...</td>\n",
       "      <td>[deleted]</td>\n",
       "      <td>That's okay. Everyone has different preference...</td>\n",
       "    </tr>\n",
       "    <tr>\n",
       "      <th>8</th>\n",
       "      <td>Does anyone feel like eating is a chore? How d...</td>\n",
       "      <td>Get on a regular sleep schedule to regulate yo...</td>\n",
       "      <td>Yes, many people feel like eating is a chore. ...</td>\n",
       "    </tr>\n",
       "    <tr>\n",
       "      <th>9</th>\n",
       "      <td>How fast could the United States defeat North ...</td>\n",
       "      <td>Question: in this scenario, does the US care a...</td>\n",
       "      <td>It is impossible to answer this question becau...</td>\n",
       "    </tr>\n",
       "    <tr>\n",
       "      <th>10</th>\n",
       "      <td>How do I tell someone they won’t be hired back...</td>\n",
       "      <td>My summer job used to give us three options- r...</td>\n",
       "      <td>The best way to tell someone they won't be hir...</td>\n",
       "    </tr>\n",
       "    <tr>\n",
       "      <th>11</th>\n",
       "      <td>What to do when called the N word</td>\n",
       "      <td>If your staff tolerates that, talk to your par...</td>\n",
       "      <td>When someone calls you the N-word, it can be v...</td>\n",
       "    </tr>\n",
       "    <tr>\n",
       "      <th>12</th>\n",
       "      <td>What are you supposed to say when a girl asks ...</td>\n",
       "      <td>\"You must go to Hogwarts, because you are a 9 ...</td>\n",
       "      <td>It's not appropriate to rate someone on a scal...</td>\n",
       "    </tr>\n",
       "    <tr>\n",
       "      <th>13</th>\n",
       "      <td>Do women really get angry at their partners ov...</td>\n",
       "      <td>Some idiots might do</td>\n",
       "      <td>Yes, some women may get angry at their partner...</td>\n",
       "    </tr>\n",
       "    <tr>\n",
       "      <th>14</th>\n",
       "      <td>How do y’all work full time jobs and not event...</td>\n",
       "      <td>helps when you have the threat of homelessness</td>\n",
       "      <td>It's not easy! It requires a lot of planning a...</td>\n",
       "    </tr>\n",
       "    <tr>\n",
       "      <th>15</th>\n",
       "      <td>Is this a predator?</td>\n",
       "      <td>If someone casually talked like that about see...</td>\n",
       "      <td>No, this is not a predator.</td>\n",
       "    </tr>\n",
       "    <tr>\n",
       "      <th>16</th>\n",
       "      <td>Why is it people can go their whole lives doin...</td>\n",
       "      <td>Depends on how bad the one thing is. Also plen...</td>\n",
       "      <td>People often make snap judgments and are quick...</td>\n",
       "    </tr>\n",
       "    <tr>\n",
       "      <th>17</th>\n",
       "      <td>What does ‘3 minutes to yesterday’ mean?</td>\n",
       "      <td>I have never heard this before. Is it possible...</td>\n",
       "      <td>\"3 minutes to yesterday\" is an expression that...</td>\n",
       "    </tr>\n",
       "    <tr>\n",
       "      <th>18</th>\n",
       "      <td>Why do males take so long to poo?</td>\n",
       "      <td>80% of my poo gets released within the first f...</td>\n",
       "      <td>Males may take longer to poop because of their...</td>\n",
       "    </tr>\n",
       "    <tr>\n",
       "      <th>19</th>\n",
       "      <td>Why do drugs and \"crime\" seemingly fall into m...</td>\n",
       "      <td>\"Hey guys so I was hanging out with my drug de...</td>\n",
       "      <td>There are a variety of reasons why drugs and c...</td>\n",
       "    </tr>\n",
       "  </tbody>\n",
       "</table>\n",
       "</div>"
      ],
      "text/plain": [
       "                                             question  \\\n",
       "0   My husband hasn’t spoken to me in a week. How ...   \n",
       "1   Why do I get more attention when I am wearing ...   \n",
       "2   Is it rude to spend 3+ hours studying in a res...   \n",
       "3   If Justin Bieber hates the fame so much, why d...   \n",
       "4   How do I convince my wife and kids to clean up...   \n",
       "5   Why do people put the \"In memory of\" stickers ...   \n",
       "6   Do any men actually find these ridiculously lo...   \n",
       "7   Ho do you respond to \"I've dated a black guy b...   \n",
       "8   Does anyone feel like eating is a chore? How d...   \n",
       "9   How fast could the United States defeat North ...   \n",
       "10  How do I tell someone they won’t be hired back...   \n",
       "11                  What to do when called the N word   \n",
       "12  What are you supposed to say when a girl asks ...   \n",
       "13  Do women really get angry at their partners ov...   \n",
       "14  How do y’all work full time jobs and not event...   \n",
       "15                                Is this a predator?   \n",
       "16  Why is it people can go their whole lives doin...   \n",
       "17           What does ‘3 minutes to yesterday’ mean?   \n",
       "18                  Why do males take so long to poo?   \n",
       "19  Why do drugs and \"crime\" seemingly fall into m...   \n",
       "\n",
       "                                         human_answer  \\\n",
       "0   Ok…I’m NOT a typical redditor…I’m an old marri...   \n",
       "1   Are they actively flirting with you or just ta...   \n",
       "2   If it isn't busy and you make a purchase, you'...   \n",
       "3              He signed contracts. He can't stop now   \n",
       "4            If you figure it out, please let me know   \n",
       "5   To help a mourning person. It helps them feel ...   \n",
       "6   Personally, I find them absolutely hideous. Bu...   \n",
       "7                                           [deleted]   \n",
       "8   Get on a regular sleep schedule to regulate yo...   \n",
       "9   Question: in this scenario, does the US care a...   \n",
       "10  My summer job used to give us three options- r...   \n",
       "11  If your staff tolerates that, talk to your par...   \n",
       "12  \"You must go to Hogwarts, because you are a 9 ...   \n",
       "13                               Some idiots might do   \n",
       "14     helps when you have the threat of homelessness   \n",
       "15  If someone casually talked like that about see...   \n",
       "16  Depends on how bad the one thing is. Also plen...   \n",
       "17  I have never heard this before. Is it possible...   \n",
       "18  80% of my poo gets released within the first f...   \n",
       "19  \"Hey guys so I was hanging out with my drug de...   \n",
       "\n",
       "                                            ai_answer  \n",
       "0   It can be difficult to handle the silent treat...  \n",
       "1   It is likely that people are drawn to the ring...  \n",
       "2   It depends on the restaurant/café and the circ...  \n",
       "3   Justin Bieber likely still enjoys performing, ...  \n",
       "4   1. Set a good example by cleaning up after you...  \n",
       "5   The \"In Memory Of\" stickers are often placed o...  \n",
       "6   No, not really. Most men prefer shorter, natur...  \n",
       "7   That's okay. Everyone has different preference...  \n",
       "8   Yes, many people feel like eating is a chore. ...  \n",
       "9   It is impossible to answer this question becau...  \n",
       "10  The best way to tell someone they won't be hir...  \n",
       "11  When someone calls you the N-word, it can be v...  \n",
       "12  It's not appropriate to rate someone on a scal...  \n",
       "13  Yes, some women may get angry at their partner...  \n",
       "14  It's not easy! It requires a lot of planning a...  \n",
       "15                        No, this is not a predator.  \n",
       "16  People often make snap judgments and are quick...  \n",
       "17  \"3 minutes to yesterday\" is an expression that...  \n",
       "18  Males may take longer to poop because of their...  \n",
       "19  There are a variety of reasons why drugs and c...  "
      ]
     },
     "execution_count": 99,
     "metadata": {},
     "output_type": "execute_result"
    }
   ],
   "source": [
    "data_group_0to19 = pd.DataFrame(data_group_0to19)\n",
    "data_group_0to19"
   ]
  },
  {
   "cell_type": "code",
   "execution_count": 109,
   "id": "84274af6-2007-432a-8401-e2f0fa1d3218",
   "metadata": {
    "tags": []
   },
   "outputs": [],
   "source": [
    "full_subreddit_20to39  = full_subreddit[20:40]\n",
    "ai_prompts_20to39 = [a['title'] for a in full_subreddit_20to39]\n",
    "response_group_20to39 = ai_response(ai_prompts_20to39)\n",
    "data_group_20to39 = add_together(full_subreddit_20to39,response_group_20to39)"
   ]
  },
  {
   "cell_type": "code",
   "execution_count": 110,
   "id": "9db6d13d-290c-46a7-8c3e-b364652da3dd",
   "metadata": {
    "tags": []
   },
   "outputs": [],
   "source": [
    "data_group_20to39 = pd.DataFrame(data_group_20to39)"
   ]
  },
  {
   "cell_type": "code",
   "execution_count": 111,
   "id": "cc7a5b1c-6631-4684-a6d2-227dc0df6943",
   "metadata": {
    "collapsed": true,
    "jupyter": {
     "outputs_hidden": true
    },
    "tags": []
   },
   "outputs": [
    {
     "data": {
      "text/html": [
       "<div>\n",
       "<style scoped>\n",
       "    .dataframe tbody tr th:only-of-type {\n",
       "        vertical-align: middle;\n",
       "    }\n",
       "\n",
       "    .dataframe tbody tr th {\n",
       "        vertical-align: top;\n",
       "    }\n",
       "\n",
       "    .dataframe thead th {\n",
       "        text-align: right;\n",
       "    }\n",
       "</style>\n",
       "<table border=\"1\" class=\"dataframe\">\n",
       "  <thead>\n",
       "    <tr style=\"text-align: right;\">\n",
       "      <th></th>\n",
       "      <th>question</th>\n",
       "      <th>human_answer</th>\n",
       "      <th>ai_answer</th>\n",
       "    </tr>\n",
       "  </thead>\n",
       "  <tbody>\n",
       "    <tr>\n",
       "      <th>0</th>\n",
       "      <td>Why do people on the internet say that people ...</td>\n",
       "      <td>It's not so much that they'll have nothing in ...</td>\n",
       "      <td>People on the internet often say that people w...</td>\n",
       "    </tr>\n",
       "    <tr>\n",
       "      <th>1</th>\n",
       "      <td>Is it normal for top level executives to be cl...</td>\n",
       "      <td>Extremely normal. Like genuinely the standard.</td>\n",
       "      <td>No, it is not normal for top level executives ...</td>\n",
       "    </tr>\n",
       "    <tr>\n",
       "      <th>2</th>\n",
       "      <td>how do i find the motivation to do basic things?</td>\n",
       "      <td>It's okay. You may be depressed. Maybe therapy...</td>\n",
       "      <td>1. Set realistic goals: Break down tasks into ...</td>\n",
       "    </tr>\n",
       "    <tr>\n",
       "      <th>3</th>\n",
       "      <td>How do I get my parents to back off a bit?</td>\n",
       "      <td>Don’t answer. Send them a text that you’re bus...</td>\n",
       "      <td>1. Respectfully explain your feelings to your ...</td>\n",
       "    </tr>\n",
       "    <tr>\n",
       "      <th>4</th>\n",
       "      <td>How can actors look like they are 20-30 in the...</td>\n",
       "      <td>Mostly makeup tbh. A good concealer and founda...</td>\n",
       "      <td>Actors can look younger than their age by taki...</td>\n",
       "    </tr>\n",
       "    <tr>\n",
       "      <th>5</th>\n",
       "      <td>Why do I enjoy watching people?</td>\n",
       "      <td>I hate to tell you this, but people-watching i...</td>\n",
       "      <td>There are many reasons why people enjoy watchi...</td>\n",
       "    </tr>\n",
       "    <tr>\n",
       "      <th>6</th>\n",
       "      <td>What do sea mammals drink?</td>\n",
       "      <td>They get fresh water from their food</td>\n",
       "      <td>Sea mammals typically drink salt water, althou...</td>\n",
       "    </tr>\n",
       "    <tr>\n",
       "      <th>7</th>\n",
       "      <td>Coins and awards are gone, what's the new system?</td>\n",
       "      <td>Still not announced yet</td>\n",
       "      <td>The new system might involve a points system, ...</td>\n",
       "    </tr>\n",
       "    <tr>\n",
       "      <th>8</th>\n",
       "      <td>Serious question. Do you feel embarrassed when...</td>\n",
       "      <td>Only during covid</td>\n",
       "      <td>Yes, I do feel embarrassed when I sneeze or co...</td>\n",
       "    </tr>\n",
       "    <tr>\n",
       "      <th>9</th>\n",
       "      <td>Everyone has some level of prejudice in them r...</td>\n",
       "      <td>our brains seem to make categories of things a...</td>\n",
       "      <td>Yes, everyone has some level of prejudice in t...</td>\n",
       "    </tr>\n",
       "    <tr>\n",
       "      <th>10</th>\n",
       "      <td>Why do certain videos with sound in only 1 ear...</td>\n",
       "      <td>3.5mm jacks are [really simple](https://img.hu...</td>\n",
       "      <td>This is because the plug on your headphones is...</td>\n",
       "    </tr>\n",
       "    <tr>\n",
       "      <th>11</th>\n",
       "      <td>How can I fix a green oversized jacket?</td>\n",
       "      <td>Sorry, I only have suggestions to fix blue jac...</td>\n",
       "      <td>If the jacket is too big, you can try taking i...</td>\n",
       "    </tr>\n",
       "    <tr>\n",
       "      <th>12</th>\n",
       "      <td>Is it pointless to message this girl again?</td>\n",
       "      <td>She's playing hard to get. Sounds like she lik...</td>\n",
       "      <td>That depends on the situation. If you have alr...</td>\n",
       "    </tr>\n",
       "    <tr>\n",
       "      <th>13</th>\n",
       "      <td>Are we really in the midst of a loneliness epi...</td>\n",
       "      <td>The majority of people I know are not lonely a...</td>\n",
       "      <td>Yes, many studies point to a growing lonelines...</td>\n",
       "    </tr>\n",
       "    <tr>\n",
       "      <th>14</th>\n",
       "      <td>are trad instruments ethnicity locked?</td>\n",
       "      <td>They have a +3 ethnic modifier for native play...</td>\n",
       "      <td>No, it is not possible to trade traditional in...</td>\n",
       "    </tr>\n",
       "    <tr>\n",
       "      <th>15</th>\n",
       "      <td>How can I find out someones pronouns?</td>\n",
       "      <td>So spoiler alert: there's no reason to use som...</td>\n",
       "      <td>The best way to find out someone's pronouns is...</td>\n",
       "    </tr>\n",
       "    <tr>\n",
       "      <th>16</th>\n",
       "      <td>why are there so many iphone game sponsorships...</td>\n",
       "      <td>It’s normal.\\n\\nRemember raid shadow legends, ...</td>\n",
       "      <td>The rise in iPhone game sponsorships on YouTub...</td>\n",
       "    </tr>\n",
       "    <tr>\n",
       "      <th>17</th>\n",
       "      <td>What’s it like being conveniently attractive? ...</td>\n",
       "      <td>It’s normal.\\n\\nRemember raid shadow legends, ...</td>\n",
       "      <td>It's great in some ways and not so great in ot...</td>\n",
       "    </tr>\n",
       "    <tr>\n",
       "      <th>18</th>\n",
       "      <td>What happened to Tim Pool?</td>\n",
       "      <td>A lot of these bloggers / \"independent journal...</td>\n",
       "      <td>Tim Pool is an American journalist, filmmaker,...</td>\n",
       "    </tr>\n",
       "    <tr>\n",
       "      <th>19</th>\n",
       "      <td>Can you name a duck who's not a jerk?</td>\n",
       "      <td>- Launchpad McQuack\\n- Darkwing Duck\\n- Duckula</td>\n",
       "      <td>Donald Duck.</td>\n",
       "    </tr>\n",
       "  </tbody>\n",
       "</table>\n",
       "</div>"
      ],
      "text/plain": [
       "                                             question  \\\n",
       "0   Why do people on the internet say that people ...   \n",
       "1   Is it normal for top level executives to be cl...   \n",
       "2    how do i find the motivation to do basic things?   \n",
       "3          How do I get my parents to back off a bit?   \n",
       "4   How can actors look like they are 20-30 in the...   \n",
       "5                     Why do I enjoy watching people?   \n",
       "6                          What do sea mammals drink?   \n",
       "7   Coins and awards are gone, what's the new system?   \n",
       "8   Serious question. Do you feel embarrassed when...   \n",
       "9   Everyone has some level of prejudice in them r...   \n",
       "10  Why do certain videos with sound in only 1 ear...   \n",
       "11            How can I fix a green oversized jacket?   \n",
       "12        Is it pointless to message this girl again?   \n",
       "13  Are we really in the midst of a loneliness epi...   \n",
       "14             are trad instruments ethnicity locked?   \n",
       "15              How can I find out someones pronouns?   \n",
       "16  why are there so many iphone game sponsorships...   \n",
       "17  What’s it like being conveniently attractive? ...   \n",
       "18                         What happened to Tim Pool?   \n",
       "19              Can you name a duck who's not a jerk?   \n",
       "\n",
       "                                         human_answer  \\\n",
       "0   It's not so much that they'll have nothing in ...   \n",
       "1      Extremely normal. Like genuinely the standard.   \n",
       "2   It's okay. You may be depressed. Maybe therapy...   \n",
       "3   Don’t answer. Send them a text that you’re bus...   \n",
       "4   Mostly makeup tbh. A good concealer and founda...   \n",
       "5   I hate to tell you this, but people-watching i...   \n",
       "6                They get fresh water from their food   \n",
       "7                             Still not announced yet   \n",
       "8                                   Only during covid   \n",
       "9   our brains seem to make categories of things a...   \n",
       "10  3.5mm jacks are [really simple](https://img.hu...   \n",
       "11  Sorry, I only have suggestions to fix blue jac...   \n",
       "12  She's playing hard to get. Sounds like she lik...   \n",
       "13  The majority of people I know are not lonely a...   \n",
       "14  They have a +3 ethnic modifier for native play...   \n",
       "15  So spoiler alert: there's no reason to use som...   \n",
       "16  It’s normal.\\n\\nRemember raid shadow legends, ...   \n",
       "17  It’s normal.\\n\\nRemember raid shadow legends, ...   \n",
       "18  A lot of these bloggers / \"independent journal...   \n",
       "19    - Launchpad McQuack\\n- Darkwing Duck\\n- Duckula   \n",
       "\n",
       "                                            ai_answer  \n",
       "0   People on the internet often say that people w...  \n",
       "1   No, it is not normal for top level executives ...  \n",
       "2   1. Set realistic goals: Break down tasks into ...  \n",
       "3   1. Respectfully explain your feelings to your ...  \n",
       "4   Actors can look younger than their age by taki...  \n",
       "5   There are many reasons why people enjoy watchi...  \n",
       "6   Sea mammals typically drink salt water, althou...  \n",
       "7   The new system might involve a points system, ...  \n",
       "8   Yes, I do feel embarrassed when I sneeze or co...  \n",
       "9   Yes, everyone has some level of prejudice in t...  \n",
       "10  This is because the plug on your headphones is...  \n",
       "11  If the jacket is too big, you can try taking i...  \n",
       "12  That depends on the situation. If you have alr...  \n",
       "13  Yes, many studies point to a growing lonelines...  \n",
       "14  No, it is not possible to trade traditional in...  \n",
       "15  The best way to find out someone's pronouns is...  \n",
       "16  The rise in iPhone game sponsorships on YouTub...  \n",
       "17  It's great in some ways and not so great in ot...  \n",
       "18  Tim Pool is an American journalist, filmmaker,...  \n",
       "19                                       Donald Duck.  "
      ]
     },
     "execution_count": 111,
     "metadata": {},
     "output_type": "execute_result"
    }
   ],
   "source": [
    "data_group_20to39"
   ]
  },
  {
   "cell_type": "code",
   "execution_count": 113,
   "id": "cbf09c5c-a19f-439d-bff6-e9081a257ea6",
   "metadata": {
    "collapsed": true,
    "jupyter": {
     "outputs_hidden": true
    },
    "tags": []
   },
   "outputs": [
    {
     "data": {
      "text/html": [
       "<div>\n",
       "<style scoped>\n",
       "    .dataframe tbody tr th:only-of-type {\n",
       "        vertical-align: middle;\n",
       "    }\n",
       "\n",
       "    .dataframe tbody tr th {\n",
       "        vertical-align: top;\n",
       "    }\n",
       "\n",
       "    .dataframe thead th {\n",
       "        text-align: right;\n",
       "    }\n",
       "</style>\n",
       "<table border=\"1\" class=\"dataframe\">\n",
       "  <thead>\n",
       "    <tr style=\"text-align: right;\">\n",
       "      <th></th>\n",
       "      <th>question</th>\n",
       "      <th>human_answer</th>\n",
       "      <th>ai_answer</th>\n",
       "    </tr>\n",
       "  </thead>\n",
       "  <tbody>\n",
       "    <tr>\n",
       "      <th>0</th>\n",
       "      <td>My husband hasn’t spoken to me in a week. How ...</td>\n",
       "      <td>Ok…I’m NOT a typical redditor…I’m an old marri...</td>\n",
       "      <td>It can be difficult to handle the silent treat...</td>\n",
       "    </tr>\n",
       "    <tr>\n",
       "      <th>1</th>\n",
       "      <td>Why do I get more attention when I am wearing ...</td>\n",
       "      <td>Are they actively flirting with you or just ta...</td>\n",
       "      <td>It is likely that people are drawn to the ring...</td>\n",
       "    </tr>\n",
       "    <tr>\n",
       "      <th>2</th>\n",
       "      <td>Is it rude to spend 3+ hours studying in a res...</td>\n",
       "      <td>If it isn't busy and you make a purchase, you'...</td>\n",
       "      <td>It depends on the restaurant/café and the circ...</td>\n",
       "    </tr>\n",
       "    <tr>\n",
       "      <th>3</th>\n",
       "      <td>If Justin Bieber hates the fame so much, why d...</td>\n",
       "      <td>He signed contracts. He can't stop now</td>\n",
       "      <td>Justin Bieber likely still enjoys performing, ...</td>\n",
       "    </tr>\n",
       "    <tr>\n",
       "      <th>4</th>\n",
       "      <td>How do I convince my wife and kids to clean up...</td>\n",
       "      <td>If you figure it out, please let me know</td>\n",
       "      <td>1. Set a good example by cleaning up after you...</td>\n",
       "    </tr>\n",
       "    <tr>\n",
       "      <th>5</th>\n",
       "      <td>Why do people put the \"In memory of\" stickers ...</td>\n",
       "      <td>To help a mourning person. It helps them feel ...</td>\n",
       "      <td>The \"In Memory Of\" stickers are often placed o...</td>\n",
       "    </tr>\n",
       "    <tr>\n",
       "      <th>6</th>\n",
       "      <td>Do any men actually find these ridiculously lo...</td>\n",
       "      <td>Personally, I find them absolutely hideous. Bu...</td>\n",
       "      <td>No, not really. Most men prefer shorter, natur...</td>\n",
       "    </tr>\n",
       "    <tr>\n",
       "      <th>7</th>\n",
       "      <td>Ho do you respond to \"I've dated a black guy b...</td>\n",
       "      <td>[deleted]</td>\n",
       "      <td>That's okay. Everyone has different preference...</td>\n",
       "    </tr>\n",
       "    <tr>\n",
       "      <th>8</th>\n",
       "      <td>Does anyone feel like eating is a chore? How d...</td>\n",
       "      <td>Get on a regular sleep schedule to regulate yo...</td>\n",
       "      <td>Yes, many people feel like eating is a chore. ...</td>\n",
       "    </tr>\n",
       "    <tr>\n",
       "      <th>9</th>\n",
       "      <td>How fast could the United States defeat North ...</td>\n",
       "      <td>Question: in this scenario, does the US care a...</td>\n",
       "      <td>It is impossible to answer this question becau...</td>\n",
       "    </tr>\n",
       "    <tr>\n",
       "      <th>10</th>\n",
       "      <td>How do I tell someone they won’t be hired back...</td>\n",
       "      <td>My summer job used to give us three options- r...</td>\n",
       "      <td>The best way to tell someone they won't be hir...</td>\n",
       "    </tr>\n",
       "    <tr>\n",
       "      <th>11</th>\n",
       "      <td>What to do when called the N word</td>\n",
       "      <td>If your staff tolerates that, talk to your par...</td>\n",
       "      <td>When someone calls you the N-word, it can be v...</td>\n",
       "    </tr>\n",
       "    <tr>\n",
       "      <th>12</th>\n",
       "      <td>What are you supposed to say when a girl asks ...</td>\n",
       "      <td>\"You must go to Hogwarts, because you are a 9 ...</td>\n",
       "      <td>It's not appropriate to rate someone on a scal...</td>\n",
       "    </tr>\n",
       "    <tr>\n",
       "      <th>13</th>\n",
       "      <td>Do women really get angry at their partners ov...</td>\n",
       "      <td>Some idiots might do</td>\n",
       "      <td>Yes, some women may get angry at their partner...</td>\n",
       "    </tr>\n",
       "    <tr>\n",
       "      <th>14</th>\n",
       "      <td>How do y’all work full time jobs and not event...</td>\n",
       "      <td>helps when you have the threat of homelessness</td>\n",
       "      <td>It's not easy! It requires a lot of planning a...</td>\n",
       "    </tr>\n",
       "    <tr>\n",
       "      <th>15</th>\n",
       "      <td>Is this a predator?</td>\n",
       "      <td>If someone casually talked like that about see...</td>\n",
       "      <td>No, this is not a predator.</td>\n",
       "    </tr>\n",
       "    <tr>\n",
       "      <th>16</th>\n",
       "      <td>Why is it people can go their whole lives doin...</td>\n",
       "      <td>Depends on how bad the one thing is. Also plen...</td>\n",
       "      <td>People often make snap judgments and are quick...</td>\n",
       "    </tr>\n",
       "    <tr>\n",
       "      <th>17</th>\n",
       "      <td>What does ‘3 minutes to yesterday’ mean?</td>\n",
       "      <td>I have never heard this before. Is it possible...</td>\n",
       "      <td>\"3 minutes to yesterday\" is an expression that...</td>\n",
       "    </tr>\n",
       "    <tr>\n",
       "      <th>18</th>\n",
       "      <td>Why do males take so long to poo?</td>\n",
       "      <td>80% of my poo gets released within the first f...</td>\n",
       "      <td>Males may take longer to poop because of their...</td>\n",
       "    </tr>\n",
       "    <tr>\n",
       "      <th>19</th>\n",
       "      <td>Why do drugs and \"crime\" seemingly fall into m...</td>\n",
       "      <td>\"Hey guys so I was hanging out with my drug de...</td>\n",
       "      <td>There are a variety of reasons why drugs and c...</td>\n",
       "    </tr>\n",
       "    <tr>\n",
       "      <th>20</th>\n",
       "      <td>Why do people on the internet say that people ...</td>\n",
       "      <td>It's not so much that they'll have nothing in ...</td>\n",
       "      <td>People on the internet often say that people w...</td>\n",
       "    </tr>\n",
       "    <tr>\n",
       "      <th>21</th>\n",
       "      <td>Is it normal for top level executives to be cl...</td>\n",
       "      <td>Extremely normal. Like genuinely the standard.</td>\n",
       "      <td>No, it is not normal for top level executives ...</td>\n",
       "    </tr>\n",
       "    <tr>\n",
       "      <th>22</th>\n",
       "      <td>how do i find the motivation to do basic things?</td>\n",
       "      <td>It's okay. You may be depressed. Maybe therapy...</td>\n",
       "      <td>1. Set realistic goals: Break down tasks into ...</td>\n",
       "    </tr>\n",
       "    <tr>\n",
       "      <th>23</th>\n",
       "      <td>How do I get my parents to back off a bit?</td>\n",
       "      <td>Don’t answer. Send them a text that you’re bus...</td>\n",
       "      <td>1. Respectfully explain your feelings to your ...</td>\n",
       "    </tr>\n",
       "    <tr>\n",
       "      <th>24</th>\n",
       "      <td>How can actors look like they are 20-30 in the...</td>\n",
       "      <td>Mostly makeup tbh. A good concealer and founda...</td>\n",
       "      <td>Actors can look younger than their age by taki...</td>\n",
       "    </tr>\n",
       "    <tr>\n",
       "      <th>25</th>\n",
       "      <td>Why do I enjoy watching people?</td>\n",
       "      <td>I hate to tell you this, but people-watching i...</td>\n",
       "      <td>There are many reasons why people enjoy watchi...</td>\n",
       "    </tr>\n",
       "    <tr>\n",
       "      <th>26</th>\n",
       "      <td>What do sea mammals drink?</td>\n",
       "      <td>They get fresh water from their food</td>\n",
       "      <td>Sea mammals typically drink salt water, althou...</td>\n",
       "    </tr>\n",
       "    <tr>\n",
       "      <th>27</th>\n",
       "      <td>Coins and awards are gone, what's the new system?</td>\n",
       "      <td>Still not announced yet</td>\n",
       "      <td>The new system might involve a points system, ...</td>\n",
       "    </tr>\n",
       "    <tr>\n",
       "      <th>28</th>\n",
       "      <td>Serious question. Do you feel embarrassed when...</td>\n",
       "      <td>Only during covid</td>\n",
       "      <td>Yes, I do feel embarrassed when I sneeze or co...</td>\n",
       "    </tr>\n",
       "    <tr>\n",
       "      <th>29</th>\n",
       "      <td>Everyone has some level of prejudice in them r...</td>\n",
       "      <td>our brains seem to make categories of things a...</td>\n",
       "      <td>Yes, everyone has some level of prejudice in t...</td>\n",
       "    </tr>\n",
       "    <tr>\n",
       "      <th>30</th>\n",
       "      <td>Why do certain videos with sound in only 1 ear...</td>\n",
       "      <td>3.5mm jacks are [really simple](https://img.hu...</td>\n",
       "      <td>This is because the plug on your headphones is...</td>\n",
       "    </tr>\n",
       "    <tr>\n",
       "      <th>31</th>\n",
       "      <td>How can I fix a green oversized jacket?</td>\n",
       "      <td>Sorry, I only have suggestions to fix blue jac...</td>\n",
       "      <td>If the jacket is too big, you can try taking i...</td>\n",
       "    </tr>\n",
       "    <tr>\n",
       "      <th>32</th>\n",
       "      <td>Is it pointless to message this girl again?</td>\n",
       "      <td>She's playing hard to get. Sounds like she lik...</td>\n",
       "      <td>That depends on the situation. If you have alr...</td>\n",
       "    </tr>\n",
       "    <tr>\n",
       "      <th>33</th>\n",
       "      <td>Are we really in the midst of a loneliness epi...</td>\n",
       "      <td>The majority of people I know are not lonely a...</td>\n",
       "      <td>Yes, many studies point to a growing lonelines...</td>\n",
       "    </tr>\n",
       "    <tr>\n",
       "      <th>34</th>\n",
       "      <td>are trad instruments ethnicity locked?</td>\n",
       "      <td>They have a +3 ethnic modifier for native play...</td>\n",
       "      <td>No, it is not possible to trade traditional in...</td>\n",
       "    </tr>\n",
       "    <tr>\n",
       "      <th>35</th>\n",
       "      <td>How can I find out someones pronouns?</td>\n",
       "      <td>So spoiler alert: there's no reason to use som...</td>\n",
       "      <td>The best way to find out someone's pronouns is...</td>\n",
       "    </tr>\n",
       "    <tr>\n",
       "      <th>36</th>\n",
       "      <td>why are there so many iphone game sponsorships...</td>\n",
       "      <td>It’s normal.\\n\\nRemember raid shadow legends, ...</td>\n",
       "      <td>The rise in iPhone game sponsorships on YouTub...</td>\n",
       "    </tr>\n",
       "    <tr>\n",
       "      <th>37</th>\n",
       "      <td>What’s it like being conveniently attractive? ...</td>\n",
       "      <td>It’s normal.\\n\\nRemember raid shadow legends, ...</td>\n",
       "      <td>It's great in some ways and not so great in ot...</td>\n",
       "    </tr>\n",
       "    <tr>\n",
       "      <th>38</th>\n",
       "      <td>What happened to Tim Pool?</td>\n",
       "      <td>A lot of these bloggers / \"independent journal...</td>\n",
       "      <td>Tim Pool is an American journalist, filmmaker,...</td>\n",
       "    </tr>\n",
       "    <tr>\n",
       "      <th>39</th>\n",
       "      <td>Can you name a duck who's not a jerk?</td>\n",
       "      <td>- Launchpad McQuack\\n- Darkwing Duck\\n- Duckula</td>\n",
       "      <td>Donald Duck.</td>\n",
       "    </tr>\n",
       "  </tbody>\n",
       "</table>\n",
       "</div>"
      ],
      "text/plain": [
       "                                             question  \\\n",
       "0   My husband hasn’t spoken to me in a week. How ...   \n",
       "1   Why do I get more attention when I am wearing ...   \n",
       "2   Is it rude to spend 3+ hours studying in a res...   \n",
       "3   If Justin Bieber hates the fame so much, why d...   \n",
       "4   How do I convince my wife and kids to clean up...   \n",
       "5   Why do people put the \"In memory of\" stickers ...   \n",
       "6   Do any men actually find these ridiculously lo...   \n",
       "7   Ho do you respond to \"I've dated a black guy b...   \n",
       "8   Does anyone feel like eating is a chore? How d...   \n",
       "9   How fast could the United States defeat North ...   \n",
       "10  How do I tell someone they won’t be hired back...   \n",
       "11                  What to do when called the N word   \n",
       "12  What are you supposed to say when a girl asks ...   \n",
       "13  Do women really get angry at their partners ov...   \n",
       "14  How do y’all work full time jobs and not event...   \n",
       "15                                Is this a predator?   \n",
       "16  Why is it people can go their whole lives doin...   \n",
       "17           What does ‘3 minutes to yesterday’ mean?   \n",
       "18                  Why do males take so long to poo?   \n",
       "19  Why do drugs and \"crime\" seemingly fall into m...   \n",
       "20  Why do people on the internet say that people ...   \n",
       "21  Is it normal for top level executives to be cl...   \n",
       "22   how do i find the motivation to do basic things?   \n",
       "23         How do I get my parents to back off a bit?   \n",
       "24  How can actors look like they are 20-30 in the...   \n",
       "25                    Why do I enjoy watching people?   \n",
       "26                         What do sea mammals drink?   \n",
       "27  Coins and awards are gone, what's the new system?   \n",
       "28  Serious question. Do you feel embarrassed when...   \n",
       "29  Everyone has some level of prejudice in them r...   \n",
       "30  Why do certain videos with sound in only 1 ear...   \n",
       "31            How can I fix a green oversized jacket?   \n",
       "32        Is it pointless to message this girl again?   \n",
       "33  Are we really in the midst of a loneliness epi...   \n",
       "34             are trad instruments ethnicity locked?   \n",
       "35              How can I find out someones pronouns?   \n",
       "36  why are there so many iphone game sponsorships...   \n",
       "37  What’s it like being conveniently attractive? ...   \n",
       "38                         What happened to Tim Pool?   \n",
       "39              Can you name a duck who's not a jerk?   \n",
       "\n",
       "                                         human_answer  \\\n",
       "0   Ok…I’m NOT a typical redditor…I’m an old marri...   \n",
       "1   Are they actively flirting with you or just ta...   \n",
       "2   If it isn't busy and you make a purchase, you'...   \n",
       "3              He signed contracts. He can't stop now   \n",
       "4            If you figure it out, please let me know   \n",
       "5   To help a mourning person. It helps them feel ...   \n",
       "6   Personally, I find them absolutely hideous. Bu...   \n",
       "7                                           [deleted]   \n",
       "8   Get on a regular sleep schedule to regulate yo...   \n",
       "9   Question: in this scenario, does the US care a...   \n",
       "10  My summer job used to give us three options- r...   \n",
       "11  If your staff tolerates that, talk to your par...   \n",
       "12  \"You must go to Hogwarts, because you are a 9 ...   \n",
       "13                               Some idiots might do   \n",
       "14     helps when you have the threat of homelessness   \n",
       "15  If someone casually talked like that about see...   \n",
       "16  Depends on how bad the one thing is. Also plen...   \n",
       "17  I have never heard this before. Is it possible...   \n",
       "18  80% of my poo gets released within the first f...   \n",
       "19  \"Hey guys so I was hanging out with my drug de...   \n",
       "20  It's not so much that they'll have nothing in ...   \n",
       "21     Extremely normal. Like genuinely the standard.   \n",
       "22  It's okay. You may be depressed. Maybe therapy...   \n",
       "23  Don’t answer. Send them a text that you’re bus...   \n",
       "24  Mostly makeup tbh. A good concealer and founda...   \n",
       "25  I hate to tell you this, but people-watching i...   \n",
       "26               They get fresh water from their food   \n",
       "27                            Still not announced yet   \n",
       "28                                  Only during covid   \n",
       "29  our brains seem to make categories of things a...   \n",
       "30  3.5mm jacks are [really simple](https://img.hu...   \n",
       "31  Sorry, I only have suggestions to fix blue jac...   \n",
       "32  She's playing hard to get. Sounds like she lik...   \n",
       "33  The majority of people I know are not lonely a...   \n",
       "34  They have a +3 ethnic modifier for native play...   \n",
       "35  So spoiler alert: there's no reason to use som...   \n",
       "36  It’s normal.\\n\\nRemember raid shadow legends, ...   \n",
       "37  It’s normal.\\n\\nRemember raid shadow legends, ...   \n",
       "38  A lot of these bloggers / \"independent journal...   \n",
       "39    - Launchpad McQuack\\n- Darkwing Duck\\n- Duckula   \n",
       "\n",
       "                                            ai_answer  \n",
       "0   It can be difficult to handle the silent treat...  \n",
       "1   It is likely that people are drawn to the ring...  \n",
       "2   It depends on the restaurant/café and the circ...  \n",
       "3   Justin Bieber likely still enjoys performing, ...  \n",
       "4   1. Set a good example by cleaning up after you...  \n",
       "5   The \"In Memory Of\" stickers are often placed o...  \n",
       "6   No, not really. Most men prefer shorter, natur...  \n",
       "7   That's okay. Everyone has different preference...  \n",
       "8   Yes, many people feel like eating is a chore. ...  \n",
       "9   It is impossible to answer this question becau...  \n",
       "10  The best way to tell someone they won't be hir...  \n",
       "11  When someone calls you the N-word, it can be v...  \n",
       "12  It's not appropriate to rate someone on a scal...  \n",
       "13  Yes, some women may get angry at their partner...  \n",
       "14  It's not easy! It requires a lot of planning a...  \n",
       "15                        No, this is not a predator.  \n",
       "16  People often make snap judgments and are quick...  \n",
       "17  \"3 minutes to yesterday\" is an expression that...  \n",
       "18  Males may take longer to poop because of their...  \n",
       "19  There are a variety of reasons why drugs and c...  \n",
       "20  People on the internet often say that people w...  \n",
       "21  No, it is not normal for top level executives ...  \n",
       "22  1. Set realistic goals: Break down tasks into ...  \n",
       "23  1. Respectfully explain your feelings to your ...  \n",
       "24  Actors can look younger than their age by taki...  \n",
       "25  There are many reasons why people enjoy watchi...  \n",
       "26  Sea mammals typically drink salt water, althou...  \n",
       "27  The new system might involve a points system, ...  \n",
       "28  Yes, I do feel embarrassed when I sneeze or co...  \n",
       "29  Yes, everyone has some level of prejudice in t...  \n",
       "30  This is because the plug on your headphones is...  \n",
       "31  If the jacket is too big, you can try taking i...  \n",
       "32  That depends on the situation. If you have alr...  \n",
       "33  Yes, many studies point to a growing lonelines...  \n",
       "34  No, it is not possible to trade traditional in...  \n",
       "35  The best way to find out someone's pronouns is...  \n",
       "36  The rise in iPhone game sponsorships on YouTub...  \n",
       "37  It's great in some ways and not so great in ot...  \n",
       "38  Tim Pool is an American journalist, filmmaker,...  \n",
       "39                                       Donald Duck.  "
      ]
     },
     "execution_count": 113,
     "metadata": {},
     "output_type": "execute_result"
    }
   ],
   "source": [
    "data_group_0to39 = pd.concat([data_group_0to19,data_group_20to39], ignore_index=True, sort=False)\n",
    "data_group_0to39"
   ]
  },
  {
   "cell_type": "code",
   "execution_count": 114,
   "id": "7fcf5952-592f-4efb-864e-175f24a4e1ae",
   "metadata": {},
   "outputs": [],
   "source": [
    "full_subreddit_40to59  = full_subreddit[40:60]\n",
    "ai_prompts_40to59 = [a['title'] for a in full_subreddit_40to59]\n",
    "response_group_40to59 = ai_response(ai_prompts_40to59)\n",
    "data_group_40to59 = add_together(full_subreddit_40to59,response_group_40to59)"
   ]
  },
  {
   "cell_type": "code",
   "execution_count": 125,
   "id": "b64585df-21cc-4621-a656-6c798156d451",
   "metadata": {
    "tags": []
   },
   "outputs": [
    {
     "data": {
      "text/plain": [
       "list"
      ]
     },
     "execution_count": 125,
     "metadata": {},
     "output_type": "execute_result"
    }
   ],
   "source": [
    "type(data_group_40to59)"
   ]
  },
  {
   "cell_type": "code",
   "execution_count": 126,
   "id": "0a6a3cb7-61fe-4676-9de3-9afaec0ccd15",
   "metadata": {
    "tags": []
   },
   "outputs": [],
   "source": [
    "data_group_40to59 = pd.DataFrame(data_group_40to59)"
   ]
  },
  {
   "cell_type": "code",
   "execution_count": 115,
   "id": "f2614e0d-2e24-43b0-b563-56915d905240",
   "metadata": {},
   "outputs": [],
   "source": [
    "full_subreddit_60to79  = full_subreddit[60:80]\n",
    "ai_prompts_60to79 = [a['title'] for a in full_subreddit_60to79]\n",
    "response_group_60to79 = ai_response(ai_prompts_60to79)\n",
    "data_group_60to79 = add_together(full_subreddit_60to79,response_group_60to79)"
   ]
  },
  {
   "cell_type": "code",
   "execution_count": 127,
   "id": "2c3ee695-d87c-47eb-834c-d1b7170ac127",
   "metadata": {
    "tags": []
   },
   "outputs": [],
   "source": [
    "data_group_60to79 = pd.DataFrame(data_group_60to79)"
   ]
  },
  {
   "cell_type": "code",
   "execution_count": 116,
   "id": "57a6354c-5202-4110-b872-f983897a4edb",
   "metadata": {
    "tags": []
   },
   "outputs": [],
   "source": [
    "full_subreddit_80to99  = full_subreddit[80:100]\n",
    "ai_prompts_80to99 = [a['title'] for a in full_subreddit_80to99]\n",
    "response_group_80to99 = ai_response(ai_prompts_80to99)\n",
    "data_group_80to99 = add_together(full_subreddit_80to99,response_group_80to99)"
   ]
  },
  {
   "cell_type": "code",
   "execution_count": 128,
   "id": "07a70cb2-bf4c-488b-a934-34a4b353f46f",
   "metadata": {
    "tags": []
   },
   "outputs": [],
   "source": [
    "data_group_80to99 = pd.DataFrame(data_group_80to99)"
   ]
  },
  {
   "cell_type": "code",
   "execution_count": 117,
   "id": "1c621ab1-f012-42b5-9a07-72dd30bd9ace",
   "metadata": {},
   "outputs": [],
   "source": [
    "full_subreddit_100to119  = full_subreddit[100:120]\n",
    "ai_prompts_100to119 = [a['title'] for a in full_subreddit_100to119]\n",
    "response_group_100to119 = ai_response(ai_prompts_100to119)\n",
    "data_group_100to119 = add_together(full_subreddit_100to119,response_group_100to119)"
   ]
  },
  {
   "cell_type": "code",
   "execution_count": 129,
   "id": "cb2c577e-7b0c-4984-b1fc-bcee9b40b6ef",
   "metadata": {
    "tags": []
   },
   "outputs": [],
   "source": [
    "data_group_100to119 = pd.DataFrame(data_group_100to119)"
   ]
  },
  {
   "cell_type": "code",
   "execution_count": 118,
   "id": "0711331a-faf8-427f-85fb-308abcefd2b9",
   "metadata": {},
   "outputs": [],
   "source": [
    "full_subreddit_120to139  = full_subreddit[120:140]\n",
    "ai_prompts_120to139 = [a['title'] for a in full_subreddit_120to139]\n",
    "response_group_120to139 = ai_response(ai_prompts_120to139)\n",
    "data_group_120to139 = add_together(full_subreddit_120to139,response_group_120to139)"
   ]
  },
  {
   "cell_type": "code",
   "execution_count": 130,
   "id": "2d2141da-49a9-419d-af8c-75dc23d12f55",
   "metadata": {
    "tags": []
   },
   "outputs": [],
   "source": [
    "data_group_120to139 = pd.DataFrame(data_group_120to139)"
   ]
  },
  {
   "cell_type": "code",
   "execution_count": 119,
   "id": "0d7e06e8-6b7a-4c5d-8cbd-4228700c6dfb",
   "metadata": {},
   "outputs": [],
   "source": [
    "full_subreddit_140to159  = full_subreddit[140:160]\n",
    "ai_prompts_140to159 = [a['title'] for a in full_subreddit_140to159]\n",
    "response_group_140to159 = ai_response(ai_prompts_140to159)\n",
    "data_group_140to159 = add_together(full_subreddit_140to159,response_group_140to159)"
   ]
  },
  {
   "cell_type": "code",
   "execution_count": 131,
   "id": "fce75a3d-0d01-43a1-b76d-09adf3eb44f8",
   "metadata": {
    "tags": []
   },
   "outputs": [],
   "source": [
    "data_group_140to159 = pd.DataFrame(data_group_140to159)"
   ]
  },
  {
   "cell_type": "code",
   "execution_count": 120,
   "id": "b2428c73-d65e-445e-806e-2a44716f8b9c",
   "metadata": {},
   "outputs": [],
   "source": [
    "full_subreddit_160to179  = full_subreddit[160:180]\n",
    "ai_prompts_160to179 = [a['title'] for a in full_subreddit_160to179]\n",
    "response_group_160to179 = ai_response(ai_prompts_160to179)\n",
    "data_group_160to179 = add_together(full_subreddit_160to179,response_group_160to179)"
   ]
  },
  {
   "cell_type": "code",
   "execution_count": 132,
   "id": "53f9a1c0-bd3d-4a4a-b1ea-f18caed9471d",
   "metadata": {
    "tags": []
   },
   "outputs": [],
   "source": [
    "data_group_160to179 = pd.DataFrame(data_group_160to179)"
   ]
  },
  {
   "cell_type": "code",
   "execution_count": 121,
   "id": "e987068a-155d-4d28-9f1a-e0217cd9e45b",
   "metadata": {},
   "outputs": [],
   "source": [
    "full_subreddit_180to199  = full_subreddit[180:200]\n",
    "ai_prompts_180to199 = [a['title'] for a in full_subreddit_180to199]\n",
    "response_group_180to199 = ai_response(ai_prompts_180to199)\n",
    "data_group_180to199 = add_together(full_subreddit_180to199,response_group_180to199)"
   ]
  },
  {
   "cell_type": "code",
   "execution_count": 133,
   "id": "211329c7-633a-4544-a9b6-340178c43bb4",
   "metadata": {
    "tags": []
   },
   "outputs": [],
   "source": [
    "data_group_180to199 = pd.DataFrame(data_group_180to199)"
   ]
  },
  {
   "cell_type": "code",
   "execution_count": 134,
   "id": "dc96e901-fe67-4ca2-bf7f-fa1129191783",
   "metadata": {
    "tags": []
   },
   "outputs": [],
   "source": [
    "data_group_0to199 = pd.concat([data_group_0to19, data_group_20to39, data_group_40to59,data_group_60to79, data_group_80to99, data_group_100to119, data_group_120to139, data_group_140to159, data_group_160to179,data_group_180to199], ignore_index=True, sort=False)"
   ]
  },
  {
   "cell_type": "code",
   "execution_count": 136,
   "id": "d3523dfd-fa8b-47c1-9f8b-9753d3bc5a99",
   "metadata": {
    "tags": []
   },
   "outputs": [],
   "source": [
    "data_group_0to199.to_csv('data_group_0to199.csv')"
   ]
  },
  {
   "cell_type": "code",
   "execution_count": null,
   "id": "50c53934-94b6-4e0f-92da-468386fec8c3",
   "metadata": {},
   "outputs": [],
   "source": []
  },
  {
   "cell_type": "code",
   "execution_count": 137,
   "id": "4a335f17-8bf0-4e4e-8b8b-52931f4b48f2",
   "metadata": {
    "tags": []
   },
   "outputs": [],
   "source": [
    "full_subreddit_200to219  = full_subreddit[200:220]\n",
    "ai_prompts_200to219 = [a['title'] for a in full_subreddit_200to219]\n",
    "response_group_200to219 = ai_response(ai_prompts_200to219)\n",
    "data_group_200to219 = pd.DataFrame(add_together(full_subreddit_200to219,response_group_200to219))"
   ]
  },
  {
   "cell_type": "code",
   "execution_count": 138,
   "id": "a4df98c1-5e5c-404c-a028-b947200f7c2c",
   "metadata": {},
   "outputs": [],
   "source": [
    "full_subreddit_220to239  = full_subreddit[220:240]\n",
    "ai_prompts_220to239 = [a['title'] for a in full_subreddit_220to239]\n",
    "response_group_220to239 = ai_response(ai_prompts_220to239)\n",
    "data_group_220to239 = pd.DataFrame(add_together(full_subreddit_220to239,response_group_220to239))"
   ]
  },
  {
   "cell_type": "code",
   "execution_count": 139,
   "id": "61e63663-304c-4c03-a504-45d9188b8702",
   "metadata": {},
   "outputs": [],
   "source": [
    "full_subreddit_240to259  = full_subreddit[240:260]\n",
    "ai_prompts_240to259 = [a['title'] for a in full_subreddit_240to259]\n",
    "response_group_240to259 = ai_response(ai_prompts_240to259)\n",
    "data_group_240to259 = pd.DataFrame(add_together(full_subreddit_240to259,response_group_240to259))"
   ]
  },
  {
   "cell_type": "code",
   "execution_count": 140,
   "id": "87eb0902-9b3e-484c-b572-dbf7f85ef09a",
   "metadata": {},
   "outputs": [],
   "source": [
    "full_subreddit_260to279  = full_subreddit[260:280]\n",
    "ai_prompts_260to279 = [a['title'] for a in full_subreddit_260to279]\n",
    "response_group_260to279 = ai_response(ai_prompts_260to279)\n",
    "data_group_260to279 = pd.DataFrame(add_together(full_subreddit_260to279,response_group_260to279))"
   ]
  },
  {
   "cell_type": "code",
   "execution_count": 141,
   "id": "12cdbc43-09b7-4ff6-8efd-720473bd72fc",
   "metadata": {},
   "outputs": [],
   "source": [
    "full_subreddit_280to299  = full_subreddit[280:300]\n",
    "ai_prompts_280to299 = [a['title'] for a in full_subreddit_280to299]\n",
    "response_group_280to299 = ai_response(ai_prompts_280to299)\n",
    "data_group_280to299 = pd.DataFrame(add_together(full_subreddit_280to299,response_group_280to299))"
   ]
  },
  {
   "cell_type": "code",
   "execution_count": 142,
   "id": "3a86b32e-dff8-4611-a6a8-b10022bc37cf",
   "metadata": {},
   "outputs": [],
   "source": [
    "full_subreddit_300to319  = full_subreddit[300:320]\n",
    "ai_prompts_300to319 = [a['title'] for a in full_subreddit_300to319]\n",
    "response_group_300to319 = ai_response(ai_prompts_300to319)\n",
    "data_group_300to319 = pd.DataFrame(add_together(full_subreddit_300to319,response_group_300to319))"
   ]
  },
  {
   "cell_type": "code",
   "execution_count": 143,
   "id": "47f6a31a-390c-437b-a96e-545d3b692579",
   "metadata": {
    "tags": []
   },
   "outputs": [],
   "source": [
    "full_subreddit_320to339  = full_subreddit[320:340]\n",
    "ai_prompts_320to339 = [a['title'] for a in full_subreddit_320to339]\n",
    "response_group_320to339 = ai_response(ai_prompts_320to339)\n",
    "data_group_320to339 = pd.DataFrame(add_together(full_subreddit_320to339,response_group_320to339))"
   ]
  },
  {
   "cell_type": "code",
   "execution_count": 144,
   "id": "18c25f1f-8480-43a0-a083-10905bfeee02",
   "metadata": {
    "tags": []
   },
   "outputs": [],
   "source": [
    "full_subreddit_340to359  = full_subreddit[340:360]\n",
    "ai_prompts_340to359 = [a['title'] for a in full_subreddit_340to359]\n",
    "response_group_340to359 = ai_response(ai_prompts_340to359)\n",
    "data_group_340to359 = pd.DataFrame(add_together(full_subreddit_340to359,response_group_340to359))"
   ]
  },
  {
   "cell_type": "code",
   "execution_count": 145,
   "id": "c7bf8bf6-f531-42c3-9c33-5fe7d801e69e",
   "metadata": {
    "tags": []
   },
   "outputs": [],
   "source": [
    "full_subreddit_360to379  = full_subreddit[360:380]\n",
    "ai_prompts_360to379 = [a['title'] for a in full_subreddit_360to379]\n",
    "response_group_360to379 = ai_response(ai_prompts_360to379)\n",
    "data_group_360to379 = pd.DataFrame(add_together(full_subreddit_360to379,response_group_360to379))"
   ]
  },
  {
   "cell_type": "code",
   "execution_count": 146,
   "id": "01b71a00-aaa9-4d88-9594-f03e6ca2be8a",
   "metadata": {
    "tags": []
   },
   "outputs": [],
   "source": [
    "full_subreddit_380to399  = full_subreddit[380:400]\n",
    "ai_prompts_380to399 = [a['title'] for a in full_subreddit_380to399]\n",
    "response_group_380to399 = ai_response(ai_prompts_380to399)\n",
    "data_group_380to399 = pd.DataFrame(add_together(full_subreddit_380to399,response_group_380to399))"
   ]
  },
  {
   "cell_type": "code",
   "execution_count": 147,
   "id": "e672ea22-0773-469e-892e-7ce5f1bb40fe",
   "metadata": {
    "tags": []
   },
   "outputs": [],
   "source": [
    "data_group_200to399 = pd.concat([data_group_200to219, data_group_220to239, data_group_240to259, data_group_260to279, data_group_280to299, data_group_300to319,data_group_320to339, data_group_340to359, data_group_360to379, data_group_380to399], ignore_index=True, sort = False)"
   ]
  },
  {
   "cell_type": "code",
   "execution_count": 148,
   "id": "9fec683f-45c7-4781-9c9e-3d0790f55905",
   "metadata": {
    "tags": []
   },
   "outputs": [],
   "source": [
    "data_group_200to399.to_csv('data_group_200to399.csv')"
   ]
  },
  {
   "cell_type": "code",
   "execution_count": 152,
   "id": "f16f3edc-2df1-4c1b-a132-f53f721cecee",
   "metadata": {
    "tags": []
   },
   "outputs": [],
   "source": [
    "full_subreddit_400to419  = full_subreddit[400:420]\n",
    "ai_prompts_400to419 = [a['title'] for a in full_subreddit_400to419]\n",
    "response_group_400to419 = ai_response(ai_prompts_400to419)\n",
    "data_group_400to419 = pd.DataFrame(add_together(full_subreddit_400to419,response_group_400to419))"
   ]
  },
  {
   "cell_type": "code",
   "execution_count": 153,
   "id": "ceac65df-6857-4697-aefa-73a74f241d5b",
   "metadata": {
    "tags": []
   },
   "outputs": [],
   "source": [
    "full_subreddit_420to439  = full_subreddit[420:440]\n",
    "ai_prompts_420to439 = [a['title'] for a in full_subreddit_420to439]\n",
    "response_group_420to439 = ai_response(ai_prompts_420to439)\n",
    "data_group_420to439 = pd.DataFrame(add_together(full_subreddit_420to439,response_group_420to439))"
   ]
  },
  {
   "cell_type": "code",
   "execution_count": 154,
   "id": "44ff1b55-5a98-40ef-82b7-e82ea74b05e5",
   "metadata": {
    "tags": []
   },
   "outputs": [],
   "source": [
    "full_subreddit_440to459  = full_subreddit[440:460]\n",
    "ai_prompts_440to459 = [a['title'] for a in full_subreddit_440to459]\n",
    "response_group_440to459 = ai_response(ai_prompts_440to459)\n",
    "data_group_440to459 = pd.DataFrame(add_together(full_subreddit_440to459,response_group_440to459))"
   ]
  },
  {
   "cell_type": "code",
   "execution_count": 155,
   "id": "5a1bf1d1-dc3d-43ce-a9e4-ba3b59b8162e",
   "metadata": {
    "collapsed": true,
    "jupyter": {
     "outputs_hidden": true
    },
    "tags": []
   },
   "outputs": [
    {
     "ename": "TypeError",
     "evalue": "list indices must be integers or slices, not str",
     "output_type": "error",
     "traceback": [
      "\u001b[0;31m---------------------------------------------------------------------------\u001b[0m",
      "\u001b[0;31mTypeError\u001b[0m                                 Traceback (most recent call last)",
      "Cell \u001b[0;32mIn[155], line 2\u001b[0m\n\u001b[1;32m      1\u001b[0m full_subreddit_460to479  \u001b[38;5;241m=\u001b[39m full_subreddit[\u001b[38;5;241m460\u001b[39m:\u001b[38;5;241m480\u001b[39m]\n\u001b[0;32m----> 2\u001b[0m ai_prompts_460to479 \u001b[38;5;241m=\u001b[39m [a[\u001b[38;5;124m'\u001b[39m\u001b[38;5;124mtitle\u001b[39m\u001b[38;5;124m'\u001b[39m] \u001b[38;5;28;01mfor\u001b[39;00m a \u001b[38;5;129;01min\u001b[39;00m full_subreddit_460to479]\n\u001b[1;32m      3\u001b[0m response_group_460to479 \u001b[38;5;241m=\u001b[39m ai_response(ai_prompts_460to479)\n\u001b[1;32m      4\u001b[0m data_group_460to479 \u001b[38;5;241m=\u001b[39m pd\u001b[38;5;241m.\u001b[39mDataFrame(add_together(full_subreddit_460to479,response_group_460to479))\n",
      "Cell \u001b[0;32mIn[155], line 2\u001b[0m, in \u001b[0;36m<listcomp>\u001b[0;34m(.0)\u001b[0m\n\u001b[1;32m      1\u001b[0m full_subreddit_460to479  \u001b[38;5;241m=\u001b[39m full_subreddit[\u001b[38;5;241m460\u001b[39m:\u001b[38;5;241m480\u001b[39m]\n\u001b[0;32m----> 2\u001b[0m ai_prompts_460to479 \u001b[38;5;241m=\u001b[39m [a[\u001b[38;5;124m'\u001b[39m\u001b[38;5;124mtitle\u001b[39m\u001b[38;5;124m'\u001b[39m] \u001b[38;5;28;01mfor\u001b[39;00m a \u001b[38;5;129;01min\u001b[39;00m full_subreddit_460to479]\n\u001b[1;32m      3\u001b[0m response_group_460to479 \u001b[38;5;241m=\u001b[39m ai_response(ai_prompts_460to479)\n\u001b[1;32m      4\u001b[0m data_group_460to479 \u001b[38;5;241m=\u001b[39m pd\u001b[38;5;241m.\u001b[39mDataFrame(add_together(full_subreddit_460to479,response_group_460to479))\n",
      "\u001b[0;31mTypeError\u001b[0m: list indices must be integers or slices, not str"
     ]
    }
   ],
   "source": [
    "full_subreddit_460to479  = full_subreddit[460:480]\n",
    "ai_prompts_460to479 = [a['title'] for a in full_subreddit_460to479]\n",
    "response_group_460to479 = ai_response(ai_prompts_460to479)\n",
    "data_group_460to479 = pd.DataFrame(add_together(full_subreddit_460to479,response_group_460to479))"
   ]
  },
  {
   "cell_type": "code",
   "execution_count": 156,
   "id": "6061b937-c65e-4021-9c6d-c373263c2238",
   "metadata": {
    "tags": []
   },
   "outputs": [],
   "source": [
    "full_subreddit_480to499  = full_subreddit[480:500]\n",
    "ai_prompts_480to499 = [a['title'] for a in full_subreddit_480to499]\n",
    "response_group_480to499 = ai_response(ai_prompts_480to499)\n",
    "data_group_480to499 = pd.DataFrame(add_together(full_subreddit_480to499,response_group_480to499))"
   ]
  },
  {
   "cell_type": "code",
   "execution_count": 162,
   "id": "41d02bdb-1c8e-4162-9eaf-fce8f7db485d",
   "metadata": {
    "collapsed": true,
    "jupyter": {
     "outputs_hidden": true
    },
    "tags": []
   },
   "outputs": [
    {
     "ename": "TypeError",
     "evalue": "string indices must be integers, not 'str'",
     "output_type": "error",
     "traceback": [
      "\u001b[0;31m---------------------------------------------------------------------------\u001b[0m",
      "\u001b[0;31mTypeError\u001b[0m                                 Traceback (most recent call last)",
      "Cell \u001b[0;32mIn[162], line 2\u001b[0m\n\u001b[1;32m      1\u001b[0m full_subreddit_500to519  \u001b[38;5;241m=\u001b[39m full_subreddit[\u001b[38;5;241m501\u001b[39m:\u001b[38;5;241m520\u001b[39m]\n\u001b[0;32m----> 2\u001b[0m ai_prompts_500to519 \u001b[38;5;241m=\u001b[39m [a[\u001b[38;5;124m'\u001b[39m\u001b[38;5;124mtitle\u001b[39m\u001b[38;5;124m'\u001b[39m] \u001b[38;5;28;01mfor\u001b[39;00m a \u001b[38;5;129;01min\u001b[39;00m full_subreddit_500to519]\n\u001b[1;32m      3\u001b[0m response_group_500to519 \u001b[38;5;241m=\u001b[39m ai_response(ai_prompts_500to519)\n\u001b[1;32m      4\u001b[0m data_group_500to519 \u001b[38;5;241m=\u001b[39m pd\u001b[38;5;241m.\u001b[39mDataFrame(add_together(full_subreddit_500to519,response_group_500to519))\n",
      "Cell \u001b[0;32mIn[162], line 2\u001b[0m, in \u001b[0;36m<listcomp>\u001b[0;34m(.0)\u001b[0m\n\u001b[1;32m      1\u001b[0m full_subreddit_500to519  \u001b[38;5;241m=\u001b[39m full_subreddit[\u001b[38;5;241m501\u001b[39m:\u001b[38;5;241m520\u001b[39m]\n\u001b[0;32m----> 2\u001b[0m ai_prompts_500to519 \u001b[38;5;241m=\u001b[39m [a[\u001b[38;5;124m'\u001b[39m\u001b[38;5;124mtitle\u001b[39m\u001b[38;5;124m'\u001b[39m] \u001b[38;5;28;01mfor\u001b[39;00m a \u001b[38;5;129;01min\u001b[39;00m full_subreddit_500to519]\n\u001b[1;32m      3\u001b[0m response_group_500to519 \u001b[38;5;241m=\u001b[39m ai_response(ai_prompts_500to519)\n\u001b[1;32m      4\u001b[0m data_group_500to519 \u001b[38;5;241m=\u001b[39m pd\u001b[38;5;241m.\u001b[39mDataFrame(add_together(full_subreddit_500to519,response_group_500to519))\n",
      "\u001b[0;31mTypeError\u001b[0m: string indices must be integers, not 'str'"
     ]
    }
   ],
   "source": [
    "full_subreddit_500to519  = full_subreddit[501:520]\n",
    "ai_prompts_500to519 = [a['title'] for a in full_subreddit_500to519]\n",
    "response_group_500to519 = ai_response(ai_prompts_500to519)\n",
    "data_group_500to519 = pd.DataFrame(add_together(full_subreddit_500to519,response_group_500to519))"
   ]
  },
  {
   "cell_type": "code",
   "execution_count": 163,
   "id": "f034e4da-4694-4620-9145-630d43f6e334",
   "metadata": {
    "collapsed": true,
    "jupyter": {
     "outputs_hidden": true
    },
    "tags": []
   },
   "outputs": [
    {
     "ename": "TypeError",
     "evalue": "string indices must be integers, not 'str'",
     "output_type": "error",
     "traceback": [
      "\u001b[0;31m---------------------------------------------------------------------------\u001b[0m",
      "\u001b[0;31mTypeError\u001b[0m                                 Traceback (most recent call last)",
      "Cell \u001b[0;32mIn[163], line 2\u001b[0m\n\u001b[1;32m      1\u001b[0m full_subreddit_520to539  \u001b[38;5;241m=\u001b[39m full_subreddit[\u001b[38;5;241m520\u001b[39m:\u001b[38;5;241m540\u001b[39m]\n\u001b[0;32m----> 2\u001b[0m ai_prompts_520to539 \u001b[38;5;241m=\u001b[39m [a[\u001b[38;5;124m'\u001b[39m\u001b[38;5;124mtitle\u001b[39m\u001b[38;5;124m'\u001b[39m] \u001b[38;5;28;01mfor\u001b[39;00m a \u001b[38;5;129;01min\u001b[39;00m full_subreddit_520to539]\n\u001b[1;32m      3\u001b[0m response_group_520to539 \u001b[38;5;241m=\u001b[39m ai_response(ai_prompts_520to539)\n\u001b[1;32m      4\u001b[0m data_group_520to539 \u001b[38;5;241m=\u001b[39m pd\u001b[38;5;241m.\u001b[39mDataFrame(add_together(full_subreddit_520to539,response_group_520to539))\n",
      "Cell \u001b[0;32mIn[163], line 2\u001b[0m, in \u001b[0;36m<listcomp>\u001b[0;34m(.0)\u001b[0m\n\u001b[1;32m      1\u001b[0m full_subreddit_520to539  \u001b[38;5;241m=\u001b[39m full_subreddit[\u001b[38;5;241m520\u001b[39m:\u001b[38;5;241m540\u001b[39m]\n\u001b[0;32m----> 2\u001b[0m ai_prompts_520to539 \u001b[38;5;241m=\u001b[39m [a[\u001b[38;5;124m'\u001b[39m\u001b[38;5;124mtitle\u001b[39m\u001b[38;5;124m'\u001b[39m] \u001b[38;5;28;01mfor\u001b[39;00m a \u001b[38;5;129;01min\u001b[39;00m full_subreddit_520to539]\n\u001b[1;32m      3\u001b[0m response_group_520to539 \u001b[38;5;241m=\u001b[39m ai_response(ai_prompts_520to539)\n\u001b[1;32m      4\u001b[0m data_group_520to539 \u001b[38;5;241m=\u001b[39m pd\u001b[38;5;241m.\u001b[39mDataFrame(add_together(full_subreddit_520to539,response_group_520to539))\n",
      "\u001b[0;31mTypeError\u001b[0m: string indices must be integers, not 'str'"
     ]
    }
   ],
   "source": [
    "full_subreddit_520to539  = full_subreddit[520:540]\n",
    "ai_prompts_520to539 = [a['title'] for a in full_subreddit_520to539]\n",
    "response_group_520to539 = ai_response(ai_prompts_520to539)\n",
    "data_group_520to539 = pd.DataFrame(add_together(full_subreddit_520to539,response_group_520to539))"
   ]
  },
  {
   "cell_type": "code",
   "execution_count": 173,
   "id": "2012e0e9-4ee6-47e1-9e14-7953c5af29e8",
   "metadata": {
    "tags": []
   },
   "outputs": [
    {
     "ename": "TypeError",
     "evalue": "string indices must be integers, not 'str'",
     "output_type": "error",
     "traceback": [
      "\u001b[0;31m---------------------------------------------------------------------------\u001b[0m",
      "\u001b[0;31mTypeError\u001b[0m                                 Traceback (most recent call last)",
      "Cell \u001b[0;32mIn[173], line 2\u001b[0m\n\u001b[1;32m      1\u001b[0m full_subreddit_520to539  \u001b[38;5;241m=\u001b[39m full_subreddit[\u001b[38;5;241m1001\u001b[39m:\u001b[38;5;241m1200\u001b[39m]\n\u001b[0;32m----> 2\u001b[0m ai_prompts_520to539 \u001b[38;5;241m=\u001b[39m [a[\u001b[38;5;124m'\u001b[39m\u001b[38;5;124mtitle\u001b[39m\u001b[38;5;124m'\u001b[39m] \u001b[38;5;28;01mfor\u001b[39;00m a \u001b[38;5;129;01min\u001b[39;00m full_subreddit_520to539]\n",
      "Cell \u001b[0;32mIn[173], line 2\u001b[0m, in \u001b[0;36m<listcomp>\u001b[0;34m(.0)\u001b[0m\n\u001b[1;32m      1\u001b[0m full_subreddit_520to539  \u001b[38;5;241m=\u001b[39m full_subreddit[\u001b[38;5;241m1001\u001b[39m:\u001b[38;5;241m1200\u001b[39m]\n\u001b[0;32m----> 2\u001b[0m ai_prompts_520to539 \u001b[38;5;241m=\u001b[39m [a[\u001b[38;5;124m'\u001b[39m\u001b[38;5;124mtitle\u001b[39m\u001b[38;5;124m'\u001b[39m] \u001b[38;5;28;01mfor\u001b[39;00m a \u001b[38;5;129;01min\u001b[39;00m full_subreddit_520to539]\n",
      "\u001b[0;31mTypeError\u001b[0m: string indices must be integers, not 'str'"
     ]
    }
   ],
   "source": [
    "full_subreddit_520to539  = full_subreddit[1001:1200]\n",
    "ai_prompts_520to539 = [a['title'] for a in full_subreddit_520to539]"
   ]
  },
  {
   "cell_type": "code",
   "execution_count": null,
   "id": "fd18ca6c-da7b-411a-997d-5653f65a97f8",
   "metadata": {},
   "outputs": [],
   "source": []
  }
 ],
 "metadata": {
  "kernelspec": {
   "display_name": "Python 3 (ipykernel)",
   "language": "python",
   "name": "python3"
  },
  "language_info": {
   "codemirror_mode": {
    "name": "ipython",
    "version": 3
   },
   "file_extension": ".py",
   "mimetype": "text/x-python",
   "name": "python",
   "nbconvert_exporter": "python",
   "pygments_lexer": "ipython3",
   "version": "3.11.4"
  }
 },
 "nbformat": 4,
 "nbformat_minor": 5
}
