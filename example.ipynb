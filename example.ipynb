{
 "cells": [
  {
   "cell_type": "markdown",
   "id": "60684d56-7fbf-4d65-af80-c62597523188",
   "metadata": {
    "tags": []
   },
   "source": [
    "# PRAW\n",
    "---"
   ]
  },
  {
   "cell_type": "code",
   "execution_count": 1,
   "id": "a12bdca7-7417-415c-be11-102d81edcd7e",
   "metadata": {
    "tags": []
   },
   "outputs": [],
   "source": [
    "import praw"
   ]
  },
  {
   "cell_type": "code",
   "execution_count": 2,
   "id": "4bff9d43-98cc-4335-ab62-b4babe80bea1",
   "metadata": {
    "tags": []
   },
   "outputs": [],
   "source": [
    "reddit = praw.Reddit()"
   ]
  },
  {
   "cell_type": "code",
   "execution_count": 3,
   "id": "ad725969-2fad-469f-b591-ec51bff194d5",
   "metadata": {
    "tags": []
   },
   "outputs": [],
   "source": [
    "def get_reddit_post(posts):\n",
    "\n",
    "    posts_list = []\n",
    "\n",
    "    for post in posts: \n",
    "        if not post.over_18:\n",
    "            post.comments.replace_more(limit=0) #skip over additional links\n",
    "            highest_ups = -1\n",
    "            for comment in post.comments:\n",
    "                if comment.ups > highest_ups:\n",
    "                    best_comment = comment.body\n",
    "                    highest_ups = comment.ups\n",
    "\n",
    "            posts_list.append(\n",
    "                {'title':post.title,\n",
    "                'selftext': post.selftext,\n",
    "                'subreddit': post.subreddit,\n",
    "                'comments': post.comments,\n",
    "                'created_utc': post.created_utc,\n",
    "                'top_comment': best_comment, \n",
    "                'comment_upvotes': highest_ups}\n",
    "            )\n",
    "    return posts_list"
   ]
  },
  {
   "cell_type": "code",
   "execution_count": 5,
   "id": "4f310e1e-4d5d-4832-b94d-03a8ecf1e83f",
   "metadata": {
    "tags": []
   },
   "outputs": [],
   "source": [
    "my_subreddit = \"NoStupidQuestions\""
   ]
  },
  {
   "cell_type": "code",
   "execution_count": 21,
   "id": "fa3ce1e4-0774-4b91-a6c2-8d5f72bb021c",
   "metadata": {
    "tags": []
   },
   "outputs": [],
   "source": [
    "posts_1 = reddit.subreddit(my_subreddit).hot(limit=4) #get the fisrt 400 question\n",
    "posts_list_1 = get_reddit_post(posts_1)"
   ]
  },
  {
   "cell_type": "code",
   "execution_count": null,
   "id": "0329dbb3-8ade-43b4-b2d1-a5b8772a04ec",
   "metadata": {},
   "outputs": [],
   "source": [
    "posts_2 = reddit.subreddit(my_subreddit).new(limit=400)\n",
    "posts_list_2 = get_reddit_post(posts_2)"
   ]
  },
  {
   "cell_type": "code",
   "execution_count": 8,
   "id": "cb65970a-d612-42c1-a9cf-7b7807e36e29",
   "metadata": {},
   "outputs": [],
   "source": [
    "posts_3 = reddit.subreddit(my_subreddit).top(limit=400)\n",
    "posts_list_3 = get_reddit_post(posts_3)"
   ]
  },
  {
   "cell_type": "code",
   "execution_count": 11,
   "id": "f91b502d-eb63-4db9-8e33-84b2579de6ec",
   "metadata": {},
   "outputs": [],
   "source": [
    "my_subreddit_2 = \"Questions\""
   ]
  },
  {
   "cell_type": "code",
   "execution_count": 12,
   "id": "0af27dce-fde5-4de3-a3bd-80769288f1a6",
   "metadata": {
    "tags": []
   },
   "outputs": [],
   "source": [
    "posts_4 = reddit.subreddit(my_subreddit_2).hot(limit=400) \n",
    "posts_list_4 = get_reddit_post(posts_4)"
   ]
  },
  {
   "cell_type": "code",
   "execution_count": null,
   "id": "60528656-3285-43d4-9dda-39cd8cad8ed1",
   "metadata": {},
   "outputs": [],
   "source": [
    "posts_5 = reddit.subreddit(my_subreddit_2).new(limit=400)\n",
    "posts_list_5 = get_reddit_post(posts_5)"
   ]
  },
  {
   "cell_type": "code",
   "execution_count": null,
   "id": "8b2def96-0fb3-468e-a568-f89cfb7f5fcd",
   "metadata": {},
   "outputs": [],
   "source": [
    "posts_6 = reddit.subreddit(my_subreddit_2).top(limit=400) \n",
    "posts_list_6 = get_reddit_post(posts_6)"
   ]
  },
  {
   "cell_type": "code",
   "execution_count": null,
   "id": "62775855-86ca-492a-9aac-f4c886276bba",
   "metadata": {},
   "outputs": [],
   "source": [
    "my_subreddit_3 = \"Askreddit\""
   ]
  },
  {
   "cell_type": "code",
   "execution_count": null,
   "id": "3e7a2075-9eb6-4352-9db4-7c6fc91b908b",
   "metadata": {},
   "outputs": [],
   "source": [
    "posts_7 = reddit.subreddit(my_subreddit_3).hot(limit=400) \n",
    "posts_list_7 = get_reddit_post(posts_7)"
   ]
  },
  {
   "cell_type": "code",
   "execution_count": null,
   "id": "a35b9e7a-c4b8-428e-91d4-8a36233c2c76",
   "metadata": {},
   "outputs": [],
   "source": [
    "posts_8 = reddit.subreddit(my_subreddit_3).new(limit=400) \n",
    "posts_list_8 = get_reddit_post(posts_8)"
   ]
  },
  {
   "cell_type": "code",
   "execution_count": null,
   "id": "30e362c6-d244-4123-9331-e23592e1aa8b",
   "metadata": {},
   "outputs": [],
   "source": [
    "posts_9 = reddit.subreddit(my_subreddit_3).top(limit=400) \n",
    "posts_list_9 = get_reddit_post(posts_9)"
   ]
  },
  {
   "cell_type": "code",
   "execution_count": null,
   "id": "9d394c2a-4ba4-4da4-a3e7-85edb5bf368d",
   "metadata": {},
   "outputs": [],
   "source": [
    "my_subreddit_4 = \"MorbidQuestions\""
   ]
  },
  {
   "cell_type": "code",
   "execution_count": null,
   "id": "d437ec6c-72f1-4a9e-8dd9-0fc3d822f204",
   "metadata": {},
   "outputs": [],
   "source": [
    "posts_10 = reddit.subreddit(my_subreddit_4).top(limit=400) \n",
    "posts_list_10 = get_reddit_post(posts_10)"
   ]
  },
  {
   "cell_type": "code",
   "execution_count": null,
   "id": "8ce7249e-1d28-461f-8b8f-6570a2798b6c",
   "metadata": {},
   "outputs": [],
   "source": [
    "posts_11 = reddit.subreddit(my_subreddit_4).new(limit=400) \n",
    "posts_list_11 = get_reddit_post(posts_11)"
   ]
  },
  {
   "cell_type": "code",
   "execution_count": 14,
   "id": "a15d882a-bd39-479a-8ed2-0e63e129c491",
   "metadata": {
    "tags": []
   },
   "outputs": [],
   "source": [
    "my_subreddit_5 = \"answers\""
   ]
  },
  {
   "cell_type": "code",
   "execution_count": 15,
   "id": "39e13efe-0da7-4c31-aad9-f782d171d1ba",
   "metadata": {
    "tags": []
   },
   "outputs": [],
   "source": [
    "posts_12 = reddit.subreddit(my_subreddit_5).new(limit=400) \n",
    "posts_list_12 = get_reddit_post(posts_12)"
   ]
  },
  {
   "cell_type": "code",
   "execution_count": null,
   "id": "3239f53e-2a0d-4988-a9fa-92c12731cd5a",
   "metadata": {},
   "outputs": [],
   "source": [
    "posts_13 = reddit.subreddit(my_subreddit_5).top(limit=400) \n",
    "posts_list_13 = get_reddit_post(posts_13)"
   ]
  },
  {
   "cell_type": "code",
   "execution_count": null,
   "id": "c393a4ed-fc0a-4c99-b0d1-86b0d5651507",
   "metadata": {},
   "outputs": [],
   "source": [
    "my_subreddit_6 = \"TrueAskReddit\""
   ]
  },
  {
   "cell_type": "code",
   "execution_count": null,
   "id": "b8aa22d0-cf1f-403e-a2c3-52b40922033e",
   "metadata": {},
   "outputs": [],
   "source": [
    "posts_14 = reddit.subreddit(my_subreddit_6).new(limit=400) \n",
    "posts_list_14 = get_reddit_post(posts_14)"
   ]
  },
  {
   "cell_type": "code",
   "execution_count": null,
   "id": "5e1da211-719e-45e5-ac14-8b657b03a95f",
   "metadata": {},
   "outputs": [],
   "source": [
    "posts_15 = reddit.subreddit(my_subreddit_6).top(limit=400) \n",
    "posts_list_15 = get_reddit_post(posts_15)"
   ]
  },
  {
   "cell_type": "markdown",
   "id": "66d2e3b5-ad83-466c-9e9c-3fa214d8d352",
   "metadata": {},
   "source": [
    "# OPENAI\n",
    "---"
   ]
  },
  {
   "cell_type": "code",
   "execution_count": 17,
   "id": "240e9075-0b9e-4b2f-a408-64c8b55f4716",
   "metadata": {},
   "outputs": [],
   "source": [
    "import os\n",
    "import openai "
   ]
  },
  {
   "cell_type": "code",
   "execution_count": 18,
   "id": "70b78061-ee3c-4b2b-8086-7c9ed509cfea",
   "metadata": {
    "tags": []
   },
   "outputs": [],
   "source": [
    "openai.api_key = os.environ.get('OPENAI_API_KEY')"
   ]
  },
  {
   "cell_type": "code",
   "execution_count": 19,
   "id": "fb374a37-7e9c-4fe5-8759-afb05b3dec0b",
   "metadata": {
    "tags": []
   },
   "outputs": [],
   "source": [
    "def ai_response(prompts):\n",
    "    response_group = []\n",
    "    dv_response = openai.Completion.create(\n",
    "    model=\"text-davinci-003\",\n",
    "    prompt=prompts,\n",
    "    temperature=0.6,\n",
    "    max_tokens = 500)\n",
    "    for res in dv_response['choices']:\n",
    "        response_group.append(res['text'].strip())\n",
    "    return response_group"
   ]
  },
  {
   "cell_type": "code",
   "execution_count": 28,
   "id": "d1b15329-c5cf-49ee-91f6-729708216414",
   "metadata": {
    "tags": []
   },
   "outputs": [],
   "source": [
    "def add_together(posts_list,response_group):\n",
    "    data_group = []\n",
    "    for i, j in zip(posts_list,response_group):\n",
    "        data = {\n",
    "            'question':i['title'],\n",
    "            'human_answer':i['top_comment'],\n",
    "            'ai_answer':j\n",
    "        }\n",
    "        data_group.append(data)\n",
    "    return data_group"
   ]
  },
  {
   "cell_type": "code",
   "execution_count": 29,
   "id": "4bc1f908-0e9b-431b-8ba8-bc2bce57256e",
   "metadata": {},
   "outputs": [],
   "source": [
    "ai_prompts_1 = [a['title'] for a in posts_list_1]\n",
    "response_group1 = ai_response(ai_prompts_1)\n",
    "data_group1 = add_together(posts_list_1,response_group1)"
   ]
  },
  {
   "cell_type": "code",
   "execution_count": 19,
   "id": "84274af6-2007-432a-8401-e2f0fa1d3218",
   "metadata": {
    "tags": []
   },
   "outputs": [],
   "source": [
    "ai_prompts_2 = [a['title'] for a in posts_list_2]\n",
    "response_group2 = ai_response(ai_prompts_2)\n",
    "data_group2 = add_together(posts_list_2,response_group2)"
   ]
  },
  {
   "cell_type": "code",
   "execution_count": null,
   "id": "7fcf5952-592f-4efb-864e-175f24a4e1ae",
   "metadata": {},
   "outputs": [],
   "source": [
    "ai_prompts_3 = [a['title'] for a in posts_list_3]\n",
    "response_group3 = ai_response(ai_prompts_3)\n",
    "data_group3 = add_together(posts_list_3,response_group3)"
   ]
  },
  {
   "cell_type": "code",
   "execution_count": null,
   "id": "f2614e0d-2e24-43b0-b563-56915d905240",
   "metadata": {},
   "outputs": [],
   "source": [
    "ai_prompts_4 = [a['title'] for a in posts_list_4]\n",
    "response_group4 = ai_response(ai_prompts_4)\n",
    "data_group4 = add_together(posts_list_4,response_group4)"
   ]
  },
  {
   "cell_type": "code",
   "execution_count": null,
   "id": "1c621ab1-f012-42b5-9a07-72dd30bd9ace",
   "metadata": {},
   "outputs": [],
   "source": [
    "ai_prompts_5 = [a['title'] for a in posts_list_5]\n",
    "response_group5 = ai_response(ai_prompts_5)\n",
    "data_group5 = add_together(posts_list_5,response_group5)"
   ]
  },
  {
   "cell_type": "code",
   "execution_count": null,
   "id": "0711331a-faf8-427f-85fb-308abcefd2b9",
   "metadata": {},
   "outputs": [],
   "source": [
    "ai_prompts_6 = [a['title'] for a in posts_list_6]\n",
    "response_group6 = ai_response(ai_prompts_6)\n",
    "data_group6 = add_together(posts_list_6,response_group6)"
   ]
  },
  {
   "cell_type": "code",
   "execution_count": null,
   "id": "0d7e06e8-6b7a-4c5d-8cbd-4228700c6dfb",
   "metadata": {},
   "outputs": [],
   "source": [
    "ai_prompts_7 = [a['title'] for a in posts_list_7]\n",
    "response_group7 = ai_response(ai_prompts_7)\n",
    "data_group7 = add_together(posts_list_7,response_group7)"
   ]
  },
  {
   "cell_type": "code",
   "execution_count": null,
   "id": "b2428c73-d65e-445e-806e-2a44716f8b9c",
   "metadata": {},
   "outputs": [],
   "source": [
    "ai_prompts_8 = [a['title'] for a in posts_list_8]\n",
    "response_group8 = ai_response(ai_prompts_8)\n",
    "data_group8 = add_together(posts_list_8,response_group8)"
   ]
  },
  {
   "cell_type": "code",
   "execution_count": null,
   "id": "e987068a-155d-4d28-9f1a-e0217cd9e45b",
   "metadata": {},
   "outputs": [],
   "source": [
    "ai_prompts_9 = [a['title'] for a in posts_list_9]\n",
    "response_group9 = ai_response(ai_prompts_9)\n",
    "data_group9 = add_together(posts_list_9,response_group9)"
   ]
  },
  {
   "cell_type": "code",
   "execution_count": null,
   "id": "50c53934-94b6-4e0f-92da-468386fec8c3",
   "metadata": {},
   "outputs": [],
   "source": [
    "ai_prompts_10 = [a['title'] for a in posts_list_10]\n",
    "response_group10 = ai_response(ai_prompts_10)\n",
    "data_group10 = add_together(posts_list_10,response_group10)"
   ]
  },
  {
   "cell_type": "code",
   "execution_count": null,
   "id": "a4df98c1-5e5c-404c-a028-b947200f7c2c",
   "metadata": {},
   "outputs": [],
   "source": [
    "ai_prompts_11 = [a['title'] for a in posts_list_11]\n",
    "response_group11 = ai_response(ai_prompts_11)\n",
    "data_group11 = add_together(posts_list_11,response_group11)"
   ]
  },
  {
   "cell_type": "code",
   "execution_count": null,
   "id": "61e63663-304c-4c03-a504-45d9188b8702",
   "metadata": {},
   "outputs": [],
   "source": [
    "ai_prompts_12 = [a['title'] for a in posts_list_12]\n",
    "response_group12 = ai_response(ai_prompts_12)\n",
    "data_group12 = add_together(posts_list_12,response_group12)"
   ]
  },
  {
   "cell_type": "code",
   "execution_count": null,
   "id": "87eb0902-9b3e-484c-b572-dbf7f85ef09a",
   "metadata": {},
   "outputs": [],
   "source": [
    "ai_prompts_13 = [a['title'] for a in posts_list_13]\n",
    "response_group13 = ai_response(ai_prompts_13)\n",
    "data_group13 = add_together(posts_list_13,response_group13)"
   ]
  },
  {
   "cell_type": "code",
   "execution_count": null,
   "id": "12cdbc43-09b7-4ff6-8efd-720473bd72fc",
   "metadata": {},
   "outputs": [],
   "source": [
    "ai_prompts_14 = [a['title'] for a in posts_list_14]\n",
    "response_group14 = ai_response(ai_prompts_14)\n",
    "data_group14 = add_together(posts_list_14,response_group14)"
   ]
  },
  {
   "cell_type": "code",
   "execution_count": null,
   "id": "3a86b32e-dff8-4611-a6a8-b10022bc37cf",
   "metadata": {},
   "outputs": [],
   "source": [
    "ai_prompts_15 = [a['title'] for a in posts_list_15]\n",
    "response_group15 = ai_response(ai_prompts_15)\n",
    "data_group15 = add_together(posts_list_15,response_group15)"
   ]
  },
  {
   "cell_type": "code",
   "execution_count": null,
   "id": "8baa58b7-6be9-4481-96e1-3394c4b7de79",
   "metadata": {},
   "outputs": [],
   "source": []
  },
  {
   "cell_type": "code",
   "execution_count": 26,
   "id": "89eefd16-5359-4ea7-8042-33411ee62780",
   "metadata": {
    "tags": []
   },
   "outputs": [
    {
     "data": {
      "text/html": [
       "<div>\n",
       "<style scoped>\n",
       "    .dataframe tbody tr th:only-of-type {\n",
       "        vertical-align: middle;\n",
       "    }\n",
       "\n",
       "    .dataframe tbody tr th {\n",
       "        vertical-align: top;\n",
       "    }\n",
       "\n",
       "    .dataframe thead th {\n",
       "        text-align: right;\n",
       "    }\n",
       "</style>\n",
       "<table border=\"1\" class=\"dataframe\">\n",
       "  <thead>\n",
       "    <tr style=\"text-align: right;\">\n",
       "      <th></th>\n",
       "      <th>question</th>\n",
       "      <th>human_answer</th>\n",
       "      <th>ai_answer</th>\n",
       "    </tr>\n",
       "  </thead>\n",
       "  <tbody>\n",
       "    <tr>\n",
       "      <th>0</th>\n",
       "      <td>My daughter (17) has guys who buy her video ga...</td>\n",
       "      <td>thats pretty much [twitch.com](https://twitch....</td>\n",
       "      <td>This is a form of online financial exploitatio...</td>\n",
       "    </tr>\n",
       "    <tr>\n",
       "      <th>1</th>\n",
       "      <td>Ho do you respond to \"I've dated a black guy b...</td>\n",
       "      <td>If it helps my ex had a black co worker who wa...</td>\n",
       "      <td>That's okay. Everyone is entitled to their own...</td>\n",
       "    </tr>\n",
       "    <tr>\n",
       "      <th>2</th>\n",
       "      <td>Why do I get more attention when I am wearing ...</td>\n",
       "      <td>Are they actively flirting with you or just ta...</td>\n",
       "      <td>People may be more likely to pay attention to ...</td>\n",
       "    </tr>\n",
       "    <tr>\n",
       "      <th>3</th>\n",
       "      <td>Do any men actually find these ridiculously lo...</td>\n",
       "      <td>Personally, I find them absolutely hideous. Bu...</td>\n",
       "      <td>No, not really. Most men find natural nails to...</td>\n",
       "    </tr>\n",
       "    <tr>\n",
       "      <th>4</th>\n",
       "      <td>What are you supposed to say when a girl asks ...</td>\n",
       "      <td>My immediate response would be \"yeah I don't d...</td>\n",
       "      <td>It is not appropriate to rate someone in this ...</td>\n",
       "    </tr>\n",
       "    <tr>\n",
       "      <th>5</th>\n",
       "      <td>why doesn’t anyone on flights want their windo...</td>\n",
       "      <td>It gets really bright, and some of us just wan...</td>\n",
       "      <td>Many people enjoy looking out the window durin...</td>\n",
       "    </tr>\n",
       "    <tr>\n",
       "      <th>6</th>\n",
       "      <td>Why do males take so long to poo?</td>\n",
       "      <td>80% of my poo gets released within the first f...</td>\n",
       "      <td>Males typically take longer to poo because the...</td>\n",
       "    </tr>\n",
       "    <tr>\n",
       "      <th>7</th>\n",
       "      <td>Is this a predator?</td>\n",
       "      <td>What the fuck. That is not normal. \\n\\nA subst...</td>\n",
       "      <td>No, this is not a predator.</td>\n",
       "    </tr>\n",
       "  </tbody>\n",
       "</table>\n",
       "</div>"
      ],
      "text/plain": [
       "                                            question  \\\n",
       "0  My daughter (17) has guys who buy her video ga...   \n",
       "1  Ho do you respond to \"I've dated a black guy b...   \n",
       "2  Why do I get more attention when I am wearing ...   \n",
       "3  Do any men actually find these ridiculously lo...   \n",
       "4  What are you supposed to say when a girl asks ...   \n",
       "5  why doesn’t anyone on flights want their windo...   \n",
       "6                  Why do males take so long to poo?   \n",
       "7                                Is this a predator?   \n",
       "\n",
       "                                        human_answer  \\\n",
       "0  thats pretty much [twitch.com](https://twitch....   \n",
       "1  If it helps my ex had a black co worker who wa...   \n",
       "2  Are they actively flirting with you or just ta...   \n",
       "3  Personally, I find them absolutely hideous. Bu...   \n",
       "4  My immediate response would be \"yeah I don't d...   \n",
       "5  It gets really bright, and some of us just wan...   \n",
       "6  80% of my poo gets released within the first f...   \n",
       "7  What the fuck. That is not normal. \\n\\nA subst...   \n",
       "\n",
       "                                           ai_answer  \n",
       "0  This is a form of online financial exploitatio...  \n",
       "1  That's okay. Everyone is entitled to their own...  \n",
       "2  People may be more likely to pay attention to ...  \n",
       "3  No, not really. Most men find natural nails to...  \n",
       "4  It is not appropriate to rate someone in this ...  \n",
       "5  Many people enjoy looking out the window durin...  \n",
       "6  Males typically take longer to poo because the...  \n",
       "7                        No, this is not a predator.  "
      ]
     },
     "execution_count": 26,
     "metadata": {},
     "output_type": "execute_result"
    }
   ],
   "source": [
    "import pandas as pd\n",
    "\n",
    "df_1 = pd.DataFrame(data_group1)\n",
    "df_1"
   ]
  },
  {
   "cell_type": "code",
   "execution_count": null,
   "id": "f034e4da-4694-4620-9145-630d43f6e334",
   "metadata": {},
   "outputs": [],
   "source": []
  }
 ],
 "metadata": {
  "kernelspec": {
   "display_name": "Python 3 (ipykernel)",
   "language": "python",
   "name": "python3"
  },
  "language_info": {
   "codemirror_mode": {
    "name": "ipython",
    "version": 3
   },
   "file_extension": ".py",
   "mimetype": "text/x-python",
   "name": "python",
   "nbconvert_exporter": "python",
   "pygments_lexer": "ipython3",
   "version": "3.11.4"
  }
 },
 "nbformat": 4,
 "nbformat_minor": 5
}
