{
 "cells": [
  {
   "cell_type": "code",
   "execution_count": 1,
   "id": "3c3fcdac-d814-47ff-9b71-6237a1b02a06",
   "metadata": {
    "tags": []
   },
   "outputs": [],
   "source": [
    "import pandas as pd\n",
    "import numpy as np"
   ]
  },
  {
   "cell_type": "code",
   "execution_count": 3,
   "id": "140e4b89-8d64-4e76-9337-13cdcd74e400",
   "metadata": {
    "tags": []
   },
   "outputs": [],
   "source": [
    "askreddit = pd.read_csv('askreddit_reddit_0to880.csv')"
   ]
  },
  {
   "cell_type": "code",
   "execution_count": 4,
   "id": "16e7817a-d665-4a1b-ae7a-ec726f609a82",
   "metadata": {
    "tags": []
   },
   "outputs": [
    {
     "data": {
      "text/html": [
       "<div>\n",
       "<style scoped>\n",
       "    .dataframe tbody tr th:only-of-type {\n",
       "        vertical-align: middle;\n",
       "    }\n",
       "\n",
       "    .dataframe tbody tr th {\n",
       "        vertical-align: top;\n",
       "    }\n",
       "\n",
       "    .dataframe thead th {\n",
       "        text-align: right;\n",
       "    }\n",
       "</style>\n",
       "<table border=\"1\" class=\"dataframe\">\n",
       "  <thead>\n",
       "    <tr style=\"text-align: right;\">\n",
       "      <th></th>\n",
       "      <th>Unnamed: 0</th>\n",
       "      <th>question</th>\n",
       "      <th>human_answer</th>\n",
       "      <th>ai_answer</th>\n",
       "    </tr>\n",
       "  </thead>\n",
       "  <tbody>\n",
       "    <tr>\n",
       "      <th>0</th>\n",
       "      <td>0</td>\n",
       "      <td>People who haven't pooped in 2019 yet, why are...</td>\n",
       "      <td>It's all I have</td>\n",
       "      <td>That's a good question! It's likely that a per...</td>\n",
       "    </tr>\n",
       "    <tr>\n",
       "      <th>1</th>\n",
       "      <td>1</td>\n",
       "      <td>Would you watch a show where a billionaire CEO...</td>\n",
       "      <td>3 months minimum and I'd watch it\\n\\nThanks fo...</td>\n",
       "      <td>Yes, I would watch a show like that. I think i...</td>\n",
       "    </tr>\n",
       "    <tr>\n",
       "      <th>2</th>\n",
       "      <td>2</td>\n",
       "      <td>What if God came down one day and said \"It's p...</td>\n",
       "      <td>“I recognize the council has made a decision, ...</td>\n",
       "      <td>If God came down one day and said \"It's pronou...</td>\n",
       "    </tr>\n",
       "  </tbody>\n",
       "</table>\n",
       "</div>"
      ],
      "text/plain": [
       "   Unnamed: 0                                           question  \\\n",
       "0           0  People who haven't pooped in 2019 yet, why are...   \n",
       "1           1  Would you watch a show where a billionaire CEO...   \n",
       "2           2  What if God came down one day and said \"It's p...   \n",
       "\n",
       "                                        human_answer  \\\n",
       "0                                    It's all I have   \n",
       "1  3 months minimum and I'd watch it\\n\\nThanks fo...   \n",
       "2  “I recognize the council has made a decision, ...   \n",
       "\n",
       "                                           ai_answer  \n",
       "0  That's a good question! It's likely that a per...  \n",
       "1  Yes, I would watch a show like that. I think i...  \n",
       "2  If God came down one day and said \"It's pronou...  "
      ]
     },
     "execution_count": 4,
     "metadata": {},
     "output_type": "execute_result"
    }
   ],
   "source": [
    "askreddit.head(3)"
   ]
  },
  {
   "cell_type": "code",
   "execution_count": 5,
   "id": "fdf80bc8-b36a-429f-9049-e5f1c826fb41",
   "metadata": {
    "tags": []
   },
   "outputs": [
    {
     "data": {
      "text/html": [
       "<div>\n",
       "<style scoped>\n",
       "    .dataframe tbody tr th:only-of-type {\n",
       "        vertical-align: middle;\n",
       "    }\n",
       "\n",
       "    .dataframe tbody tr th {\n",
       "        vertical-align: top;\n",
       "    }\n",
       "\n",
       "    .dataframe thead th {\n",
       "        text-align: right;\n",
       "    }\n",
       "</style>\n",
       "<table border=\"1\" class=\"dataframe\">\n",
       "  <thead>\n",
       "    <tr style=\"text-align: right;\">\n",
       "      <th></th>\n",
       "      <th>Unnamed: 0</th>\n",
       "      <th>question</th>\n",
       "      <th>human_answer</th>\n",
       "      <th>ai_answer</th>\n",
       "    </tr>\n",
       "  </thead>\n",
       "  <tbody>\n",
       "    <tr>\n",
       "      <th>0</th>\n",
       "      <td>0</td>\n",
       "      <td>[MCU] Does Doctor Strange remember all the tim...</td>\n",
       "      <td>Yes. This is part of the reason he's so much m...</td>\n",
       "      <td>No, Doctor Strange does not remember the times...</td>\n",
       "    </tr>\n",
       "    <tr>\n",
       "      <th>1</th>\n",
       "      <td>1</td>\n",
       "      <td>[Marvel] I'm a very low-level supervillain tha...</td>\n",
       "      <td>Okay. \"Reveal\" that you were actually being mi...</td>\n",
       "      <td>Unfortunately, you will be arrested and charge...</td>\n",
       "    </tr>\n",
       "    <tr>\n",
       "      <th>2</th>\n",
       "      <td>2</td>\n",
       "      <td>[LOTR] Gandalf says \"the world is gnawed by na...</td>\n",
       "      <td>I always thought that to mean Gandalf knew of ...</td>\n",
       "      <td>No, not necessarily. Gandalf is likely referri...</td>\n",
       "    </tr>\n",
       "  </tbody>\n",
       "</table>\n",
       "</div>"
      ],
      "text/plain": [
       "   Unnamed: 0                                           question  \\\n",
       "0           0  [MCU] Does Doctor Strange remember all the tim...   \n",
       "1           1  [Marvel] I'm a very low-level supervillain tha...   \n",
       "2           2  [LOTR] Gandalf says \"the world is gnawed by na...   \n",
       "\n",
       "                                        human_answer  \\\n",
       "0  Yes. This is part of the reason he's so much m...   \n",
       "1  Okay. \"Reveal\" that you were actually being mi...   \n",
       "2  I always thought that to mean Gandalf knew of ...   \n",
       "\n",
       "                                           ai_answer  \n",
       "0  No, Doctor Strange does not remember the times...  \n",
       "1  Unfortunately, you will be arrested and charge...  \n",
       "2  No, not necessarily. Gandalf is likely referri...  "
      ]
     },
     "execution_count": 5,
     "metadata": {},
     "output_type": "execute_result"
    }
   ],
   "source": [
    "asksciencefiction = pd.read_csv('asksciencefiction_reddit_0to880.csv')\n",
    "asksciencefiction.head(3)"
   ]
  },
  {
   "cell_type": "code",
   "execution_count": 6,
   "id": "d3836272-9f19-4cd9-9d4f-b4d26fb7954a",
   "metadata": {
    "tags": []
   },
   "outputs": [
    {
     "data": {
      "text/html": [
       "<div>\n",
       "<style scoped>\n",
       "    .dataframe tbody tr th:only-of-type {\n",
       "        vertical-align: middle;\n",
       "    }\n",
       "\n",
       "    .dataframe tbody tr th {\n",
       "        vertical-align: top;\n",
       "    }\n",
       "\n",
       "    .dataframe thead th {\n",
       "        text-align: right;\n",
       "    }\n",
       "</style>\n",
       "<table border=\"1\" class=\"dataframe\">\n",
       "  <thead>\n",
       "    <tr style=\"text-align: right;\">\n",
       "      <th></th>\n",
       "      <th>Unnamed: 0</th>\n",
       "      <th>question</th>\n",
       "      <th>human_answer</th>\n",
       "      <th>ai_answer</th>\n",
       "    </tr>\n",
       "  </thead>\n",
       "  <tbody>\n",
       "    <tr>\n",
       "      <th>0</th>\n",
       "      <td>0</td>\n",
       "      <td>My husband hasn’t spoken to me in a week. How ...</td>\n",
       "      <td>Ok…I’m NOT a typical redditor…I’m an old marri...</td>\n",
       "      <td>It can be difficult to handle the silent treat...</td>\n",
       "    </tr>\n",
       "    <tr>\n",
       "      <th>1</th>\n",
       "      <td>1</td>\n",
       "      <td>Why do I get more attention when I am wearing ...</td>\n",
       "      <td>Are they actively flirting with you or just ta...</td>\n",
       "      <td>It is likely that people are drawn to the ring...</td>\n",
       "    </tr>\n",
       "    <tr>\n",
       "      <th>2</th>\n",
       "      <td>2</td>\n",
       "      <td>Is it rude to spend 3+ hours studying in a res...</td>\n",
       "      <td>If it isn't busy and you make a purchase, you'...</td>\n",
       "      <td>It depends on the restaurant/café and the circ...</td>\n",
       "    </tr>\n",
       "  </tbody>\n",
       "</table>\n",
       "</div>"
      ],
      "text/plain": [
       "   Unnamed: 0                                           question  \\\n",
       "0           0  My husband hasn’t spoken to me in a week. How ...   \n",
       "1           1  Why do I get more attention when I am wearing ...   \n",
       "2           2  Is it rude to spend 3+ hours studying in a res...   \n",
       "\n",
       "                                        human_answer  \\\n",
       "0  Ok…I’m NOT a typical redditor…I’m an old marri...   \n",
       "1  Are they actively flirting with you or just ta...   \n",
       "2  If it isn't busy and you make a purchase, you'...   \n",
       "\n",
       "                                           ai_answer  \n",
       "0  It can be difficult to handle the silent treat...  \n",
       "1  It is likely that people are drawn to the ring...  \n",
       "2  It depends on the restaurant/café and the circ...  "
      ]
     },
     "execution_count": 6,
     "metadata": {},
     "output_type": "execute_result"
    }
   ],
   "source": [
    "data_0to199 = pd.read_csv('data_group_0to199.csv')\n",
    "data_0to199.head(3)"
   ]
  },
  {
   "cell_type": "code",
   "execution_count": 7,
   "id": "d2453bbf-d9c0-4fd8-89e4-6a7ac641ac1c",
   "metadata": {
    "tags": []
   },
   "outputs": [
    {
     "data": {
      "text/html": [
       "<div>\n",
       "<style scoped>\n",
       "    .dataframe tbody tr th:only-of-type {\n",
       "        vertical-align: middle;\n",
       "    }\n",
       "\n",
       "    .dataframe tbody tr th {\n",
       "        vertical-align: top;\n",
       "    }\n",
       "\n",
       "    .dataframe thead th {\n",
       "        text-align: right;\n",
       "    }\n",
       "</style>\n",
       "<table border=\"1\" class=\"dataframe\">\n",
       "  <thead>\n",
       "    <tr style=\"text-align: right;\">\n",
       "      <th></th>\n",
       "      <th>Unnamed: 0</th>\n",
       "      <th>question</th>\n",
       "      <th>human_answer</th>\n",
       "      <th>ai_answer</th>\n",
       "    </tr>\n",
       "  </thead>\n",
       "  <tbody>\n",
       "    <tr>\n",
       "      <th>0</th>\n",
       "      <td>0</td>\n",
       "      <td>How does an autistic male in his mid-20s go ab...</td>\n",
       "      <td>What hobbies or interests do you have? Because...</td>\n",
       "      <td>?\\n\\nThe best way for an autistic male in his ...</td>\n",
       "    </tr>\n",
       "    <tr>\n",
       "      <th>1</th>\n",
       "      <td>1</td>\n",
       "      <td>If we haven't seen/heard of a time traveler, w...</td>\n",
       "      <td>That would be a logical conclusion.</td>\n",
       "      <td>No, it does not necessarily mean that time tra...</td>\n",
       "    </tr>\n",
       "    <tr>\n",
       "      <th>2</th>\n",
       "      <td>2</td>\n",
       "      <td>Why didnt Stalin attack Hitler first before op...</td>\n",
       "      <td>He was in no position to even consider such a ...</td>\n",
       "      <td>Stalin had a non-aggression pact with Hitler, ...</td>\n",
       "    </tr>\n",
       "  </tbody>\n",
       "</table>\n",
       "</div>"
      ],
      "text/plain": [
       "   Unnamed: 0                                           question  \\\n",
       "0           0  How does an autistic male in his mid-20s go ab...   \n",
       "1           1  If we haven't seen/heard of a time traveler, w...   \n",
       "2           2  Why didnt Stalin attack Hitler first before op...   \n",
       "\n",
       "                                        human_answer  \\\n",
       "0  What hobbies or interests do you have? Because...   \n",
       "1                That would be a logical conclusion.   \n",
       "2  He was in no position to even consider such a ...   \n",
       "\n",
       "                                           ai_answer  \n",
       "0  ?\\n\\nThe best way for an autistic male in his ...  \n",
       "1  No, it does not necessarily mean that time tra...  \n",
       "2  Stalin had a non-aggression pact with Hitler, ...  "
      ]
     },
     "execution_count": 7,
     "metadata": {},
     "output_type": "execute_result"
    }
   ],
   "source": [
    "data_200to399 = pd.read_csv('data_group_200to399.csv')\n",
    "data_200to399.head(3)"
   ]
  },
  {
   "cell_type": "code",
   "execution_count": 8,
   "id": "9145c752-cb87-4790-9df0-f84e8bae9ec0",
   "metadata": {
    "tags": []
   },
   "outputs": [
    {
     "data": {
      "text/html": [
       "<div>\n",
       "<style scoped>\n",
       "    .dataframe tbody tr th:only-of-type {\n",
       "        vertical-align: middle;\n",
       "    }\n",
       "\n",
       "    .dataframe tbody tr th {\n",
       "        vertical-align: top;\n",
       "    }\n",
       "\n",
       "    .dataframe thead th {\n",
       "        text-align: right;\n",
       "    }\n",
       "</style>\n",
       "<table border=\"1\" class=\"dataframe\">\n",
       "  <thead>\n",
       "    <tr style=\"text-align: right;\">\n",
       "      <th></th>\n",
       "      <th>Unnamed: 0</th>\n",
       "      <th>question</th>\n",
       "      <th>human_answer</th>\n",
       "      <th>ai_answer</th>\n",
       "    </tr>\n",
       "  </thead>\n",
       "  <tbody>\n",
       "    <tr>\n",
       "      <th>0</th>\n",
       "      <td>0</td>\n",
       "      <td>How is rape traumatic?</td>\n",
       "      <td>[deleted]</td>\n",
       "      <td>Rape is a traumatic experience for survivors b...</td>\n",
       "    </tr>\n",
       "    <tr>\n",
       "      <th>1</th>\n",
       "      <td>1</td>\n",
       "      <td>What would your shit look like if your diet co...</td>\n",
       "      <td>^(Hey quick question but)\\n\\n#what the fuck?</td>\n",
       "      <td>If your diet consisted solely of horse semen f...</td>\n",
       "    </tr>\n",
       "    <tr>\n",
       "      <th>2</th>\n",
       "      <td>2</td>\n",
       "      <td>Do you think anyone was planning a recent mass...</td>\n",
       "      <td>I was thinking about this today. What if there...</td>\n",
       "      <td>It is impossible to know if anyone was plannin...</td>\n",
       "    </tr>\n",
       "  </tbody>\n",
       "</table>\n",
       "</div>"
      ],
      "text/plain": [
       "   Unnamed: 0                                           question  \\\n",
       "0           0                             How is rape traumatic?   \n",
       "1           1  What would your shit look like if your diet co...   \n",
       "2           2  Do you think anyone was planning a recent mass...   \n",
       "\n",
       "                                        human_answer  \\\n",
       "0                                          [deleted]   \n",
       "1       ^(Hey quick question but)\\n\\n#what the fuck?   \n",
       "2  I was thinking about this today. What if there...   \n",
       "\n",
       "                                           ai_answer  \n",
       "0  Rape is a traumatic experience for survivors b...  \n",
       "1  If your diet consisted solely of horse semen f...  \n",
       "2  It is impossible to know if anyone was plannin...  "
      ]
     },
     "execution_count": 8,
     "metadata": {},
     "output_type": "execute_result"
    }
   ],
   "source": [
    "morbidquestions = pd.read_csv('morbidquestions_reddit_0to880.csv')\n",
    "morbidquestions.head(3)"
   ]
  },
  {
   "cell_type": "code",
   "execution_count": 9,
   "id": "b589c21d-1f10-452b-a771-bb2600a86776",
   "metadata": {
    "tags": []
   },
   "outputs": [
    {
     "data": {
      "text/html": [
       "<div>\n",
       "<style scoped>\n",
       "    .dataframe tbody tr th:only-of-type {\n",
       "        vertical-align: middle;\n",
       "    }\n",
       "\n",
       "    .dataframe tbody tr th {\n",
       "        vertical-align: top;\n",
       "    }\n",
       "\n",
       "    .dataframe thead th {\n",
       "        text-align: right;\n",
       "    }\n",
       "</style>\n",
       "<table border=\"1\" class=\"dataframe\">\n",
       "  <thead>\n",
       "    <tr style=\"text-align: right;\">\n",
       "      <th></th>\n",
       "      <th>Unnamed: 0</th>\n",
       "      <th>question</th>\n",
       "      <th>human_answer</th>\n",
       "      <th>ai_answer</th>\n",
       "    </tr>\n",
       "  </thead>\n",
       "  <tbody>\n",
       "    <tr>\n",
       "      <th>0</th>\n",
       "      <td>0</td>\n",
       "      <td>What are Florida ounces?</td>\n",
       "      <td>\"Fl oz\" stands for \"fluid ounces,\" not Florida.</td>\n",
       "      <td>Florida ounces refer to the amount of medical ...</td>\n",
       "    </tr>\n",
       "    <tr>\n",
       "      <th>1</th>\n",
       "      <td>1</td>\n",
       "      <td>Why is it \"price gouging\" when people resell s...</td>\n",
       "      <td>Price gouging doesn't mean \"charging an unfair...</td>\n",
       "      <td>Price gouging is when a seller increases the p...</td>\n",
       "    </tr>\n",
       "    <tr>\n",
       "      <th>2</th>\n",
       "      <td>2</td>\n",
       "      <td>Is Reddit actually making it so you can get co...</td>\n",
       "      <td>~~It's true.~~  I got them.  [Proof](https://i...</td>\n",
       "      <td>No, Reddit does not offer coins for upvoting.</td>\n",
       "    </tr>\n",
       "  </tbody>\n",
       "</table>\n",
       "</div>"
      ],
      "text/plain": [
       "   Unnamed: 0                                           question  \\\n",
       "0           0                           What are Florida ounces?   \n",
       "1           1  Why is it \"price gouging\" when people resell s...   \n",
       "2           2  Is Reddit actually making it so you can get co...   \n",
       "\n",
       "                                        human_answer  \\\n",
       "0    \"Fl oz\" stands for \"fluid ounces,\" not Florida.   \n",
       "1  Price gouging doesn't mean \"charging an unfair...   \n",
       "2  ~~It's true.~~  I got them.  [Proof](https://i...   \n",
       "\n",
       "                                           ai_answer  \n",
       "0  Florida ounces refer to the amount of medical ...  \n",
       "1  Price gouging is when a seller increases the p...  \n",
       "2      No, Reddit does not offer coins for upvoting.  "
      ]
     },
     "execution_count": 9,
     "metadata": {},
     "output_type": "execute_result"
    }
   ],
   "source": [
    "nostupidquestion = pd.read_csv('nostupidquestion_reddit_0to880.csv')\n",
    "nostupidquestion.head(3)"
   ]
  },
  {
   "cell_type": "code",
   "execution_count": 10,
   "id": "43c37e35-e262-47c6-af84-b96364416b63",
   "metadata": {
    "tags": []
   },
   "outputs": [
    {
     "data": {
      "text/html": [
       "<div>\n",
       "<style scoped>\n",
       "    .dataframe tbody tr th:only-of-type {\n",
       "        vertical-align: middle;\n",
       "    }\n",
       "\n",
       "    .dataframe tbody tr th {\n",
       "        vertical-align: top;\n",
       "    }\n",
       "\n",
       "    .dataframe thead th {\n",
       "        text-align: right;\n",
       "    }\n",
       "</style>\n",
       "<table border=\"1\" class=\"dataframe\">\n",
       "  <thead>\n",
       "    <tr style=\"text-align: right;\">\n",
       "      <th></th>\n",
       "      <th>Unnamed: 0</th>\n",
       "      <th>question</th>\n",
       "      <th>human_answer</th>\n",
       "      <th>ai_answer</th>\n",
       "    </tr>\n",
       "  </thead>\n",
       "  <tbody>\n",
       "    <tr>\n",
       "      <th>0</th>\n",
       "      <td>0</td>\n",
       "      <td>Why are females expected to wear the most tigh...</td>\n",
       "      <td>Because people suck. No other way to put it. W...</td>\n",
       "      <td>This expectation is rooted in gender norms and...</td>\n",
       "    </tr>\n",
       "    <tr>\n",
       "      <th>1</th>\n",
       "      <td>1</td>\n",
       "      <td>At work I was called racist and I don't know w...</td>\n",
       "      <td>Don't talk to people at work about this kind o...</td>\n",
       "      <td>It is difficult to say without knowing more ab...</td>\n",
       "    </tr>\n",
       "    <tr>\n",
       "      <th>2</th>\n",
       "      <td>2</td>\n",
       "      <td>Why is it so normal for American teens to have...</td>\n",
       "      <td>I had a job at 16 and between that and saving ...</td>\n",
       "      <td>Many American teens are able to afford cars by...</td>\n",
       "    </tr>\n",
       "  </tbody>\n",
       "</table>\n",
       "</div>"
      ],
      "text/plain": [
       "   Unnamed: 0                                           question  \\\n",
       "0           0  Why are females expected to wear the most tigh...   \n",
       "1           1  At work I was called racist and I don't know w...   \n",
       "2           2  Why is it so normal for American teens to have...   \n",
       "\n",
       "                                        human_answer  \\\n",
       "0  Because people suck. No other way to put it. W...   \n",
       "1  Don't talk to people at work about this kind o...   \n",
       "2  I had a job at 16 and between that and saving ...   \n",
       "\n",
       "                                           ai_answer  \n",
       "0  This expectation is rooted in gender norms and...  \n",
       "1  It is difficult to say without knowing more ab...  \n",
       "2  Many American teens are able to afford cars by...  "
      ]
     },
     "execution_count": 10,
     "metadata": {},
     "output_type": "execute_result"
    }
   ],
   "source": [
    "question = pd.read_csv('question_reddit_0to880.csv')\n",
    "question.head(3)"
   ]
  },
  {
   "cell_type": "code",
   "execution_count": 11,
   "id": "e5baa1d2-66f4-4e4a-8e7f-afe5544fa1f4",
   "metadata": {
    "tags": []
   },
   "outputs": [
    {
     "data": {
      "text/html": [
       "<div>\n",
       "<style scoped>\n",
       "    .dataframe tbody tr th:only-of-type {\n",
       "        vertical-align: middle;\n",
       "    }\n",
       "\n",
       "    .dataframe tbody tr th {\n",
       "        vertical-align: top;\n",
       "    }\n",
       "\n",
       "    .dataframe thead th {\n",
       "        text-align: right;\n",
       "    }\n",
       "</style>\n",
       "<table border=\"1\" class=\"dataframe\">\n",
       "  <thead>\n",
       "    <tr style=\"text-align: right;\">\n",
       "      <th></th>\n",
       "      <th>Unnamed: 0</th>\n",
       "      <th>question</th>\n",
       "      <th>human_answer</th>\n",
       "      <th>ai_answer</th>\n",
       "    </tr>\n",
       "  </thead>\n",
       "  <tbody>\n",
       "    <tr>\n",
       "      <th>0</th>\n",
       "      <td>0</td>\n",
       "      <td>Why does nobody seem to care about the fact th...</td>\n",
       "      <td>People care a lot. They’re just scared China w...</td>\n",
       "      <td>The issue of China's concentration camps is an...</td>\n",
       "    </tr>\n",
       "    <tr>\n",
       "      <th>1</th>\n",
       "      <td>1</td>\n",
       "      <td>Why does everyone write ages the wrong way on ...</td>\n",
       "      <td>I ALWAYS have to re-read them because it isn’t...</td>\n",
       "      <td>People on Reddit often write ages in a shortha...</td>\n",
       "    </tr>\n",
       "    <tr>\n",
       "      <th>2</th>\n",
       "      <td>2</td>\n",
       "      <td>Why would Satan burn you in hell for disobeyin...</td>\n",
       "      <td>I think satan just gives you a tour and shows ...</td>\n",
       "      <td>Satan is not the one who would be punishing an...</td>\n",
       "    </tr>\n",
       "  </tbody>\n",
       "</table>\n",
       "</div>"
      ],
      "text/plain": [
       "   Unnamed: 0                                           question  \\\n",
       "0           0  Why does nobody seem to care about the fact th...   \n",
       "1           1  Why does everyone write ages the wrong way on ...   \n",
       "2           2  Why would Satan burn you in hell for disobeyin...   \n",
       "\n",
       "                                        human_answer  \\\n",
       "0  People care a lot. They’re just scared China w...   \n",
       "1  I ALWAYS have to re-read them because it isn’t...   \n",
       "2  I think satan just gives you a tour and shows ...   \n",
       "\n",
       "                                           ai_answer  \n",
       "0  The issue of China's concentration camps is an...  \n",
       "1  People on Reddit often write ages in a shortha...  \n",
       "2  Satan is not the one who would be punishing an...  "
      ]
     },
     "execution_count": 11,
     "metadata": {},
     "output_type": "execute_result"
    }
   ],
   "source": [
    "tooafraidtoask = pd.read_csv('tooafraidtoask_reddit_0to880.csv')\n",
    "tooafraidtoask.head(3)"
   ]
  },
  {
   "cell_type": "code",
   "execution_count": 12,
   "id": "57687fe3-800e-4d7a-b36f-f6ae935239d9",
   "metadata": {
    "tags": []
   },
   "outputs": [],
   "source": [
    "project3_data = pd.concat([askreddit,asksciencefiction,data_0to199,data_200to399,morbidquestions,\n",
    "                           nostupidquestion,question,tooafraidtoask],ignore_index=True, sort = False)"
   ]
  },
  {
   "cell_type": "code",
   "execution_count": 13,
   "id": "0b8753ef-8737-4a04-890f-046d99e3e006",
   "metadata": {
    "tags": []
   },
   "outputs": [
    {
     "data": {
      "text/html": [
       "<div>\n",
       "<style scoped>\n",
       "    .dataframe tbody tr th:only-of-type {\n",
       "        vertical-align: middle;\n",
       "    }\n",
       "\n",
       "    .dataframe tbody tr th {\n",
       "        vertical-align: top;\n",
       "    }\n",
       "\n",
       "    .dataframe thead th {\n",
       "        text-align: right;\n",
       "    }\n",
       "</style>\n",
       "<table border=\"1\" class=\"dataframe\">\n",
       "  <thead>\n",
       "    <tr style=\"text-align: right;\">\n",
       "      <th></th>\n",
       "      <th>Unnamed: 0</th>\n",
       "      <th>question</th>\n",
       "      <th>human_answer</th>\n",
       "      <th>ai_answer</th>\n",
       "    </tr>\n",
       "  </thead>\n",
       "  <tbody>\n",
       "    <tr>\n",
       "      <th>0</th>\n",
       "      <td>0</td>\n",
       "      <td>People who haven't pooped in 2019 yet, why are...</td>\n",
       "      <td>It's all I have</td>\n",
       "      <td>That's a good question! It's likely that a per...</td>\n",
       "    </tr>\n",
       "    <tr>\n",
       "      <th>1</th>\n",
       "      <td>1</td>\n",
       "      <td>Would you watch a show where a billionaire CEO...</td>\n",
       "      <td>3 months minimum and I'd watch it\\n\\nThanks fo...</td>\n",
       "      <td>Yes, I would watch a show like that. I think i...</td>\n",
       "    </tr>\n",
       "    <tr>\n",
       "      <th>2</th>\n",
       "      <td>2</td>\n",
       "      <td>What if God came down one day and said \"It's p...</td>\n",
       "      <td>“I recognize the council has made a decision, ...</td>\n",
       "      <td>If God came down one day and said \"It's pronou...</td>\n",
       "    </tr>\n",
       "  </tbody>\n",
       "</table>\n",
       "</div>"
      ],
      "text/plain": [
       "   Unnamed: 0                                           question  \\\n",
       "0           0  People who haven't pooped in 2019 yet, why are...   \n",
       "1           1  Would you watch a show where a billionaire CEO...   \n",
       "2           2  What if God came down one day and said \"It's p...   \n",
       "\n",
       "                                        human_answer  \\\n",
       "0                                    It's all I have   \n",
       "1  3 months minimum and I'd watch it\\n\\nThanks fo...   \n",
       "2  “I recognize the council has made a decision, ...   \n",
       "\n",
       "                                           ai_answer  \n",
       "0  That's a good question! It's likely that a per...  \n",
       "1  Yes, I would watch a show like that. I think i...  \n",
       "2  If God came down one day and said \"It's pronou...  "
      ]
     },
     "execution_count": 13,
     "metadata": {},
     "output_type": "execute_result"
    }
   ],
   "source": [
    "project3_data.head(3)"
   ]
  },
  {
   "cell_type": "code",
   "execution_count": 14,
   "id": "d2fe38c4-6f83-4e73-b055-b30ad972525a",
   "metadata": {
    "tags": []
   },
   "outputs": [
    {
     "data": {
      "text/plain": [
       "(5730, 4)"
      ]
     },
     "execution_count": 14,
     "metadata": {},
     "output_type": "execute_result"
    }
   ],
   "source": [
    "project3_data.shape"
   ]
  },
  {
   "cell_type": "code",
   "execution_count": 21,
   "id": "d389166d-9950-40d2-8596-fdd1c32ac08b",
   "metadata": {
    "tags": []
   },
   "outputs": [
    {
     "data": {
      "text/plain": [
       "(217, 4)"
      ]
     },
     "execution_count": 21,
     "metadata": {},
     "output_type": "execute_result"
    }
   ],
   "source": [
    "project3_data.loc[project3_data['human_answer']=='[deleted]'].shape"
   ]
  },
  {
   "cell_type": "code",
   "execution_count": 19,
   "id": "c6a7cf42-a379-4d59-b81e-8ff83a69c476",
   "metadata": {
    "tags": []
   },
   "outputs": [],
   "source": [
    "project3_data.to_csv('project3_data.csv')"
   ]
  },
  {
   "cell_type": "code",
   "execution_count": null,
   "id": "c82aec76-512d-4072-8cf0-9fb45d45d47f",
   "metadata": {},
   "outputs": [],
   "source": [
    "#df2 = df[df['Courses'].duplicated() == True]\n"
   ]
  },
  {
   "cell_type": "code",
   "execution_count": 22,
   "id": "32a255c0-1728-47be-9d45-f747c50f9f4a",
   "metadata": {
    "tags": []
   },
   "outputs": [
    {
     "data": {
      "text/plain": [
       "(19, 4)"
      ]
     },
     "execution_count": 22,
     "metadata": {},
     "output_type": "execute_result"
    }
   ],
   "source": [
    "dup = project3_data[project3_data.duplicated('question')]\n",
    "dup.shape"
   ]
  },
  {
   "cell_type": "code",
   "execution_count": null,
   "id": "a665c566-0369-488c-ab19-b9fa2091c98e",
   "metadata": {},
   "outputs": [],
   "source": []
  }
 ],
 "metadata": {
  "kernelspec": {
   "display_name": "Python 3 (ipykernel)",
   "language": "python",
   "name": "python3"
  },
  "language_info": {
   "codemirror_mode": {
    "name": "ipython",
    "version": 3
   },
   "file_extension": ".py",
   "mimetype": "text/x-python",
   "name": "python",
   "nbconvert_exporter": "python",
   "pygments_lexer": "ipython3",
   "version": "3.11.4"
  }
 },
 "nbformat": 4,
 "nbformat_minor": 5
}
